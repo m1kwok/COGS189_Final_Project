{
 "cells": [
  {
   "cell_type": "code",
   "execution_count": 1,
   "metadata": {},
   "outputs": [],
   "source": [
    "import numpy as np\n",
    "import matplotlib.pyplot as plt\n",
    "import pandas as pd\n",
    "import seaborn as sns; sns.set_style('white')  # plot formatting\n",
    "from sklearn.pipeline import Pipeline\n",
    "from sklearn.preprocessing import StandardScaler\n",
    "from sklearn.model_selection import StratifiedKFold\n",
    "\n",
    "\n",
    "# Algorithms\n",
    "from sklearn.discriminant_analysis import LinearDiscriminantAnalysis\n",
    "from sklearn.model_selection import train_test_split, GridSearchCV\n",
    "from sklearn.svm import SVC, LinearSVC\n",
    "from sklearn.metrics import accuracy_score\n",
    "from sklearn.neighbors import KNeighborsClassifier\n",
    "\n",
    "# Import data\n",
    "data = pd.read_csv('Data/Filtered_Data.csv')"
   ]
  },
  {
   "cell_type": "code",
   "execution_count": 2,
   "metadata": {},
   "outputs": [
    {
     "data": {
      "text/html": [
       "<div>\n",
       "<style scoped>\n",
       "    .dataframe tbody tr th:only-of-type {\n",
       "        vertical-align: middle;\n",
       "    }\n",
       "\n",
       "    .dataframe tbody tr th {\n",
       "        vertical-align: top;\n",
       "    }\n",
       "\n",
       "    .dataframe thead th {\n",
       "        text-align: right;\n",
       "    }\n",
       "</style>\n",
       "<table border=\"1\" class=\"dataframe\">\n",
       "  <thead>\n",
       "    <tr style=\"text-align: right;\">\n",
       "      <th></th>\n",
       "      <th>participant</th>\n",
       "      <th>open</th>\n",
       "      <th>closed</th>\n",
       "      <th>label (0 for not depressed, 1 for depressed)</th>\n",
       "      <th>BDI</th>\n",
       "    </tr>\n",
       "  </thead>\n",
       "  <tbody>\n",
       "    <tr>\n",
       "      <th>0</th>\n",
       "      <td>509</td>\n",
       "      <td>491.109212</td>\n",
       "      <td>408.343868</td>\n",
       "      <td>0</td>\n",
       "      <td>7</td>\n",
       "    </tr>\n",
       "    <tr>\n",
       "      <th>1</th>\n",
       "      <td>519</td>\n",
       "      <td>324.802986</td>\n",
       "      <td>963.380921</td>\n",
       "      <td>0</td>\n",
       "      <td>6</td>\n",
       "    </tr>\n",
       "    <tr>\n",
       "      <th>2</th>\n",
       "      <td>542</td>\n",
       "      <td>450.667603</td>\n",
       "      <td>451.559918</td>\n",
       "      <td>0</td>\n",
       "      <td>0</td>\n",
       "    </tr>\n",
       "    <tr>\n",
       "      <th>3</th>\n",
       "      <td>545</td>\n",
       "      <td>356.680814</td>\n",
       "      <td>790.636981</td>\n",
       "      <td>0</td>\n",
       "      <td>0</td>\n",
       "    </tr>\n",
       "    <tr>\n",
       "      <th>4</th>\n",
       "      <td>546</td>\n",
       "      <td>700.472825</td>\n",
       "      <td>270.410014</td>\n",
       "      <td>0</td>\n",
       "      <td>5</td>\n",
       "    </tr>\n",
       "  </tbody>\n",
       "</table>\n",
       "</div>"
      ],
      "text/plain": [
       "   participant        open      closed  \\\n",
       "0          509  491.109212  408.343868   \n",
       "1          519  324.802986  963.380921   \n",
       "2          542  450.667603  451.559918   \n",
       "3          545  356.680814  790.636981   \n",
       "4          546  700.472825  270.410014   \n",
       "\n",
       "   label (0 for not depressed, 1 for depressed)  BDI  \n",
       "0                                             0    7  \n",
       "1                                             0    6  \n",
       "2                                             0    0  \n",
       "3                                             0    0  \n",
       "4                                             0    5  "
      ]
     },
     "execution_count": 2,
     "metadata": {},
     "output_type": "execute_result"
    }
   ],
   "source": [
    "data.head()"
   ]
  },
  {
   "cell_type": "code",
   "execution_count": 6,
   "metadata": {},
   "outputs": [],
   "source": [
    "X = data[['open', 'closed']]\n",
    "Y = data['label (0 for not depressed, 1 for depressed)']"
   ]
  },
  {
   "cell_type": "code",
   "execution_count": 7,
   "metadata": {},
   "outputs": [],
   "source": [
    "X_train, X_test, y_train, y_test = train_test_split(X, Y, test_size=0.20, random_state=42)"
   ]
  },
  {
   "cell_type": "code",
   "execution_count": 9,
   "metadata": {},
   "outputs": [
    {
     "data": {
      "text/plain": [
       "(64, 2)"
      ]
     },
     "execution_count": 9,
     "metadata": {},
     "output_type": "execute_result"
    }
   ],
   "source": [
    "X_train.shape"
   ]
  },
  {
   "cell_type": "code",
   "execution_count": 8,
   "metadata": {},
   "outputs": [
    {
     "data": {
      "text/plain": [
       "(64,)"
      ]
     },
     "execution_count": 8,
     "metadata": {},
     "output_type": "execute_result"
    }
   ],
   "source": [
    "y_train.shape"
   ]
  },
  {
   "cell_type": "code",
   "execution_count": 10,
   "metadata": {},
   "outputs": [],
   "source": [
    "# pipe = Pipeline([('std', StandardScaler()),\n",
    "#                  ('classifier1', LinearDiscriminantAnalysis()),\n",
    "#                  ('classifier2', SVC())])\n",
    "#                  #('classifier3', KNeighborsClassifier())])\n",
    "\n",
    "# # Parameters to search\n",
    "# search_space = [{'classifier1': [LinearDiscriminantAnalysis()],\n",
    "#                  'classifier1__solver': ['svd', 'lsqr', 'eigen']},\n",
    "#                 {'classifier2': [SVC()],\n",
    "#                  'classifier2__kernel': ['linear'],\n",
    "#                  'classifier2__C': np.logspace(-4, 4, 9)\n",
    "#                 #{'classifier3': [KNeighborsClassifier()],\n",
    "#                  #'classifier3__weights': ['uniform', 'distance']\n",
    "#                  #'classifier3__n_neighbors': [i for i in range(1,11)]\n",
    "#                 }]\n",
    "\n",
    "# # Create grid search \n",
    "# clf1 = GridSearchCV(pipe, search_space, cv=StratifiedKFold(n_splits=5), \n",
    "#                    scoring='accuracy', refit=True,\n",
    "#                    verbose=0)\n",
    "\n",
    "# # Fit grid search\n",
    "# best_model = clf1.fit(X_train, y_train)"
   ]
  },
  {
   "cell_type": "code",
   "execution_count": 11,
   "metadata": {},
   "outputs": [
    {
     "name": "stderr",
     "output_type": "stream",
     "text": [
      "/opt/conda/lib/python3.7/site-packages/sklearn/model_selection/_search.py:814: DeprecationWarning: The default of the `iid` parameter will change from True to False in version 0.22 and will be removed in 0.24. This will change numeric results when test-set sizes are unequal.\n",
      "  DeprecationWarning)\n"
     ]
    }
   ],
   "source": [
    "pipe_LDA = Pipeline([('std', StandardScaler()),\n",
    "                 ('classifier', LinearDiscriminantAnalysis())])\n",
    "search_space1 = [{'classifier': [LinearDiscriminantAnalysis()],\n",
    "                 'classifier__solver': ['svd', 'lsqr', 'eigen']}]\n",
    "# Create grid search \n",
    "clf = GridSearchCV(pipe_LDA, search_space1, cv=StratifiedKFold(n_splits=5), \n",
    "                   scoring='accuracy', refit=True,\n",
    "                   verbose=0)\n",
    "\n",
    "# Fit grid search\n",
    "best_model_LDA = clf.fit(X_train, y_train)"
   ]
  },
  {
   "cell_type": "code",
   "execution_count": 22,
   "metadata": {},
   "outputs": [],
   "source": [
    "#best_model_LDA.cv_results_"
   ]
  },
  {
   "cell_type": "code",
   "execution_count": 20,
   "metadata": {},
   "outputs": [
    {
     "data": {
      "text/plain": [
       "{'classifier': LinearDiscriminantAnalysis(n_components=None, priors=None, shrinkage=None,\n",
       "                            solver='svd', store_covariance=False, tol=0.0001),\n",
       " 'classifier__solver': 'svd'}"
      ]
     },
     "execution_count": 20,
     "metadata": {},
     "output_type": "execute_result"
    }
   ],
   "source": [
    "best_model_LDA.cv_results_['params'][ np.argmin(best_model_LDA.cv_results_['rank_test_score']) ]"
   ]
  },
  {
   "cell_type": "code",
   "execution_count": 21,
   "metadata": {},
   "outputs": [
    {
     "name": "stderr",
     "output_type": "stream",
     "text": [
      "/opt/conda/lib/python3.7/site-packages/sklearn/model_selection/_search.py:814: DeprecationWarning: The default of the `iid` parameter will change from True to False in version 0.22 and will be removed in 0.24. This will change numeric results when test-set sizes are unequal.\n",
      "  DeprecationWarning)\n"
     ]
    }
   ],
   "source": [
    "pipe_SVC = Pipeline([('std', StandardScaler()),\n",
    "                     ('classifier', SVC())])\n",
    "search_space2 = [{'classifier': [SVC()],\n",
    "                 'classifier__kernel': ['linear'],\n",
    "                 'classifier__C': np.logspace(-4, 4, 9)}]\n",
    "# Create grid search \n",
    "clf2 = GridSearchCV(pipe_SVC, search_space2, cv=StratifiedKFold(n_splits=5), \n",
    "                   scoring='accuracy', refit=True,\n",
    "                   verbose=0)\n",
    "\n",
    "# Fit grid search\n",
    "best_model_SVC = clf2.fit(X_train, y_train)"
   ]
  },
  {
   "cell_type": "code",
   "execution_count": 53,
   "metadata": {},
   "outputs": [
    {
     "data": {
      "text/plain": [
       "{'mean_fit_time': array([0.00515895, 0.00385575, 0.00340171, 0.00330753, 0.00388646,\n",
       "        0.00519519, 0.00505233, 0.00875373, 0.06964278]),\n",
       " 'std_fit_time': array([9.93606623e-04, 1.52632394e-04, 8.11611863e-05, 1.61825634e-05,\n",
       "        1.11142485e-03, 4.94210842e-04, 7.15976019e-04, 4.37424048e-03,\n",
       "        3.69073421e-02]),\n",
       " 'mean_score_time': array([0.00171652, 0.00141439, 0.00125365, 0.00123158, 0.00144057,\n",
       "        0.00184231, 0.00163298, 0.00126219, 0.00204172]),\n",
       " 'std_score_time': array([1.58388452e-04, 8.91538343e-05, 2.09978425e-05, 6.91265880e-06,\n",
       "        3.92765108e-04, 1.33439060e-04, 1.64097493e-04, 2.61361576e-05,\n",
       "        1.27209343e-03]),\n",
       " 'param_classifier': masked_array(data=[SVC(C=0.1, cache_size=200, class_weight=None, coef0=0.0,\n",
       "     decision_function_shape='ovr', degree=3, gamma='auto_deprecated',\n",
       "     kernel='linear', max_iter=-1, probability=False, random_state=None,\n",
       "     shrinking=True, tol=0.001, verbose=False),\n",
       "                    SVC(C=0.1, cache_size=200, class_weight=None, coef0=0.0,\n",
       "     decision_function_shape='ovr', degree=3, gamma='auto_deprecated',\n",
       "     kernel='linear', max_iter=-1, probability=False, random_state=None,\n",
       "     shrinking=True, tol=0.001, verbose=False),\n",
       "                    SVC(C=0.1, cache_size=200, class_weight=None, coef0=0.0,\n",
       "     decision_function_shape='ovr', degree=3, gamma='auto_deprecated',\n",
       "     kernel='linear', max_iter=-1, probability=False, random_state=None,\n",
       "     shrinking=True, tol=0.001, verbose=False),\n",
       "                    SVC(C=0.1, cache_size=200, class_weight=None, coef0=0.0,\n",
       "     decision_function_shape='ovr', degree=3, gamma='auto_deprecated',\n",
       "     kernel='linear', max_iter=-1, probability=False, random_state=None,\n",
       "     shrinking=True, tol=0.001, verbose=False),\n",
       "                    SVC(C=0.1, cache_size=200, class_weight=None, coef0=0.0,\n",
       "     decision_function_shape='ovr', degree=3, gamma='auto_deprecated',\n",
       "     kernel='linear', max_iter=-1, probability=False, random_state=None,\n",
       "     shrinking=True, tol=0.001, verbose=False),\n",
       "                    SVC(C=0.1, cache_size=200, class_weight=None, coef0=0.0,\n",
       "     decision_function_shape='ovr', degree=3, gamma='auto_deprecated',\n",
       "     kernel='linear', max_iter=-1, probability=False, random_state=None,\n",
       "     shrinking=True, tol=0.001, verbose=False),\n",
       "                    SVC(C=0.1, cache_size=200, class_weight=None, coef0=0.0,\n",
       "     decision_function_shape='ovr', degree=3, gamma='auto_deprecated',\n",
       "     kernel='linear', max_iter=-1, probability=False, random_state=None,\n",
       "     shrinking=True, tol=0.001, verbose=False),\n",
       "                    SVC(C=0.1, cache_size=200, class_weight=None, coef0=0.0,\n",
       "     decision_function_shape='ovr', degree=3, gamma='auto_deprecated',\n",
       "     kernel='linear', max_iter=-1, probability=False, random_state=None,\n",
       "     shrinking=True, tol=0.001, verbose=False),\n",
       "                    SVC(C=0.1, cache_size=200, class_weight=None, coef0=0.0,\n",
       "     decision_function_shape='ovr', degree=3, gamma='auto_deprecated',\n",
       "     kernel='linear', max_iter=-1, probability=False, random_state=None,\n",
       "     shrinking=True, tol=0.001, verbose=False)],\n",
       "              mask=[False, False, False, False, False, False, False, False,\n",
       "                    False],\n",
       "        fill_value='?',\n",
       "             dtype=object),\n",
       " 'param_classifier__C': masked_array(data=[0.0001, 0.001, 0.01, 0.1, 1.0, 10.0, 100.0, 1000.0,\n",
       "                    10000.0],\n",
       "              mask=[False, False, False, False, False, False, False, False,\n",
       "                    False],\n",
       "        fill_value='?',\n",
       "             dtype=object),\n",
       " 'param_classifier__kernel': masked_array(data=['linear', 'linear', 'linear', 'linear', 'linear',\n",
       "                    'linear', 'linear', 'linear', 'linear'],\n",
       "              mask=[False, False, False, False, False, False, False, False,\n",
       "                    False],\n",
       "        fill_value='?',\n",
       "             dtype=object),\n",
       " 'params': [{'classifier': SVC(C=0.1, cache_size=200, class_weight=None, coef0=0.0,\n",
       "       decision_function_shape='ovr', degree=3, gamma='auto_deprecated',\n",
       "       kernel='linear', max_iter=-1, probability=False, random_state=None,\n",
       "       shrinking=True, tol=0.001, verbose=False),\n",
       "   'classifier__C': 0.0001,\n",
       "   'classifier__kernel': 'linear'},\n",
       "  {'classifier': SVC(C=0.1, cache_size=200, class_weight=None, coef0=0.0,\n",
       "       decision_function_shape='ovr', degree=3, gamma='auto_deprecated',\n",
       "       kernel='linear', max_iter=-1, probability=False, random_state=None,\n",
       "       shrinking=True, tol=0.001, verbose=False),\n",
       "   'classifier__C': 0.001,\n",
       "   'classifier__kernel': 'linear'},\n",
       "  {'classifier': SVC(C=0.1, cache_size=200, class_weight=None, coef0=0.0,\n",
       "       decision_function_shape='ovr', degree=3, gamma='auto_deprecated',\n",
       "       kernel='linear', max_iter=-1, probability=False, random_state=None,\n",
       "       shrinking=True, tol=0.001, verbose=False),\n",
       "   'classifier__C': 0.01,\n",
       "   'classifier__kernel': 'linear'},\n",
       "  {'classifier': SVC(C=0.1, cache_size=200, class_weight=None, coef0=0.0,\n",
       "       decision_function_shape='ovr', degree=3, gamma='auto_deprecated',\n",
       "       kernel='linear', max_iter=-1, probability=False, random_state=None,\n",
       "       shrinking=True, tol=0.001, verbose=False),\n",
       "   'classifier__C': 0.1,\n",
       "   'classifier__kernel': 'linear'},\n",
       "  {'classifier': SVC(C=0.1, cache_size=200, class_weight=None, coef0=0.0,\n",
       "       decision_function_shape='ovr', degree=3, gamma='auto_deprecated',\n",
       "       kernel='linear', max_iter=-1, probability=False, random_state=None,\n",
       "       shrinking=True, tol=0.001, verbose=False),\n",
       "   'classifier__C': 1.0,\n",
       "   'classifier__kernel': 'linear'},\n",
       "  {'classifier': SVC(C=0.1, cache_size=200, class_weight=None, coef0=0.0,\n",
       "       decision_function_shape='ovr', degree=3, gamma='auto_deprecated',\n",
       "       kernel='linear', max_iter=-1, probability=False, random_state=None,\n",
       "       shrinking=True, tol=0.001, verbose=False),\n",
       "   'classifier__C': 10.0,\n",
       "   'classifier__kernel': 'linear'},\n",
       "  {'classifier': SVC(C=0.1, cache_size=200, class_weight=None, coef0=0.0,\n",
       "       decision_function_shape='ovr', degree=3, gamma='auto_deprecated',\n",
       "       kernel='linear', max_iter=-1, probability=False, random_state=None,\n",
       "       shrinking=True, tol=0.001, verbose=False),\n",
       "   'classifier__C': 100.0,\n",
       "   'classifier__kernel': 'linear'},\n",
       "  {'classifier': SVC(C=0.1, cache_size=200, class_weight=None, coef0=0.0,\n",
       "       decision_function_shape='ovr', degree=3, gamma='auto_deprecated',\n",
       "       kernel='linear', max_iter=-1, probability=False, random_state=None,\n",
       "       shrinking=True, tol=0.001, verbose=False),\n",
       "   'classifier__C': 1000.0,\n",
       "   'classifier__kernel': 'linear'},\n",
       "  {'classifier': SVC(C=0.1, cache_size=200, class_weight=None, coef0=0.0,\n",
       "       decision_function_shape='ovr', degree=3, gamma='auto_deprecated',\n",
       "       kernel='linear', max_iter=-1, probability=False, random_state=None,\n",
       "       shrinking=True, tol=0.001, verbose=False),\n",
       "   'classifier__C': 10000.0,\n",
       "   'classifier__kernel': 'linear'}],\n",
       " 'split0_test_score': array([0.53846154, 0.53846154, 0.53846154, 0.61538462, 0.61538462,\n",
       "        0.61538462, 0.61538462, 0.61538462, 0.61538462]),\n",
       " 'split1_test_score': array([0.53846154, 0.53846154, 0.53846154, 0.61538462, 0.61538462,\n",
       "        0.61538462, 0.61538462, 0.61538462, 0.61538462]),\n",
       " 'split2_test_score': array([0.53846154, 0.53846154, 0.53846154, 0.53846154, 0.53846154,\n",
       "        0.53846154, 0.53846154, 0.53846154, 0.53846154]),\n",
       " 'split3_test_score': array([0.53846154, 0.53846154, 0.53846154, 0.69230769, 0.69230769,\n",
       "        0.69230769, 0.69230769, 0.69230769, 0.69230769]),\n",
       " 'split4_test_score': array([0.58333333, 0.58333333, 0.58333333, 0.58333333, 0.58333333,\n",
       "        0.58333333, 0.58333333, 0.58333333, 0.58333333]),\n",
       " 'mean_test_score': array([0.546875, 0.546875, 0.546875, 0.609375, 0.609375, 0.609375,\n",
       "        0.609375, 0.609375, 0.609375]),\n",
       " 'std_test_score': array([0.01751402, 0.01751402, 0.01751402, 0.05059987, 0.05059987,\n",
       "        0.05059987, 0.05059987, 0.05059987, 0.05059987]),\n",
       " 'rank_test_score': array([7, 7, 7, 1, 1, 1, 1, 1, 1], dtype=int32)}"
      ]
     },
     "execution_count": 53,
     "metadata": {},
     "output_type": "execute_result"
    }
   ],
   "source": [
    "best_model_SVC.cv_results_"
   ]
  },
  {
   "cell_type": "code",
   "execution_count": 24,
   "metadata": {},
   "outputs": [
    {
     "data": {
      "text/plain": [
       "{'classifier': SVC(C=0.1, cache_size=200, class_weight=None, coef0=0.0,\n",
       "     decision_function_shape='ovr', degree=3, gamma='auto_deprecated',\n",
       "     kernel='linear', max_iter=-1, probability=False, random_state=None,\n",
       "     shrinking=True, tol=0.001, verbose=False),\n",
       " 'classifier__C': 0.1,\n",
       " 'classifier__kernel': 'linear'}"
      ]
     },
     "execution_count": 24,
     "metadata": {},
     "output_type": "execute_result"
    }
   ],
   "source": [
    "best_model_SVC.cv_results_['params'][ np.argmin(best_model_SVC.cv_results_['rank_test_score']) ]"
   ]
  },
  {
   "cell_type": "code",
   "execution_count": 39,
   "metadata": {},
   "outputs": [
    {
     "name": "stderr",
     "output_type": "stream",
     "text": [
      "/opt/conda/lib/python3.7/site-packages/sklearn/model_selection/_search.py:814: DeprecationWarning: The default of the `iid` parameter will change from True to False in version 0.22 and will be removed in 0.24. This will change numeric results when test-set sizes are unequal.\n",
      "  DeprecationWarning)\n"
     ]
    }
   ],
   "source": [
    "pipe_KNN = Pipeline([('std', StandardScaler()),\n",
    "                     ('classifier', KNeighborsClassifier())])\n",
    "search_space3 = [{'classifier': [KNeighborsClassifier()],\n",
    "                 'classifier__weights': ['uniform', 'distance'],\n",
    "                 'classifier__n_neighbors': [i for i in range(1,11)],\n",
    "                 'classifier__p': [1, 2]\n",
    "                }]\n",
    "# Create grid search \n",
    "clf3 = GridSearchCV(pipe_KNN, search_space3, cv=StratifiedKFold(n_splits=5), \n",
    "                   scoring='accuracy', refit=True,\n",
    "                   verbose=0)\n",
    "\n",
    "# Fit grid search\n",
    "best_model_KNN = clf3.fit(X_train, y_train)"
   ]
  },
  {
   "cell_type": "code",
   "execution_count": 43,
   "metadata": {},
   "outputs": [
    {
     "data": {
      "text/plain": [
       "{'mean_fit_time': array([0.00500073, 0.00373917, 0.00328741, 0.00324225, 0.00324359,\n",
       "        0.00379734, 0.00454783, 0.00382109, 0.00332355, 0.00323782,\n",
       "        0.00324626, 0.0032351 , 0.003233  , 0.00324707, 0.0032423 ,\n",
       "        0.00323448, 0.00323558, 0.00323687, 0.00330243, 0.00324302,\n",
       "        0.00325127, 0.00324068, 0.00323176, 0.00324216, 0.0032403 ,\n",
       "        0.00245361, 0.00238748, 0.00236373, 0.00244484, 0.00241961,\n",
       "        0.0023572 , 0.00234418, 0.00238099, 0.00234852, 0.00236015,\n",
       "        0.0023777 , 0.00235958, 0.00239081, 0.00236287, 0.00236979]),\n",
       " 'std_fit_time': array([8.66972984e-04, 1.70123670e-04, 7.03262228e-05, 1.50040886e-05,\n",
       "        7.18206043e-06, 1.08889920e-03, 2.47280643e-04, 1.72806562e-04,\n",
       "        7.11314149e-05, 5.10148909e-06, 1.41761049e-05, 7.02101224e-06,\n",
       "        6.35178597e-06, 9.34333179e-06, 7.91664575e-06, 4.89449593e-06,\n",
       "        1.21429745e-05, 1.15455659e-05, 1.11584235e-04, 3.96492319e-06,\n",
       "        2.68732325e-05, 8.55733404e-06, 6.21719590e-06, 9.48846039e-06,\n",
       "        7.39850922e-06, 2.51449214e-05, 1.76077569e-05, 2.69294392e-05,\n",
       "        1.54323733e-04, 6.81964829e-05, 3.48621122e-05, 9.51454440e-06,\n",
       "        3.64325433e-05, 2.12305553e-05, 2.48305367e-05, 4.77512358e-05,\n",
       "        7.75267421e-06, 7.11242863e-05, 1.28892533e-05, 4.92482071e-05]),\n",
       " 'mean_score_time': array([0.00317149, 0.00196033, 0.00209241, 0.00172982, 0.00210586,\n",
       "        0.00201883, 0.00292258, 0.00199742, 0.00213814, 0.00173969,\n",
       "        0.00210557, 0.00175371, 0.00211978, 0.00173326, 0.00210786,\n",
       "        0.00173087, 0.00211406, 0.00173411, 0.00217624, 0.00173621,\n",
       "        0.00211897, 0.00173917, 0.00213776, 0.00173273, 0.00204101,\n",
       "        0.00132036, 0.00156527, 0.00126143, 0.00153604, 0.00127945,\n",
       "        0.00155368, 0.00127449, 0.00153489, 0.00125437, 0.00188088,\n",
       "        0.00126829, 0.00155516, 0.00130157, 0.0015605 , 0.00127482]),\n",
       " 'std_score_time': array([6.63518544e-04, 1.00180457e-04, 5.38047718e-05, 1.51350548e-05,\n",
       "        1.49726868e-05, 4.90454071e-04, 1.93562610e-04, 9.39912929e-05,\n",
       "        5.21106880e-05, 3.46455586e-05, 1.69994955e-05, 5.94879152e-05,\n",
       "        9.82793658e-06, 3.36634876e-06, 1.69656222e-05, 1.61128631e-05,\n",
       "        1.81618003e-05, 1.54906773e-05, 8.19540622e-05, 1.18457330e-05,\n",
       "        1.55587807e-05, 1.09865185e-05, 3.68520166e-05, 7.83320241e-06,\n",
       "        1.79709202e-04, 1.96535595e-05, 2.26034896e-05, 9.10172099e-06,\n",
       "        1.36858079e-05, 4.71414729e-05, 4.67031752e-05, 2.78550457e-05,\n",
       "        1.15856711e-05, 2.98318716e-06, 5.48734145e-04, 1.60465446e-05,\n",
       "        2.27593731e-05, 5.75748832e-05, 4.67556766e-05, 1.06666671e-05]),\n",
       " 'param_classifier': masked_array(data=[KNeighborsClassifier(algorithm='auto', leaf_size=30, metric='minkowski',\n",
       "                      metric_params=None, n_jobs=None, n_neighbors=9, p=1,\n",
       "                      weights='uniform'),\n",
       "                    KNeighborsClassifier(algorithm='auto', leaf_size=30, metric='minkowski',\n",
       "                      metric_params=None, n_jobs=None, n_neighbors=9, p=1,\n",
       "                      weights='uniform'),\n",
       "                    KNeighborsClassifier(algorithm='auto', leaf_size=30, metric='minkowski',\n",
       "                      metric_params=None, n_jobs=None, n_neighbors=9, p=1,\n",
       "                      weights='uniform'),\n",
       "                    KNeighborsClassifier(algorithm='auto', leaf_size=30, metric='minkowski',\n",
       "                      metric_params=None, n_jobs=None, n_neighbors=9, p=1,\n",
       "                      weights='uniform'),\n",
       "                    KNeighborsClassifier(algorithm='auto', leaf_size=30, metric='minkowski',\n",
       "                      metric_params=None, n_jobs=None, n_neighbors=9, p=1,\n",
       "                      weights='uniform'),\n",
       "                    KNeighborsClassifier(algorithm='auto', leaf_size=30, metric='minkowski',\n",
       "                      metric_params=None, n_jobs=None, n_neighbors=9, p=1,\n",
       "                      weights='uniform'),\n",
       "                    KNeighborsClassifier(algorithm='auto', leaf_size=30, metric='minkowski',\n",
       "                      metric_params=None, n_jobs=None, n_neighbors=9, p=1,\n",
       "                      weights='uniform'),\n",
       "                    KNeighborsClassifier(algorithm='auto', leaf_size=30, metric='minkowski',\n",
       "                      metric_params=None, n_jobs=None, n_neighbors=9, p=1,\n",
       "                      weights='uniform'),\n",
       "                    KNeighborsClassifier(algorithm='auto', leaf_size=30, metric='minkowski',\n",
       "                      metric_params=None, n_jobs=None, n_neighbors=9, p=1,\n",
       "                      weights='uniform'),\n",
       "                    KNeighborsClassifier(algorithm='auto', leaf_size=30, metric='minkowski',\n",
       "                      metric_params=None, n_jobs=None, n_neighbors=9, p=1,\n",
       "                      weights='uniform'),\n",
       "                    KNeighborsClassifier(algorithm='auto', leaf_size=30, metric='minkowski',\n",
       "                      metric_params=None, n_jobs=None, n_neighbors=9, p=1,\n",
       "                      weights='uniform'),\n",
       "                    KNeighborsClassifier(algorithm='auto', leaf_size=30, metric='minkowski',\n",
       "                      metric_params=None, n_jobs=None, n_neighbors=9, p=1,\n",
       "                      weights='uniform'),\n",
       "                    KNeighborsClassifier(algorithm='auto', leaf_size=30, metric='minkowski',\n",
       "                      metric_params=None, n_jobs=None, n_neighbors=9, p=1,\n",
       "                      weights='uniform'),\n",
       "                    KNeighborsClassifier(algorithm='auto', leaf_size=30, metric='minkowski',\n",
       "                      metric_params=None, n_jobs=None, n_neighbors=9, p=1,\n",
       "                      weights='uniform'),\n",
       "                    KNeighborsClassifier(algorithm='auto', leaf_size=30, metric='minkowski',\n",
       "                      metric_params=None, n_jobs=None, n_neighbors=9, p=1,\n",
       "                      weights='uniform'),\n",
       "                    KNeighborsClassifier(algorithm='auto', leaf_size=30, metric='minkowski',\n",
       "                      metric_params=None, n_jobs=None, n_neighbors=9, p=1,\n",
       "                      weights='uniform'),\n",
       "                    KNeighborsClassifier(algorithm='auto', leaf_size=30, metric='minkowski',\n",
       "                      metric_params=None, n_jobs=None, n_neighbors=9, p=1,\n",
       "                      weights='uniform'),\n",
       "                    KNeighborsClassifier(algorithm='auto', leaf_size=30, metric='minkowski',\n",
       "                      metric_params=None, n_jobs=None, n_neighbors=9, p=1,\n",
       "                      weights='uniform'),\n",
       "                    KNeighborsClassifier(algorithm='auto', leaf_size=30, metric='minkowski',\n",
       "                      metric_params=None, n_jobs=None, n_neighbors=9, p=1,\n",
       "                      weights='uniform'),\n",
       "                    KNeighborsClassifier(algorithm='auto', leaf_size=30, metric='minkowski',\n",
       "                      metric_params=None, n_jobs=None, n_neighbors=9, p=1,\n",
       "                      weights='uniform'),\n",
       "                    KNeighborsClassifier(algorithm='auto', leaf_size=30, metric='minkowski',\n",
       "                      metric_params=None, n_jobs=None, n_neighbors=9, p=1,\n",
       "                      weights='uniform'),\n",
       "                    KNeighborsClassifier(algorithm='auto', leaf_size=30, metric='minkowski',\n",
       "                      metric_params=None, n_jobs=None, n_neighbors=9, p=1,\n",
       "                      weights='uniform'),\n",
       "                    KNeighborsClassifier(algorithm='auto', leaf_size=30, metric='minkowski',\n",
       "                      metric_params=None, n_jobs=None, n_neighbors=9, p=1,\n",
       "                      weights='uniform'),\n",
       "                    KNeighborsClassifier(algorithm='auto', leaf_size=30, metric='minkowski',\n",
       "                      metric_params=None, n_jobs=None, n_neighbors=9, p=1,\n",
       "                      weights='uniform'),\n",
       "                    KNeighborsClassifier(algorithm='auto', leaf_size=30, metric='minkowski',\n",
       "                      metric_params=None, n_jobs=None, n_neighbors=9, p=1,\n",
       "                      weights='uniform'),\n",
       "                    KNeighborsClassifier(algorithm='auto', leaf_size=30, metric='minkowski',\n",
       "                      metric_params=None, n_jobs=None, n_neighbors=9, p=1,\n",
       "                      weights='uniform'),\n",
       "                    KNeighborsClassifier(algorithm='auto', leaf_size=30, metric='minkowski',\n",
       "                      metric_params=None, n_jobs=None, n_neighbors=9, p=1,\n",
       "                      weights='uniform'),\n",
       "                    KNeighborsClassifier(algorithm='auto', leaf_size=30, metric='minkowski',\n",
       "                      metric_params=None, n_jobs=None, n_neighbors=9, p=1,\n",
       "                      weights='uniform'),\n",
       "                    KNeighborsClassifier(algorithm='auto', leaf_size=30, metric='minkowski',\n",
       "                      metric_params=None, n_jobs=None, n_neighbors=9, p=1,\n",
       "                      weights='uniform'),\n",
       "                    KNeighborsClassifier(algorithm='auto', leaf_size=30, metric='minkowski',\n",
       "                      metric_params=None, n_jobs=None, n_neighbors=9, p=1,\n",
       "                      weights='uniform'),\n",
       "                    KNeighborsClassifier(algorithm='auto', leaf_size=30, metric='minkowski',\n",
       "                      metric_params=None, n_jobs=None, n_neighbors=9, p=1,\n",
       "                      weights='uniform'),\n",
       "                    KNeighborsClassifier(algorithm='auto', leaf_size=30, metric='minkowski',\n",
       "                      metric_params=None, n_jobs=None, n_neighbors=9, p=1,\n",
       "                      weights='uniform'),\n",
       "                    KNeighborsClassifier(algorithm='auto', leaf_size=30, metric='minkowski',\n",
       "                      metric_params=None, n_jobs=None, n_neighbors=9, p=1,\n",
       "                      weights='uniform'),\n",
       "                    KNeighborsClassifier(algorithm='auto', leaf_size=30, metric='minkowski',\n",
       "                      metric_params=None, n_jobs=None, n_neighbors=9, p=1,\n",
       "                      weights='uniform'),\n",
       "                    KNeighborsClassifier(algorithm='auto', leaf_size=30, metric='minkowski',\n",
       "                      metric_params=None, n_jobs=None, n_neighbors=9, p=1,\n",
       "                      weights='uniform'),\n",
       "                    KNeighborsClassifier(algorithm='auto', leaf_size=30, metric='minkowski',\n",
       "                      metric_params=None, n_jobs=None, n_neighbors=9, p=1,\n",
       "                      weights='uniform'),\n",
       "                    KNeighborsClassifier(algorithm='auto', leaf_size=30, metric='minkowski',\n",
       "                      metric_params=None, n_jobs=None, n_neighbors=9, p=1,\n",
       "                      weights='uniform'),\n",
       "                    KNeighborsClassifier(algorithm='auto', leaf_size=30, metric='minkowski',\n",
       "                      metric_params=None, n_jobs=None, n_neighbors=9, p=1,\n",
       "                      weights='uniform'),\n",
       "                    KNeighborsClassifier(algorithm='auto', leaf_size=30, metric='minkowski',\n",
       "                      metric_params=None, n_jobs=None, n_neighbors=9, p=1,\n",
       "                      weights='uniform'),\n",
       "                    KNeighborsClassifier(algorithm='auto', leaf_size=30, metric='minkowski',\n",
       "                      metric_params=None, n_jobs=None, n_neighbors=9, p=1,\n",
       "                      weights='uniform')],\n",
       "              mask=[False, False, False, False, False, False, False, False,\n",
       "                    False, False, False, False, False, False, False, False,\n",
       "                    False, False, False, False, False, False, False, False,\n",
       "                    False, False, False, False, False, False, False, False,\n",
       "                    False, False, False, False, False, False, False, False],\n",
       "        fill_value='?',\n",
       "             dtype=object),\n",
       " 'param_classifier__n_neighbors': masked_array(data=[1, 1, 1, 1, 2, 2, 2, 2, 3, 3, 3, 3, 4, 4, 4, 4, 5, 5,\n",
       "                    5, 5, 6, 6, 6, 6, 7, 7, 7, 7, 8, 8, 8, 8, 9, 9, 9, 9,\n",
       "                    10, 10, 10, 10],\n",
       "              mask=[False, False, False, False, False, False, False, False,\n",
       "                    False, False, False, False, False, False, False, False,\n",
       "                    False, False, False, False, False, False, False, False,\n",
       "                    False, False, False, False, False, False, False, False,\n",
       "                    False, False, False, False, False, False, False, False],\n",
       "        fill_value='?',\n",
       "             dtype=object),\n",
       " 'param_classifier__p': masked_array(data=[1, 1, 2, 2, 1, 1, 2, 2, 1, 1, 2, 2, 1, 1, 2, 2, 1, 1,\n",
       "                    2, 2, 1, 1, 2, 2, 1, 1, 2, 2, 1, 1, 2, 2, 1, 1, 2, 2,\n",
       "                    1, 1, 2, 2],\n",
       "              mask=[False, False, False, False, False, False, False, False,\n",
       "                    False, False, False, False, False, False, False, False,\n",
       "                    False, False, False, False, False, False, False, False,\n",
       "                    False, False, False, False, False, False, False, False,\n",
       "                    False, False, False, False, False, False, False, False],\n",
       "        fill_value='?',\n",
       "             dtype=object),\n",
       " 'param_classifier__weights': masked_array(data=['uniform', 'distance', 'uniform', 'distance',\n",
       "                    'uniform', 'distance', 'uniform', 'distance',\n",
       "                    'uniform', 'distance', 'uniform', 'distance',\n",
       "                    'uniform', 'distance', 'uniform', 'distance',\n",
       "                    'uniform', 'distance', 'uniform', 'distance',\n",
       "                    'uniform', 'distance', 'uniform', 'distance',\n",
       "                    'uniform', 'distance', 'uniform', 'distance',\n",
       "                    'uniform', 'distance', 'uniform', 'distance',\n",
       "                    'uniform', 'distance', 'uniform', 'distance',\n",
       "                    'uniform', 'distance', 'uniform', 'distance'],\n",
       "              mask=[False, False, False, False, False, False, False, False,\n",
       "                    False, False, False, False, False, False, False, False,\n",
       "                    False, False, False, False, False, False, False, False,\n",
       "                    False, False, False, False, False, False, False, False,\n",
       "                    False, False, False, False, False, False, False, False],\n",
       "        fill_value='?',\n",
       "             dtype=object),\n",
       " 'params': [{'classifier': KNeighborsClassifier(algorithm='auto', leaf_size=30, metric='minkowski',\n",
       "                        metric_params=None, n_jobs=None, n_neighbors=9, p=1,\n",
       "                        weights='uniform'),\n",
       "   'classifier__n_neighbors': 1,\n",
       "   'classifier__p': 1,\n",
       "   'classifier__weights': 'uniform'},\n",
       "  {'classifier': KNeighborsClassifier(algorithm='auto', leaf_size=30, metric='minkowski',\n",
       "                        metric_params=None, n_jobs=None, n_neighbors=9, p=1,\n",
       "                        weights='uniform'),\n",
       "   'classifier__n_neighbors': 1,\n",
       "   'classifier__p': 1,\n",
       "   'classifier__weights': 'distance'},\n",
       "  {'classifier': KNeighborsClassifier(algorithm='auto', leaf_size=30, metric='minkowski',\n",
       "                        metric_params=None, n_jobs=None, n_neighbors=9, p=1,\n",
       "                        weights='uniform'),\n",
       "   'classifier__n_neighbors': 1,\n",
       "   'classifier__p': 2,\n",
       "   'classifier__weights': 'uniform'},\n",
       "  {'classifier': KNeighborsClassifier(algorithm='auto', leaf_size=30, metric='minkowski',\n",
       "                        metric_params=None, n_jobs=None, n_neighbors=9, p=1,\n",
       "                        weights='uniform'),\n",
       "   'classifier__n_neighbors': 1,\n",
       "   'classifier__p': 2,\n",
       "   'classifier__weights': 'distance'},\n",
       "  {'classifier': KNeighborsClassifier(algorithm='auto', leaf_size=30, metric='minkowski',\n",
       "                        metric_params=None, n_jobs=None, n_neighbors=9, p=1,\n",
       "                        weights='uniform'),\n",
       "   'classifier__n_neighbors': 2,\n",
       "   'classifier__p': 1,\n",
       "   'classifier__weights': 'uniform'},\n",
       "  {'classifier': KNeighborsClassifier(algorithm='auto', leaf_size=30, metric='minkowski',\n",
       "                        metric_params=None, n_jobs=None, n_neighbors=9, p=1,\n",
       "                        weights='uniform'),\n",
       "   'classifier__n_neighbors': 2,\n",
       "   'classifier__p': 1,\n",
       "   'classifier__weights': 'distance'},\n",
       "  {'classifier': KNeighborsClassifier(algorithm='auto', leaf_size=30, metric='minkowski',\n",
       "                        metric_params=None, n_jobs=None, n_neighbors=9, p=1,\n",
       "                        weights='uniform'),\n",
       "   'classifier__n_neighbors': 2,\n",
       "   'classifier__p': 2,\n",
       "   'classifier__weights': 'uniform'},\n",
       "  {'classifier': KNeighborsClassifier(algorithm='auto', leaf_size=30, metric='minkowski',\n",
       "                        metric_params=None, n_jobs=None, n_neighbors=9, p=1,\n",
       "                        weights='uniform'),\n",
       "   'classifier__n_neighbors': 2,\n",
       "   'classifier__p': 2,\n",
       "   'classifier__weights': 'distance'},\n",
       "  {'classifier': KNeighborsClassifier(algorithm='auto', leaf_size=30, metric='minkowski',\n",
       "                        metric_params=None, n_jobs=None, n_neighbors=9, p=1,\n",
       "                        weights='uniform'),\n",
       "   'classifier__n_neighbors': 3,\n",
       "   'classifier__p': 1,\n",
       "   'classifier__weights': 'uniform'},\n",
       "  {'classifier': KNeighborsClassifier(algorithm='auto', leaf_size=30, metric='minkowski',\n",
       "                        metric_params=None, n_jobs=None, n_neighbors=9, p=1,\n",
       "                        weights='uniform'),\n",
       "   'classifier__n_neighbors': 3,\n",
       "   'classifier__p': 1,\n",
       "   'classifier__weights': 'distance'},\n",
       "  {'classifier': KNeighborsClassifier(algorithm='auto', leaf_size=30, metric='minkowski',\n",
       "                        metric_params=None, n_jobs=None, n_neighbors=9, p=1,\n",
       "                        weights='uniform'),\n",
       "   'classifier__n_neighbors': 3,\n",
       "   'classifier__p': 2,\n",
       "   'classifier__weights': 'uniform'},\n",
       "  {'classifier': KNeighborsClassifier(algorithm='auto', leaf_size=30, metric='minkowski',\n",
       "                        metric_params=None, n_jobs=None, n_neighbors=9, p=1,\n",
       "                        weights='uniform'),\n",
       "   'classifier__n_neighbors': 3,\n",
       "   'classifier__p': 2,\n",
       "   'classifier__weights': 'distance'},\n",
       "  {'classifier': KNeighborsClassifier(algorithm='auto', leaf_size=30, metric='minkowski',\n",
       "                        metric_params=None, n_jobs=None, n_neighbors=9, p=1,\n",
       "                        weights='uniform'),\n",
       "   'classifier__n_neighbors': 4,\n",
       "   'classifier__p': 1,\n",
       "   'classifier__weights': 'uniform'},\n",
       "  {'classifier': KNeighborsClassifier(algorithm='auto', leaf_size=30, metric='minkowski',\n",
       "                        metric_params=None, n_jobs=None, n_neighbors=9, p=1,\n",
       "                        weights='uniform'),\n",
       "   'classifier__n_neighbors': 4,\n",
       "   'classifier__p': 1,\n",
       "   'classifier__weights': 'distance'},\n",
       "  {'classifier': KNeighborsClassifier(algorithm='auto', leaf_size=30, metric='minkowski',\n",
       "                        metric_params=None, n_jobs=None, n_neighbors=9, p=1,\n",
       "                        weights='uniform'),\n",
       "   'classifier__n_neighbors': 4,\n",
       "   'classifier__p': 2,\n",
       "   'classifier__weights': 'uniform'},\n",
       "  {'classifier': KNeighborsClassifier(algorithm='auto', leaf_size=30, metric='minkowski',\n",
       "                        metric_params=None, n_jobs=None, n_neighbors=9, p=1,\n",
       "                        weights='uniform'),\n",
       "   'classifier__n_neighbors': 4,\n",
       "   'classifier__p': 2,\n",
       "   'classifier__weights': 'distance'},\n",
       "  {'classifier': KNeighborsClassifier(algorithm='auto', leaf_size=30, metric='minkowski',\n",
       "                        metric_params=None, n_jobs=None, n_neighbors=9, p=1,\n",
       "                        weights='uniform'),\n",
       "   'classifier__n_neighbors': 5,\n",
       "   'classifier__p': 1,\n",
       "   'classifier__weights': 'uniform'},\n",
       "  {'classifier': KNeighborsClassifier(algorithm='auto', leaf_size=30, metric='minkowski',\n",
       "                        metric_params=None, n_jobs=None, n_neighbors=9, p=1,\n",
       "                        weights='uniform'),\n",
       "   'classifier__n_neighbors': 5,\n",
       "   'classifier__p': 1,\n",
       "   'classifier__weights': 'distance'},\n",
       "  {'classifier': KNeighborsClassifier(algorithm='auto', leaf_size=30, metric='minkowski',\n",
       "                        metric_params=None, n_jobs=None, n_neighbors=9, p=1,\n",
       "                        weights='uniform'),\n",
       "   'classifier__n_neighbors': 5,\n",
       "   'classifier__p': 2,\n",
       "   'classifier__weights': 'uniform'},\n",
       "  {'classifier': KNeighborsClassifier(algorithm='auto', leaf_size=30, metric='minkowski',\n",
       "                        metric_params=None, n_jobs=None, n_neighbors=9, p=1,\n",
       "                        weights='uniform'),\n",
       "   'classifier__n_neighbors': 5,\n",
       "   'classifier__p': 2,\n",
       "   'classifier__weights': 'distance'},\n",
       "  {'classifier': KNeighborsClassifier(algorithm='auto', leaf_size=30, metric='minkowski',\n",
       "                        metric_params=None, n_jobs=None, n_neighbors=9, p=1,\n",
       "                        weights='uniform'),\n",
       "   'classifier__n_neighbors': 6,\n",
       "   'classifier__p': 1,\n",
       "   'classifier__weights': 'uniform'},\n",
       "  {'classifier': KNeighborsClassifier(algorithm='auto', leaf_size=30, metric='minkowski',\n",
       "                        metric_params=None, n_jobs=None, n_neighbors=9, p=1,\n",
       "                        weights='uniform'),\n",
       "   'classifier__n_neighbors': 6,\n",
       "   'classifier__p': 1,\n",
       "   'classifier__weights': 'distance'},\n",
       "  {'classifier': KNeighborsClassifier(algorithm='auto', leaf_size=30, metric='minkowski',\n",
       "                        metric_params=None, n_jobs=None, n_neighbors=9, p=1,\n",
       "                        weights='uniform'),\n",
       "   'classifier__n_neighbors': 6,\n",
       "   'classifier__p': 2,\n",
       "   'classifier__weights': 'uniform'},\n",
       "  {'classifier': KNeighborsClassifier(algorithm='auto', leaf_size=30, metric='minkowski',\n",
       "                        metric_params=None, n_jobs=None, n_neighbors=9, p=1,\n",
       "                        weights='uniform'),\n",
       "   'classifier__n_neighbors': 6,\n",
       "   'classifier__p': 2,\n",
       "   'classifier__weights': 'distance'},\n",
       "  {'classifier': KNeighborsClassifier(algorithm='auto', leaf_size=30, metric='minkowski',\n",
       "                        metric_params=None, n_jobs=None, n_neighbors=9, p=1,\n",
       "                        weights='uniform'),\n",
       "   'classifier__n_neighbors': 7,\n",
       "   'classifier__p': 1,\n",
       "   'classifier__weights': 'uniform'},\n",
       "  {'classifier': KNeighborsClassifier(algorithm='auto', leaf_size=30, metric='minkowski',\n",
       "                        metric_params=None, n_jobs=None, n_neighbors=9, p=1,\n",
       "                        weights='uniform'),\n",
       "   'classifier__n_neighbors': 7,\n",
       "   'classifier__p': 1,\n",
       "   'classifier__weights': 'distance'},\n",
       "  {'classifier': KNeighborsClassifier(algorithm='auto', leaf_size=30, metric='minkowski',\n",
       "                        metric_params=None, n_jobs=None, n_neighbors=9, p=1,\n",
       "                        weights='uniform'),\n",
       "   'classifier__n_neighbors': 7,\n",
       "   'classifier__p': 2,\n",
       "   'classifier__weights': 'uniform'},\n",
       "  {'classifier': KNeighborsClassifier(algorithm='auto', leaf_size=30, metric='minkowski',\n",
       "                        metric_params=None, n_jobs=None, n_neighbors=9, p=1,\n",
       "                        weights='uniform'),\n",
       "   'classifier__n_neighbors': 7,\n",
       "   'classifier__p': 2,\n",
       "   'classifier__weights': 'distance'},\n",
       "  {'classifier': KNeighborsClassifier(algorithm='auto', leaf_size=30, metric='minkowski',\n",
       "                        metric_params=None, n_jobs=None, n_neighbors=9, p=1,\n",
       "                        weights='uniform'),\n",
       "   'classifier__n_neighbors': 8,\n",
       "   'classifier__p': 1,\n",
       "   'classifier__weights': 'uniform'},\n",
       "  {'classifier': KNeighborsClassifier(algorithm='auto', leaf_size=30, metric='minkowski',\n",
       "                        metric_params=None, n_jobs=None, n_neighbors=9, p=1,\n",
       "                        weights='uniform'),\n",
       "   'classifier__n_neighbors': 8,\n",
       "   'classifier__p': 1,\n",
       "   'classifier__weights': 'distance'},\n",
       "  {'classifier': KNeighborsClassifier(algorithm='auto', leaf_size=30, metric='minkowski',\n",
       "                        metric_params=None, n_jobs=None, n_neighbors=9, p=1,\n",
       "                        weights='uniform'),\n",
       "   'classifier__n_neighbors': 8,\n",
       "   'classifier__p': 2,\n",
       "   'classifier__weights': 'uniform'},\n",
       "  {'classifier': KNeighborsClassifier(algorithm='auto', leaf_size=30, metric='minkowski',\n",
       "                        metric_params=None, n_jobs=None, n_neighbors=9, p=1,\n",
       "                        weights='uniform'),\n",
       "   'classifier__n_neighbors': 8,\n",
       "   'classifier__p': 2,\n",
       "   'classifier__weights': 'distance'},\n",
       "  {'classifier': KNeighborsClassifier(algorithm='auto', leaf_size=30, metric='minkowski',\n",
       "                        metric_params=None, n_jobs=None, n_neighbors=9, p=1,\n",
       "                        weights='uniform'),\n",
       "   'classifier__n_neighbors': 9,\n",
       "   'classifier__p': 1,\n",
       "   'classifier__weights': 'uniform'},\n",
       "  {'classifier': KNeighborsClassifier(algorithm='auto', leaf_size=30, metric='minkowski',\n",
       "                        metric_params=None, n_jobs=None, n_neighbors=9, p=1,\n",
       "                        weights='uniform'),\n",
       "   'classifier__n_neighbors': 9,\n",
       "   'classifier__p': 1,\n",
       "   'classifier__weights': 'distance'},\n",
       "  {'classifier': KNeighborsClassifier(algorithm='auto', leaf_size=30, metric='minkowski',\n",
       "                        metric_params=None, n_jobs=None, n_neighbors=9, p=1,\n",
       "                        weights='uniform'),\n",
       "   'classifier__n_neighbors': 9,\n",
       "   'classifier__p': 2,\n",
       "   'classifier__weights': 'uniform'},\n",
       "  {'classifier': KNeighborsClassifier(algorithm='auto', leaf_size=30, metric='minkowski',\n",
       "                        metric_params=None, n_jobs=None, n_neighbors=9, p=1,\n",
       "                        weights='uniform'),\n",
       "   'classifier__n_neighbors': 9,\n",
       "   'classifier__p': 2,\n",
       "   'classifier__weights': 'distance'},\n",
       "  {'classifier': KNeighborsClassifier(algorithm='auto', leaf_size=30, metric='minkowski',\n",
       "                        metric_params=None, n_jobs=None, n_neighbors=9, p=1,\n",
       "                        weights='uniform'),\n",
       "   'classifier__n_neighbors': 10,\n",
       "   'classifier__p': 1,\n",
       "   'classifier__weights': 'uniform'},\n",
       "  {'classifier': KNeighborsClassifier(algorithm='auto', leaf_size=30, metric='minkowski',\n",
       "                        metric_params=None, n_jobs=None, n_neighbors=9, p=1,\n",
       "                        weights='uniform'),\n",
       "   'classifier__n_neighbors': 10,\n",
       "   'classifier__p': 1,\n",
       "   'classifier__weights': 'distance'},\n",
       "  {'classifier': KNeighborsClassifier(algorithm='auto', leaf_size=30, metric='minkowski',\n",
       "                        metric_params=None, n_jobs=None, n_neighbors=9, p=1,\n",
       "                        weights='uniform'),\n",
       "   'classifier__n_neighbors': 10,\n",
       "   'classifier__p': 2,\n",
       "   'classifier__weights': 'uniform'},\n",
       "  {'classifier': KNeighborsClassifier(algorithm='auto', leaf_size=30, metric='minkowski',\n",
       "                        metric_params=None, n_jobs=None, n_neighbors=9, p=1,\n",
       "                        weights='uniform'),\n",
       "   'classifier__n_neighbors': 10,\n",
       "   'classifier__p': 2,\n",
       "   'classifier__weights': 'distance'}],\n",
       " 'split0_test_score': array([0.38461538, 0.38461538, 0.53846154, 0.53846154, 0.46153846,\n",
       "        0.38461538, 0.30769231, 0.53846154, 0.38461538, 0.46153846,\n",
       "        0.38461538, 0.46153846, 0.38461538, 0.38461538, 0.53846154,\n",
       "        0.38461538, 0.38461538, 0.38461538, 0.38461538, 0.38461538,\n",
       "        0.38461538, 0.38461538, 0.38461538, 0.38461538, 0.38461538,\n",
       "        0.38461538, 0.38461538, 0.38461538, 0.46153846, 0.38461538,\n",
       "        0.30769231, 0.38461538, 0.53846154, 0.38461538, 0.46153846,\n",
       "        0.38461538, 0.46153846, 0.46153846, 0.46153846, 0.46153846]),\n",
       " 'split1_test_score': array([0.38461538, 0.38461538, 0.38461538, 0.38461538, 0.38461538,\n",
       "        0.38461538, 0.38461538, 0.38461538, 0.30769231, 0.38461538,\n",
       "        0.38461538, 0.38461538, 0.46153846, 0.38461538, 0.61538462,\n",
       "        0.38461538, 0.38461538, 0.38461538, 0.53846154, 0.46153846,\n",
       "        0.30769231, 0.30769231, 0.30769231, 0.30769231, 0.38461538,\n",
       "        0.38461538, 0.38461538, 0.30769231, 0.30769231, 0.30769231,\n",
       "        0.38461538, 0.23076923, 0.30769231, 0.23076923, 0.23076923,\n",
       "        0.23076923, 0.30769231, 0.30769231, 0.30769231, 0.23076923]),\n",
       " 'split2_test_score': array([0.46153846, 0.46153846, 0.46153846, 0.46153846, 0.61538462,\n",
       "        0.46153846, 0.46153846, 0.46153846, 0.38461538, 0.38461538,\n",
       "        0.30769231, 0.38461538, 0.30769231, 0.38461538, 0.30769231,\n",
       "        0.38461538, 0.38461538, 0.38461538, 0.38461538, 0.38461538,\n",
       "        0.38461538, 0.46153846, 0.38461538, 0.46153846, 0.30769231,\n",
       "        0.38461538, 0.46153846, 0.46153846, 0.38461538, 0.46153846,\n",
       "        0.38461538, 0.46153846, 0.53846154, 0.53846154, 0.46153846,\n",
       "        0.38461538, 0.38461538, 0.53846154, 0.46153846, 0.53846154]),\n",
       " 'split3_test_score': array([0.61538462, 0.61538462, 0.53846154, 0.53846154, 0.61538462,\n",
       "        0.61538462, 0.61538462, 0.53846154, 0.61538462, 0.61538462,\n",
       "        0.61538462, 0.61538462, 0.69230769, 0.61538462, 0.69230769,\n",
       "        0.61538462, 0.76923077, 0.76923077, 0.69230769, 0.69230769,\n",
       "        0.76923077, 0.76923077, 0.61538462, 0.53846154, 0.76923077,\n",
       "        0.76923077, 0.76923077, 0.76923077, 0.69230769, 0.76923077,\n",
       "        0.61538462, 0.69230769, 0.76923077, 0.76923077, 0.76923077,\n",
       "        0.76923077, 0.76923077, 0.76923077, 0.61538462, 0.69230769]),\n",
       " 'split4_test_score': array([0.5       , 0.5       , 0.5       , 0.5       , 0.66666667,\n",
       "        0.5       , 0.66666667, 0.5       , 0.75      , 0.75      ,\n",
       "        0.75      , 0.58333333, 0.75      , 0.66666667, 0.66666667,\n",
       "        0.75      , 0.75      , 0.83333333, 0.58333333, 0.66666667,\n",
       "        0.58333333, 0.58333333, 0.58333333, 0.66666667, 0.66666667,\n",
       "        0.66666667, 0.41666667, 0.66666667, 0.66666667, 0.75      ,\n",
       "        0.41666667, 0.58333333, 0.83333333, 0.83333333, 0.5       ,\n",
       "        0.66666667, 0.83333333, 0.83333333, 0.66666667, 0.66666667]),\n",
       " 'mean_test_score': array([0.46875 , 0.46875 , 0.484375, 0.484375, 0.546875, 0.46875 ,\n",
       "        0.484375, 0.484375, 0.484375, 0.515625, 0.484375, 0.484375,\n",
       "        0.515625, 0.484375, 0.5625  , 0.5     , 0.53125 , 0.546875,\n",
       "        0.515625, 0.515625, 0.484375, 0.5     , 0.453125, 0.46875 ,\n",
       "        0.5     , 0.515625, 0.484375, 0.515625, 0.5     , 0.53125 ,\n",
       "        0.421875, 0.46875 , 0.59375 , 0.546875, 0.484375, 0.484375,\n",
       "        0.546875, 0.578125, 0.5     , 0.515625]),\n",
       " 'std_test_score': array([0.08623746, 0.08623746, 0.05797955, 0.05797955, 0.10688559,\n",
       "        0.08623746, 0.13485306, 0.05797955, 0.16461959, 0.14102507,\n",
       "        0.16461959, 0.09732114, 0.1717657 , 0.12562444, 0.13903571,\n",
       "        0.15012014, 0.18324499, 0.20364824, 0.11949517, 0.13485306,\n",
       "        0.16941716, 0.16291859, 0.12136646, 0.12267469, 0.18125276,\n",
       "        0.16673551, 0.14659685, 0.17379464, 0.15243746, 0.18969073,\n",
       "        0.10403638, 0.15989342, 0.18676405, 0.22602653, 0.17263817,\n",
       "        0.1995494 , 0.20946707, 0.19382042, 0.12659242, 0.16673551]),\n",
       " 'rank_test_score': array([34, 34, 22, 22,  4, 34, 22, 22, 22, 10, 22, 22, 10, 22,  3, 17,  8,\n",
       "         4, 10, 10, 22, 17, 39, 34, 17, 10, 22, 10, 17,  8, 40, 34,  1,  4,\n",
       "        22, 22,  4,  2, 17, 10], dtype=int32)}"
      ]
     },
     "execution_count": 43,
     "metadata": {},
     "output_type": "execute_result"
    }
   ],
   "source": [
    "best_model_KNN.cv_results_"
   ]
  },
  {
   "cell_type": "code",
   "execution_count": 40,
   "metadata": {},
   "outputs": [
    {
     "data": {
      "text/plain": [
       "{'classifier': KNeighborsClassifier(algorithm='auto', leaf_size=30, metric='minkowski',\n",
       "                      metric_params=None, n_jobs=None, n_neighbors=9, p=1,\n",
       "                      weights='uniform'),\n",
       " 'classifier__n_neighbors': 9,\n",
       " 'classifier__p': 1,\n",
       " 'classifier__weights': 'uniform'}"
      ]
     },
     "execution_count": 40,
     "metadata": {},
     "output_type": "execute_result"
    }
   ],
   "source": [
    "best_model_KNN.cv_results_['params'][ np.argmin(best_model_KNN.cv_results_['rank_test_score']) ]"
   ]
  },
  {
   "cell_type": "markdown",
   "metadata": {},
   "source": [
    "## Train Best Models"
   ]
  },
  {
   "cell_type": "markdown",
   "metadata": {},
   "source": [
    "### LDA "
   ]
  },
  {
   "cell_type": "code",
   "execution_count": 30,
   "metadata": {},
   "outputs": [
    {
     "data": {
      "text/plain": [
       "LinearDiscriminantAnalysis(n_components=None, priors=None, shrinkage=None,\n",
       "                           solver='svd', store_covariance=False, tol=0.0001)"
      ]
     },
     "execution_count": 30,
     "metadata": {},
     "output_type": "execute_result"
    }
   ],
   "source": [
    "best_LDA_model = LinearDiscriminantAnalysis(solver='svd')\n",
    "best_LDA_model.fit(X_train, y_train)"
   ]
  },
  {
   "cell_type": "code",
   "execution_count": 32,
   "metadata": {},
   "outputs": [],
   "source": [
    "y_pred_LDA = best_LDA_model.predict(X_test)"
   ]
  },
  {
   "cell_type": "code",
   "execution_count": 34,
   "metadata": {},
   "outputs": [],
   "source": [
    "accuracy_LDA = accuracy_score(y_pred_LDA, y_test)"
   ]
  },
  {
   "cell_type": "code",
   "execution_count": 36,
   "metadata": {},
   "outputs": [
    {
     "data": {
      "text/plain": [
       "0.5625"
      ]
     },
     "execution_count": 36,
     "metadata": {},
     "output_type": "execute_result"
    }
   ],
   "source": [
    "accuracy_LDA"
   ]
  },
  {
   "cell_type": "markdown",
   "metadata": {},
   "source": [
    "### SVM"
   ]
  },
  {
   "cell_type": "code",
   "execution_count": 37,
   "metadata": {},
   "outputs": [],
   "source": [
    "best_SVM_model = SVC(C=0.1, kernel='linear', max_iter=-1, random_state=None,verbose=False)\n",
    "best_SVM_model.fit(X_train, y_train)\n",
    "\n",
    "y_pred_SVM = best_SVM_model.predict(X_test)\n",
    "\n",
    "accuracy_SVM = accuracy_score(y_pred_SVM, y_test)"
   ]
  },
  {
   "cell_type": "code",
   "execution_count": 38,
   "metadata": {},
   "outputs": [
    {
     "data": {
      "text/plain": [
       "0.5625"
      ]
     },
     "execution_count": 38,
     "metadata": {},
     "output_type": "execute_result"
    }
   ],
   "source": [
    "accuracy_SVM"
   ]
  },
  {
   "cell_type": "markdown",
   "metadata": {},
   "source": [
    "### KNN"
   ]
  },
  {
   "cell_type": "code",
   "execution_count": 49,
   "metadata": {},
   "outputs": [],
   "source": [
    "best_KNN_model1 = KNeighborsClassifier(n_neighbors=4, p=2,weights='uniform')\n",
    "best_KNN_model1.fit(X_train, y_train)\n",
    "\n",
    "y_pred_KNN1 = best_KNN_model.predict(X_test)\n",
    "\n",
    "accuracy_KNN1 = accuracy_score(y_pred_KNN1, y_test)"
   ]
  },
  {
   "cell_type": "code",
   "execution_count": 50,
   "metadata": {},
   "outputs": [
    {
     "data": {
      "text/plain": [
       "0.6875"
      ]
     },
     "execution_count": 50,
     "metadata": {},
     "output_type": "execute_result"
    }
   ],
   "source": [
    "accuracy_KNN1"
   ]
  },
  {
   "cell_type": "code",
   "execution_count": 52,
   "metadata": {},
   "outputs": [
    {
     "data": {
      "text/plain": [
       "0.375"
      ]
     },
     "execution_count": 52,
     "metadata": {},
     "output_type": "execute_result"
    }
   ],
   "source": [
    "best_KNN_model2 = KNeighborsClassifier(n_neighbors=9, p=1,weights='uniform')\n",
    "best_KNN_model2.fit(X_train, y_train)\n",
    "\n",
    "y_pred_KNN2 = best_KNN_model2.predict(X_test)\n",
    "\n",
    "accuracy_KNN2 = accuracy_score(y_pred_KNN2, y_test)\n",
    "\n",
    "accuracy_KNN2"
   ]
  },
  {
   "cell_type": "code",
   "execution_count": null,
   "metadata": {},
   "outputs": [],
   "source": []
  }
 ],
 "metadata": {
  "kernelspec": {
   "display_name": "Python 3",
   "language": "python",
   "name": "python3"
  },
  "language_info": {
   "codemirror_mode": {
    "name": "ipython",
    "version": 3
   },
   "file_extension": ".py",
   "mimetype": "text/x-python",
   "name": "python",
   "nbconvert_exporter": "python",
   "pygments_lexer": "ipython3",
   "version": "3.7.3"
  }
 },
 "nbformat": 4,
 "nbformat_minor": 2
}
