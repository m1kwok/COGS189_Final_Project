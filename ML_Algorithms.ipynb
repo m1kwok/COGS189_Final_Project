{
 "cells": [
  {
   "cell_type": "code",
   "execution_count": 54,
   "metadata": {},
   "outputs": [],
   "source": [
    "import numpy as np\n",
    "import matplotlib.pyplot as plt\n",
    "import pandas as pd\n",
    "import seaborn as sns; sns.set_style('white')  # plot formatting\n",
    "from sklearn.pipeline import Pipeline\n",
    "from sklearn.preprocessing import StandardScaler\n",
    "from sklearn.model_selection import StratifiedKFold\n",
    "\n",
    "\n",
    "# Algorithms\n",
    "from sklearn.discriminant_analysis import LinearDiscriminantAnalysis\n",
    "from sklearn.model_selection import train_test_split, GridSearchCV\n",
    "from sklearn.svm import SVC, LinearSVC\n",
    "from sklearn.metrics import accuracy_score\n",
    "from sklearn.neighbors import KNeighborsClassifier\n",
    "\n",
    "# Import data\n",
    "data = pd.read_csv('Data/Filtered_Data.csv')"
   ]
  },
  {
   "cell_type": "code",
   "execution_count": 48,
   "metadata": {},
   "outputs": [
    {
     "data": {
      "text/html": [
       "<div>\n",
       "<style scoped>\n",
       "    .dataframe tbody tr th:only-of-type {\n",
       "        vertical-align: middle;\n",
       "    }\n",
       "\n",
       "    .dataframe tbody tr th {\n",
       "        vertical-align: top;\n",
       "    }\n",
       "\n",
       "    .dataframe thead th {\n",
       "        text-align: right;\n",
       "    }\n",
       "</style>\n",
       "<table border=\"1\" class=\"dataframe\">\n",
       "  <thead>\n",
       "    <tr style=\"text-align: right;\">\n",
       "      <th></th>\n",
       "      <th>participant</th>\n",
       "      <th>open</th>\n",
       "      <th>closed</th>\n",
       "      <th>label (0 for not depressed, 1 for depressed)</th>\n",
       "      <th>BDI</th>\n",
       "    </tr>\n",
       "  </thead>\n",
       "  <tbody>\n",
       "    <tr>\n",
       "      <th>0</th>\n",
       "      <td>509</td>\n",
       "      <td>491.109212</td>\n",
       "      <td>408.343868</td>\n",
       "      <td>0</td>\n",
       "      <td>7</td>\n",
       "    </tr>\n",
       "    <tr>\n",
       "      <th>1</th>\n",
       "      <td>519</td>\n",
       "      <td>324.802986</td>\n",
       "      <td>963.380921</td>\n",
       "      <td>0</td>\n",
       "      <td>6</td>\n",
       "    </tr>\n",
       "    <tr>\n",
       "      <th>2</th>\n",
       "      <td>542</td>\n",
       "      <td>450.667603</td>\n",
       "      <td>451.559918</td>\n",
       "      <td>0</td>\n",
       "      <td>0</td>\n",
       "    </tr>\n",
       "    <tr>\n",
       "      <th>3</th>\n",
       "      <td>545</td>\n",
       "      <td>356.680814</td>\n",
       "      <td>790.636981</td>\n",
       "      <td>0</td>\n",
       "      <td>0</td>\n",
       "    </tr>\n",
       "    <tr>\n",
       "      <th>4</th>\n",
       "      <td>546</td>\n",
       "      <td>700.472825</td>\n",
       "      <td>270.410014</td>\n",
       "      <td>0</td>\n",
       "      <td>5</td>\n",
       "    </tr>\n",
       "  </tbody>\n",
       "</table>\n",
       "</div>"
      ],
      "text/plain": [
       "   participant        open      closed  \\\n",
       "0          509  491.109212  408.343868   \n",
       "1          519  324.802986  963.380921   \n",
       "2          542  450.667603  451.559918   \n",
       "3          545  356.680814  790.636981   \n",
       "4          546  700.472825  270.410014   \n",
       "\n",
       "   label (0 for not depressed, 1 for depressed)  BDI  \n",
       "0                                             0    7  \n",
       "1                                             0    6  \n",
       "2                                             0    0  \n",
       "3                                             0    0  \n",
       "4                                             0    5  "
      ]
     },
     "execution_count": 48,
     "metadata": {},
     "output_type": "execute_result"
    }
   ],
   "source": [
    "data.head()"
   ]
  },
  {
   "cell_type": "code",
   "execution_count": 49,
   "metadata": {},
   "outputs": [],
   "source": [
    "X = data[['open', 'closed']]\n",
    "Y = data['label (0 for not depressed, 1 for depressed)']"
   ]
  },
  {
   "cell_type": "code",
   "execution_count": 95,
   "metadata": {},
   "outputs": [],
   "source": [
    "X_train, X_test, y_train, y_test = train_test_split(X, Y, test_size=0.40, random_state=42) # 50/50 vs 80/20 vs 60/40"
   ]
  },
  {
   "cell_type": "markdown",
   "metadata": {},
   "source": [
    "## I think we should show how the results change between all the splits"
   ]
  },
  {
   "cell_type": "code",
   "execution_count": 96,
   "metadata": {},
   "outputs": [
    {
     "data": {
      "text/plain": [
       "(48, 2)"
      ]
     },
     "execution_count": 96,
     "metadata": {},
     "output_type": "execute_result"
    }
   ],
   "source": [
    "X_train.shape"
   ]
  },
  {
   "cell_type": "code",
   "execution_count": 97,
   "metadata": {},
   "outputs": [
    {
     "data": {
      "text/plain": [
       "(48,)"
      ]
     },
     "execution_count": 97,
     "metadata": {},
     "output_type": "execute_result"
    }
   ],
   "source": [
    "y_train.shape"
   ]
  },
  {
   "cell_type": "code",
   "execution_count": 7,
   "metadata": {},
   "outputs": [],
   "source": [
    "# pipe = Pipeline([('std', StandardScaler()),\n",
    "#                  ('classifier1', LinearDiscriminantAnalysis()),\n",
    "#                  ('classifier2', SVC())])\n",
    "#                  #('classifier3', KNeighborsClassifier())])\n",
    "\n",
    "# # Parameters to search\n",
    "# search_space = [{'classifier1': [LinearDiscriminantAnalysis()],\n",
    "#                  'classifier1__solver': ['svd', 'lsqr', 'eigen']},\n",
    "#                 {'classifier2': [SVC()],\n",
    "#                  'classifier2__kernel': ['linear'],\n",
    "#                  'classifier2__C': np.logspace(-4, 4, 9)\n",
    "#                 #{'classifier3': [KNeighborsClassifier()],\n",
    "#                  #'classifier3__weights': ['uniform', 'distance']\n",
    "#                  #'classifier3__n_neighbors': [i for i in range(1,11)]\n",
    "#                 }]\n",
    "\n",
    "# # Create grid search \n",
    "# clf1 = GridSearchCV(pipe, search_space, cv=StratifiedKFold(n_splits=5), \n",
    "#                    scoring='accuracy', refit=True,\n",
    "#                    verbose=0)\n",
    "\n",
    "# # Fit grid search\n",
    "# best_model = clf1.fit(X_train, y_train)"
   ]
  },
  {
   "cell_type": "code",
   "execution_count": 98,
   "metadata": {},
   "outputs": [
    {
     "name": "stderr",
     "output_type": "stream",
     "text": [
      "/opt/conda/lib/python3.7/site-packages/sklearn/model_selection/_search.py:814: DeprecationWarning: The default of the `iid` parameter will change from True to False in version 0.22 and will be removed in 0.24. This will change numeric results when test-set sizes are unequal.\n",
      "  DeprecationWarning)\n"
     ]
    }
   ],
   "source": [
    "pipe_LDA = Pipeline([('classifier', LinearDiscriminantAnalysis())])\n",
    "search_space1 = [{'classifier': [LinearDiscriminantAnalysis()],\n",
    "                 'classifier__solver': ['svd', 'lsqr', 'eigen']}]\n",
    "# Create grid search \n",
    "clf = GridSearchCV(pipe_LDA, search_space1, cv=StratifiedKFold(n_splits=10), \n",
    "                   scoring='accuracy', refit=True,\n",
    "                   verbose=0)\n",
    "\n",
    "# Fit grid search\n",
    "best_model_LDA = clf.fit(X_train, y_train)"
   ]
  },
  {
   "cell_type": "code",
   "execution_count": 102,
   "metadata": {},
   "outputs": [],
   "source": [
    "#best_model_LDA.cv_results_"
   ]
  },
  {
   "cell_type": "code",
   "execution_count": 100,
   "metadata": {},
   "outputs": [
    {
     "data": {
      "text/plain": [
       "{'classifier': LinearDiscriminantAnalysis(n_components=None, priors=None, shrinkage=None,\n",
       "                            solver='svd', store_covariance=False, tol=0.0001),\n",
       " 'classifier__solver': 'svd'}"
      ]
     },
     "execution_count": 100,
     "metadata": {},
     "output_type": "execute_result"
    }
   ],
   "source": [
    "best_model_LDA.cv_results_['params'][ np.argmin(best_model_LDA.cv_results_['rank_test_score']) ]"
   ]
  },
  {
   "cell_type": "code",
   "execution_count": 103,
   "metadata": {},
   "outputs": [
    {
     "name": "stderr",
     "output_type": "stream",
     "text": [
      "/opt/conda/lib/python3.7/site-packages/sklearn/model_selection/_search.py:814: DeprecationWarning: The default of the `iid` parameter will change from True to False in version 0.22 and will be removed in 0.24. This will change numeric results when test-set sizes are unequal.\n",
      "  DeprecationWarning)\n"
     ]
    }
   ],
   "source": [
    "pipe_SVC = Pipeline([('std', StandardScaler()),\n",
    "                    ('classifier', SVC())])\n",
    "search_space2 = [{'classifier': [SVC()],\n",
    "                 'classifier__kernel': ['linear'],\n",
    "                 'classifier__C': np.logspace(-4, 4, 9)}]\n",
    "# Create grid search \n",
    "clf2 = GridSearchCV(pipe_SVC, search_space2, cv=StratifiedKFold(n_splits=10), \n",
    "                   scoring='accuracy', refit=True,\n",
    "                   verbose=0)\n",
    "\n",
    "# Fit grid search\n",
    "best_model_SVC = clf2.fit(X_train, y_train)"
   ]
  },
  {
   "cell_type": "code",
   "execution_count": 104,
   "metadata": {},
   "outputs": [
    {
     "data": {
      "text/plain": [
       "{'mean_fit_time': array([0.00318358, 0.00357521, 0.0033808 , 0.00286665, 0.00334518,\n",
       "        0.0032371 , 0.00441017, 0.0124315 , 0.11741135]),\n",
       " 'std_fit_time': array([0.00038027, 0.00121996, 0.0005203 , 0.00030364, 0.00054248,\n",
       "        0.00073181, 0.00103055, 0.00563522, 0.07283075]),\n",
       " 'mean_score_time': array([0.00114021, 0.00130341, 0.0011523 , 0.0010581 , 0.00118663,\n",
       "        0.00105841, 0.00112052, 0.00114248, 0.00173681]),\n",
       " 'std_score_time': array([4.58136298e-05, 2.85871382e-04, 1.02883540e-04, 8.35737212e-05,\n",
       "        2.02124051e-04, 9.07161890e-05, 1.44018589e-04, 1.32417149e-04,\n",
       "        7.36791875e-04]),\n",
       " 'param_classifier': masked_array(data=[SVC(C=0.1, cache_size=200, class_weight=None, coef0=0.0,\n",
       "     decision_function_shape='ovr', degree=3, gamma='auto_deprecated',\n",
       "     kernel='linear', max_iter=-1, probability=False, random_state=None,\n",
       "     shrinking=True, tol=0.001, verbose=False),\n",
       "                    SVC(C=0.1, cache_size=200, class_weight=None, coef0=0.0,\n",
       "     decision_function_shape='ovr', degree=3, gamma='auto_deprecated',\n",
       "     kernel='linear', max_iter=-1, probability=False, random_state=None,\n",
       "     shrinking=True, tol=0.001, verbose=False),\n",
       "                    SVC(C=0.1, cache_size=200, class_weight=None, coef0=0.0,\n",
       "     decision_function_shape='ovr', degree=3, gamma='auto_deprecated',\n",
       "     kernel='linear', max_iter=-1, probability=False, random_state=None,\n",
       "     shrinking=True, tol=0.001, verbose=False),\n",
       "                    SVC(C=0.1, cache_size=200, class_weight=None, coef0=0.0,\n",
       "     decision_function_shape='ovr', degree=3, gamma='auto_deprecated',\n",
       "     kernel='linear', max_iter=-1, probability=False, random_state=None,\n",
       "     shrinking=True, tol=0.001, verbose=False),\n",
       "                    SVC(C=0.1, cache_size=200, class_weight=None, coef0=0.0,\n",
       "     decision_function_shape='ovr', degree=3, gamma='auto_deprecated',\n",
       "     kernel='linear', max_iter=-1, probability=False, random_state=None,\n",
       "     shrinking=True, tol=0.001, verbose=False),\n",
       "                    SVC(C=0.1, cache_size=200, class_weight=None, coef0=0.0,\n",
       "     decision_function_shape='ovr', degree=3, gamma='auto_deprecated',\n",
       "     kernel='linear', max_iter=-1, probability=False, random_state=None,\n",
       "     shrinking=True, tol=0.001, verbose=False),\n",
       "                    SVC(C=0.1, cache_size=200, class_weight=None, coef0=0.0,\n",
       "     decision_function_shape='ovr', degree=3, gamma='auto_deprecated',\n",
       "     kernel='linear', max_iter=-1, probability=False, random_state=None,\n",
       "     shrinking=True, tol=0.001, verbose=False),\n",
       "                    SVC(C=0.1, cache_size=200, class_weight=None, coef0=0.0,\n",
       "     decision_function_shape='ovr', degree=3, gamma='auto_deprecated',\n",
       "     kernel='linear', max_iter=-1, probability=False, random_state=None,\n",
       "     shrinking=True, tol=0.001, verbose=False),\n",
       "                    SVC(C=0.1, cache_size=200, class_weight=None, coef0=0.0,\n",
       "     decision_function_shape='ovr', degree=3, gamma='auto_deprecated',\n",
       "     kernel='linear', max_iter=-1, probability=False, random_state=None,\n",
       "     shrinking=True, tol=0.001, verbose=False)],\n",
       "              mask=[False, False, False, False, False, False, False, False,\n",
       "                    False],\n",
       "        fill_value='?',\n",
       "             dtype=object),\n",
       " 'param_classifier__C': masked_array(data=[0.0001, 0.001, 0.01, 0.1, 1.0, 10.0, 100.0, 1000.0,\n",
       "                    10000.0],\n",
       "              mask=[False, False, False, False, False, False, False, False,\n",
       "                    False],\n",
       "        fill_value='?',\n",
       "             dtype=object),\n",
       " 'param_classifier__kernel': masked_array(data=['linear', 'linear', 'linear', 'linear', 'linear',\n",
       "                    'linear', 'linear', 'linear', 'linear'],\n",
       "              mask=[False, False, False, False, False, False, False, False,\n",
       "                    False],\n",
       "        fill_value='?',\n",
       "             dtype=object),\n",
       " 'params': [{'classifier': SVC(C=0.1, cache_size=200, class_weight=None, coef0=0.0,\n",
       "       decision_function_shape='ovr', degree=3, gamma='auto_deprecated',\n",
       "       kernel='linear', max_iter=-1, probability=False, random_state=None,\n",
       "       shrinking=True, tol=0.001, verbose=False),\n",
       "   'classifier__C': 0.0001,\n",
       "   'classifier__kernel': 'linear'},\n",
       "  {'classifier': SVC(C=0.1, cache_size=200, class_weight=None, coef0=0.0,\n",
       "       decision_function_shape='ovr', degree=3, gamma='auto_deprecated',\n",
       "       kernel='linear', max_iter=-1, probability=False, random_state=None,\n",
       "       shrinking=True, tol=0.001, verbose=False),\n",
       "   'classifier__C': 0.001,\n",
       "   'classifier__kernel': 'linear'},\n",
       "  {'classifier': SVC(C=0.1, cache_size=200, class_weight=None, coef0=0.0,\n",
       "       decision_function_shape='ovr', degree=3, gamma='auto_deprecated',\n",
       "       kernel='linear', max_iter=-1, probability=False, random_state=None,\n",
       "       shrinking=True, tol=0.001, verbose=False),\n",
       "   'classifier__C': 0.01,\n",
       "   'classifier__kernel': 'linear'},\n",
       "  {'classifier': SVC(C=0.1, cache_size=200, class_weight=None, coef0=0.0,\n",
       "       decision_function_shape='ovr', degree=3, gamma='auto_deprecated',\n",
       "       kernel='linear', max_iter=-1, probability=False, random_state=None,\n",
       "       shrinking=True, tol=0.001, verbose=False),\n",
       "   'classifier__C': 0.1,\n",
       "   'classifier__kernel': 'linear'},\n",
       "  {'classifier': SVC(C=0.1, cache_size=200, class_weight=None, coef0=0.0,\n",
       "       decision_function_shape='ovr', degree=3, gamma='auto_deprecated',\n",
       "       kernel='linear', max_iter=-1, probability=False, random_state=None,\n",
       "       shrinking=True, tol=0.001, verbose=False),\n",
       "   'classifier__C': 1.0,\n",
       "   'classifier__kernel': 'linear'},\n",
       "  {'classifier': SVC(C=0.1, cache_size=200, class_weight=None, coef0=0.0,\n",
       "       decision_function_shape='ovr', degree=3, gamma='auto_deprecated',\n",
       "       kernel='linear', max_iter=-1, probability=False, random_state=None,\n",
       "       shrinking=True, tol=0.001, verbose=False),\n",
       "   'classifier__C': 10.0,\n",
       "   'classifier__kernel': 'linear'},\n",
       "  {'classifier': SVC(C=0.1, cache_size=200, class_weight=None, coef0=0.0,\n",
       "       decision_function_shape='ovr', degree=3, gamma='auto_deprecated',\n",
       "       kernel='linear', max_iter=-1, probability=False, random_state=None,\n",
       "       shrinking=True, tol=0.001, verbose=False),\n",
       "   'classifier__C': 100.0,\n",
       "   'classifier__kernel': 'linear'},\n",
       "  {'classifier': SVC(C=0.1, cache_size=200, class_weight=None, coef0=0.0,\n",
       "       decision_function_shape='ovr', degree=3, gamma='auto_deprecated',\n",
       "       kernel='linear', max_iter=-1, probability=False, random_state=None,\n",
       "       shrinking=True, tol=0.001, verbose=False),\n",
       "   'classifier__C': 1000.0,\n",
       "   'classifier__kernel': 'linear'},\n",
       "  {'classifier': SVC(C=0.1, cache_size=200, class_weight=None, coef0=0.0,\n",
       "       decision_function_shape='ovr', degree=3, gamma='auto_deprecated',\n",
       "       kernel='linear', max_iter=-1, probability=False, random_state=None,\n",
       "       shrinking=True, tol=0.001, verbose=False),\n",
       "   'classifier__C': 10000.0,\n",
       "   'classifier__kernel': 'linear'}],\n",
       " 'split0_test_score': array([0.5       , 0.5       , 0.5       , 0.66666667, 0.66666667,\n",
       "        0.83333333, 0.83333333, 0.83333333, 0.83333333]),\n",
       " 'split1_test_score': array([0.5, 0.5, 0.5, 0.5, 0.5, 0.5, 0.5, 0.5, 0.5]),\n",
       " 'split2_test_score': array([0.6, 0.6, 0.6, 0.6, 0.6, 0.6, 0.6, 0.6, 0.6]),\n",
       " 'split3_test_score': array([0.6, 0.6, 0.6, 0.6, 0.4, 0.4, 0.4, 0.4, 0.4]),\n",
       " 'split4_test_score': array([0.6, 0.6, 0.6, 0.6, 0.6, 0.6, 0.4, 0.4, 0.4]),\n",
       " 'split5_test_score': array([0.6, 0.6, 0.6, 0.8, 0.8, 0.8, 0.8, 0.8, 0.8]),\n",
       " 'split6_test_score': array([0.5 , 0.5 , 0.5 , 0.75, 0.75, 0.75, 0.75, 0.75, 0.75]),\n",
       " 'split7_test_score': array([0.5, 0.5, 0.5, 0.5, 0.5, 0.5, 0.5, 0.5, 0.5]),\n",
       " 'split8_test_score': array([0.5, 0.5, 0.5, 0.5, 0.5, 0.5, 0.5, 0.5, 0.5]),\n",
       " 'split9_test_score': array([0.5, 0.5, 0.5, 0.5, 0.5, 0.5, 0.5, 0.5, 0.5]),\n",
       " 'mean_test_score': array([0.54166667, 0.54166667, 0.54166667, 0.60416667, 0.58333333,\n",
       "        0.60416667, 0.58333333, 0.58333333, 0.58333333]),\n",
       " 'std_test_score': array([0.04930066, 0.04930066, 0.04930066, 0.10163592, 0.11931518,\n",
       "        0.14403655, 0.15701203, 0.15701203, 0.15701203]),\n",
       " 'rank_test_score': array([7, 7, 7, 1, 3, 1, 3, 3, 3], dtype=int32)}"
      ]
     },
     "execution_count": 104,
     "metadata": {},
     "output_type": "execute_result"
    }
   ],
   "source": [
    "best_model_SVC.cv_results_"
   ]
  },
  {
   "cell_type": "code",
   "execution_count": 105,
   "metadata": {},
   "outputs": [
    {
     "data": {
      "text/plain": [
       "{'classifier': SVC(C=0.1, cache_size=200, class_weight=None, coef0=0.0,\n",
       "     decision_function_shape='ovr', degree=3, gamma='auto_deprecated',\n",
       "     kernel='linear', max_iter=-1, probability=False, random_state=None,\n",
       "     shrinking=True, tol=0.001, verbose=False),\n",
       " 'classifier__C': 0.1,\n",
       " 'classifier__kernel': 'linear'}"
      ]
     },
     "execution_count": 105,
     "metadata": {},
     "output_type": "execute_result"
    }
   ],
   "source": [
    "best_model_SVC.cv_results_['params'][ np.argmin(best_model_SVC.cv_results_['rank_test_score']) ]"
   ]
  },
  {
   "cell_type": "code",
   "execution_count": 106,
   "metadata": {},
   "outputs": [
    {
     "name": "stderr",
     "output_type": "stream",
     "text": [
      "/opt/conda/lib/python3.7/site-packages/sklearn/model_selection/_search.py:814: DeprecationWarning: The default of the `iid` parameter will change from True to False in version 0.22 and will be removed in 0.24. This will change numeric results when test-set sizes are unequal.\n",
      "  DeprecationWarning)\n"
     ]
    }
   ],
   "source": [
    "pipe_KNN = Pipeline([('classifier', KNeighborsClassifier())])\n",
    "search_space3 = [{'classifier': [KNeighborsClassifier()],\n",
    "                 'classifier__weights': ['uniform', 'distance'],\n",
    "                 'classifier__n_neighbors': [i for i in range(1,11)],\n",
    "                 'classifier__p': [1, 2]\n",
    "                }]\n",
    "# Create grid search \n",
    "clf3 = GridSearchCV(pipe_KNN, search_space3, cv=StratifiedKFold(n_splits=10), \n",
    "                   scoring='accuracy', refit=True,\n",
    "                   verbose=0)\n",
    "\n",
    "# Fit grid search\n",
    "best_model_KNN = clf3.fit(X_train, y_train)"
   ]
  },
  {
   "cell_type": "code",
   "execution_count": 107,
   "metadata": {},
   "outputs": [
    {
     "data": {
      "text/plain": [
       "{'mean_fit_time': array([0.00296512, 0.00205672, 0.00165081, 0.00170298, 0.00161142,\n",
       "        0.00171916, 0.0016814 , 0.0015981 , 0.00173035, 0.00164161,\n",
       "        0.00157478, 0.00164106, 0.00158093, 0.00164323, 0.00174952,\n",
       "        0.00183029, 0.00174389, 0.00188568, 0.00168126, 0.00171022,\n",
       "        0.00188472, 0.00166135, 0.0016777 , 0.00204525, 0.00186439,\n",
       "        0.00223441, 0.00226955, 0.00237579, 0.00229225, 0.00233028,\n",
       "        0.00230794, 0.00215409, 0.00211444, 0.00221739, 0.00220706,\n",
       "        0.00217772, 0.00172358, 0.00165153, 0.00156231, 0.00181451]),\n",
       " 'std_fit_time': array([5.87850819e-04, 2.87028151e-04, 1.03303499e-04, 1.59733075e-04,\n",
       "        5.61616003e-05, 1.20811569e-04, 1.44374215e-04, 6.54188997e-05,\n",
       "        1.05961339e-04, 8.06720680e-05, 3.52328213e-05, 1.43423092e-04,\n",
       "        3.25008251e-05, 1.03090925e-04, 2.62385122e-04, 1.41763567e-04,\n",
       "        7.74980829e-05, 9.73531960e-05, 4.59991006e-05, 4.57286337e-05,\n",
       "        1.49555262e-04, 8.21769599e-05, 1.35668376e-04, 6.80575596e-05,\n",
       "        3.89819813e-04, 3.22145478e-04, 7.81589632e-05, 3.78742690e-04,\n",
       "        3.34879331e-04, 3.44480038e-04, 3.32437188e-04, 9.61945222e-05,\n",
       "        6.51908074e-06, 2.18354773e-04, 2.16424942e-04, 2.24817140e-04,\n",
       "        2.49048099e-04, 2.31613189e-04, 5.11328651e-06, 1.45540871e-04]),\n",
       " 'mean_score_time': array([0.00232601, 0.00156679, 0.00140488, 0.00130756, 0.00133529,\n",
       "        0.0013829 , 0.00141418, 0.00123067, 0.00140882, 0.00123124,\n",
       "        0.00130997, 0.00125799, 0.0013165 , 0.00125527, 0.00144444,\n",
       "        0.00138004, 0.00145552, 0.00141406, 0.0014148 , 0.0013293 ,\n",
       "        0.00159559, 0.00124035, 0.00145736, 0.00152659, 0.00162537,\n",
       "        0.00168743, 0.00191588, 0.00208981, 0.00186186, 0.001807  ,\n",
       "        0.00186744, 0.00168042, 0.00186071, 0.00179763, 0.00177464,\n",
       "        0.00165834, 0.00146472, 0.00124094, 0.00132217, 0.00136416]),\n",
       " 'std_score_time': array([3.31873130e-04, 2.37484729e-04, 9.57726126e-05, 1.24203451e-04,\n",
       "        4.13967985e-05, 2.35662409e-04, 1.21054636e-04, 5.49366075e-05,\n",
       "        8.66841560e-05, 4.27834550e-05, 4.16399533e-05, 1.08060348e-04,\n",
       "        3.17003122e-05, 8.39871874e-05, 1.83622777e-04, 8.03494701e-05,\n",
       "        4.63382257e-05, 8.39580117e-05, 5.18509106e-05, 6.56770488e-05,\n",
       "        1.07436777e-04, 4.89844534e-05, 1.14040180e-04, 1.32031465e-04,\n",
       "        3.64984506e-04, 1.80166098e-04, 5.93216664e-05, 9.17789959e-04,\n",
       "        1.32174788e-04, 2.97218829e-04, 1.49107528e-04, 1.95433203e-04,\n",
       "        1.86422297e-04, 2.83899766e-04, 2.70625987e-05, 1.55916061e-04,\n",
       "        3.89093325e-04, 1.42840885e-04, 4.09074038e-05, 1.44091836e-04]),\n",
       " 'param_classifier': masked_array(data=[KNeighborsClassifier(algorithm='auto', leaf_size=30, metric='minkowski',\n",
       "                      metric_params=None, n_jobs=None, n_neighbors=6, p=1,\n",
       "                      weights='distance'),\n",
       "                    KNeighborsClassifier(algorithm='auto', leaf_size=30, metric='minkowski',\n",
       "                      metric_params=None, n_jobs=None, n_neighbors=6, p=1,\n",
       "                      weights='distance'),\n",
       "                    KNeighborsClassifier(algorithm='auto', leaf_size=30, metric='minkowski',\n",
       "                      metric_params=None, n_jobs=None, n_neighbors=6, p=1,\n",
       "                      weights='distance'),\n",
       "                    KNeighborsClassifier(algorithm='auto', leaf_size=30, metric='minkowski',\n",
       "                      metric_params=None, n_jobs=None, n_neighbors=6, p=1,\n",
       "                      weights='distance'),\n",
       "                    KNeighborsClassifier(algorithm='auto', leaf_size=30, metric='minkowski',\n",
       "                      metric_params=None, n_jobs=None, n_neighbors=6, p=1,\n",
       "                      weights='distance'),\n",
       "                    KNeighborsClassifier(algorithm='auto', leaf_size=30, metric='minkowski',\n",
       "                      metric_params=None, n_jobs=None, n_neighbors=6, p=1,\n",
       "                      weights='distance'),\n",
       "                    KNeighborsClassifier(algorithm='auto', leaf_size=30, metric='minkowski',\n",
       "                      metric_params=None, n_jobs=None, n_neighbors=6, p=1,\n",
       "                      weights='distance'),\n",
       "                    KNeighborsClassifier(algorithm='auto', leaf_size=30, metric='minkowski',\n",
       "                      metric_params=None, n_jobs=None, n_neighbors=6, p=1,\n",
       "                      weights='distance'),\n",
       "                    KNeighborsClassifier(algorithm='auto', leaf_size=30, metric='minkowski',\n",
       "                      metric_params=None, n_jobs=None, n_neighbors=6, p=1,\n",
       "                      weights='distance'),\n",
       "                    KNeighborsClassifier(algorithm='auto', leaf_size=30, metric='minkowski',\n",
       "                      metric_params=None, n_jobs=None, n_neighbors=6, p=1,\n",
       "                      weights='distance'),\n",
       "                    KNeighborsClassifier(algorithm='auto', leaf_size=30, metric='minkowski',\n",
       "                      metric_params=None, n_jobs=None, n_neighbors=6, p=1,\n",
       "                      weights='distance'),\n",
       "                    KNeighborsClassifier(algorithm='auto', leaf_size=30, metric='minkowski',\n",
       "                      metric_params=None, n_jobs=None, n_neighbors=6, p=1,\n",
       "                      weights='distance'),\n",
       "                    KNeighborsClassifier(algorithm='auto', leaf_size=30, metric='minkowski',\n",
       "                      metric_params=None, n_jobs=None, n_neighbors=6, p=1,\n",
       "                      weights='distance'),\n",
       "                    KNeighborsClassifier(algorithm='auto', leaf_size=30, metric='minkowski',\n",
       "                      metric_params=None, n_jobs=None, n_neighbors=6, p=1,\n",
       "                      weights='distance'),\n",
       "                    KNeighborsClassifier(algorithm='auto', leaf_size=30, metric='minkowski',\n",
       "                      metric_params=None, n_jobs=None, n_neighbors=6, p=1,\n",
       "                      weights='distance'),\n",
       "                    KNeighborsClassifier(algorithm='auto', leaf_size=30, metric='minkowski',\n",
       "                      metric_params=None, n_jobs=None, n_neighbors=6, p=1,\n",
       "                      weights='distance'),\n",
       "                    KNeighborsClassifier(algorithm='auto', leaf_size=30, metric='minkowski',\n",
       "                      metric_params=None, n_jobs=None, n_neighbors=6, p=1,\n",
       "                      weights='distance'),\n",
       "                    KNeighborsClassifier(algorithm='auto', leaf_size=30, metric='minkowski',\n",
       "                      metric_params=None, n_jobs=None, n_neighbors=6, p=1,\n",
       "                      weights='distance'),\n",
       "                    KNeighborsClassifier(algorithm='auto', leaf_size=30, metric='minkowski',\n",
       "                      metric_params=None, n_jobs=None, n_neighbors=6, p=1,\n",
       "                      weights='distance'),\n",
       "                    KNeighborsClassifier(algorithm='auto', leaf_size=30, metric='minkowski',\n",
       "                      metric_params=None, n_jobs=None, n_neighbors=6, p=1,\n",
       "                      weights='distance'),\n",
       "                    KNeighborsClassifier(algorithm='auto', leaf_size=30, metric='minkowski',\n",
       "                      metric_params=None, n_jobs=None, n_neighbors=6, p=1,\n",
       "                      weights='distance'),\n",
       "                    KNeighborsClassifier(algorithm='auto', leaf_size=30, metric='minkowski',\n",
       "                      metric_params=None, n_jobs=None, n_neighbors=6, p=1,\n",
       "                      weights='distance'),\n",
       "                    KNeighborsClassifier(algorithm='auto', leaf_size=30, metric='minkowski',\n",
       "                      metric_params=None, n_jobs=None, n_neighbors=6, p=1,\n",
       "                      weights='distance'),\n",
       "                    KNeighborsClassifier(algorithm='auto', leaf_size=30, metric='minkowski',\n",
       "                      metric_params=None, n_jobs=None, n_neighbors=6, p=1,\n",
       "                      weights='distance'),\n",
       "                    KNeighborsClassifier(algorithm='auto', leaf_size=30, metric='minkowski',\n",
       "                      metric_params=None, n_jobs=None, n_neighbors=6, p=1,\n",
       "                      weights='distance'),\n",
       "                    KNeighborsClassifier(algorithm='auto', leaf_size=30, metric='minkowski',\n",
       "                      metric_params=None, n_jobs=None, n_neighbors=6, p=1,\n",
       "                      weights='distance'),\n",
       "                    KNeighborsClassifier(algorithm='auto', leaf_size=30, metric='minkowski',\n",
       "                      metric_params=None, n_jobs=None, n_neighbors=6, p=1,\n",
       "                      weights='distance'),\n",
       "                    KNeighborsClassifier(algorithm='auto', leaf_size=30, metric='minkowski',\n",
       "                      metric_params=None, n_jobs=None, n_neighbors=6, p=1,\n",
       "                      weights='distance'),\n",
       "                    KNeighborsClassifier(algorithm='auto', leaf_size=30, metric='minkowski',\n",
       "                      metric_params=None, n_jobs=None, n_neighbors=6, p=1,\n",
       "                      weights='distance'),\n",
       "                    KNeighborsClassifier(algorithm='auto', leaf_size=30, metric='minkowski',\n",
       "                      metric_params=None, n_jobs=None, n_neighbors=6, p=1,\n",
       "                      weights='distance'),\n",
       "                    KNeighborsClassifier(algorithm='auto', leaf_size=30, metric='minkowski',\n",
       "                      metric_params=None, n_jobs=None, n_neighbors=6, p=1,\n",
       "                      weights='distance'),\n",
       "                    KNeighborsClassifier(algorithm='auto', leaf_size=30, metric='minkowski',\n",
       "                      metric_params=None, n_jobs=None, n_neighbors=6, p=1,\n",
       "                      weights='distance'),\n",
       "                    KNeighborsClassifier(algorithm='auto', leaf_size=30, metric='minkowski',\n",
       "                      metric_params=None, n_jobs=None, n_neighbors=6, p=1,\n",
       "                      weights='distance'),\n",
       "                    KNeighborsClassifier(algorithm='auto', leaf_size=30, metric='minkowski',\n",
       "                      metric_params=None, n_jobs=None, n_neighbors=6, p=1,\n",
       "                      weights='distance'),\n",
       "                    KNeighborsClassifier(algorithm='auto', leaf_size=30, metric='minkowski',\n",
       "                      metric_params=None, n_jobs=None, n_neighbors=6, p=1,\n",
       "                      weights='distance'),\n",
       "                    KNeighborsClassifier(algorithm='auto', leaf_size=30, metric='minkowski',\n",
       "                      metric_params=None, n_jobs=None, n_neighbors=6, p=1,\n",
       "                      weights='distance'),\n",
       "                    KNeighborsClassifier(algorithm='auto', leaf_size=30, metric='minkowski',\n",
       "                      metric_params=None, n_jobs=None, n_neighbors=6, p=1,\n",
       "                      weights='distance'),\n",
       "                    KNeighborsClassifier(algorithm='auto', leaf_size=30, metric='minkowski',\n",
       "                      metric_params=None, n_jobs=None, n_neighbors=6, p=1,\n",
       "                      weights='distance'),\n",
       "                    KNeighborsClassifier(algorithm='auto', leaf_size=30, metric='minkowski',\n",
       "                      metric_params=None, n_jobs=None, n_neighbors=6, p=1,\n",
       "                      weights='distance'),\n",
       "                    KNeighborsClassifier(algorithm='auto', leaf_size=30, metric='minkowski',\n",
       "                      metric_params=None, n_jobs=None, n_neighbors=6, p=1,\n",
       "                      weights='distance')],\n",
       "              mask=[False, False, False, False, False, False, False, False,\n",
       "                    False, False, False, False, False, False, False, False,\n",
       "                    False, False, False, False, False, False, False, False,\n",
       "                    False, False, False, False, False, False, False, False,\n",
       "                    False, False, False, False, False, False, False, False],\n",
       "        fill_value='?',\n",
       "             dtype=object),\n",
       " 'param_classifier__n_neighbors': masked_array(data=[1, 1, 1, 1, 2, 2, 2, 2, 3, 3, 3, 3, 4, 4, 4, 4, 5, 5,\n",
       "                    5, 5, 6, 6, 6, 6, 7, 7, 7, 7, 8, 8, 8, 8, 9, 9, 9, 9,\n",
       "                    10, 10, 10, 10],\n",
       "              mask=[False, False, False, False, False, False, False, False,\n",
       "                    False, False, False, False, False, False, False, False,\n",
       "                    False, False, False, False, False, False, False, False,\n",
       "                    False, False, False, False, False, False, False, False,\n",
       "                    False, False, False, False, False, False, False, False],\n",
       "        fill_value='?',\n",
       "             dtype=object),\n",
       " 'param_classifier__p': masked_array(data=[1, 1, 2, 2, 1, 1, 2, 2, 1, 1, 2, 2, 1, 1, 2, 2, 1, 1,\n",
       "                    2, 2, 1, 1, 2, 2, 1, 1, 2, 2, 1, 1, 2, 2, 1, 1, 2, 2,\n",
       "                    1, 1, 2, 2],\n",
       "              mask=[False, False, False, False, False, False, False, False,\n",
       "                    False, False, False, False, False, False, False, False,\n",
       "                    False, False, False, False, False, False, False, False,\n",
       "                    False, False, False, False, False, False, False, False,\n",
       "                    False, False, False, False, False, False, False, False],\n",
       "        fill_value='?',\n",
       "             dtype=object),\n",
       " 'param_classifier__weights': masked_array(data=['uniform', 'distance', 'uniform', 'distance',\n",
       "                    'uniform', 'distance', 'uniform', 'distance',\n",
       "                    'uniform', 'distance', 'uniform', 'distance',\n",
       "                    'uniform', 'distance', 'uniform', 'distance',\n",
       "                    'uniform', 'distance', 'uniform', 'distance',\n",
       "                    'uniform', 'distance', 'uniform', 'distance',\n",
       "                    'uniform', 'distance', 'uniform', 'distance',\n",
       "                    'uniform', 'distance', 'uniform', 'distance',\n",
       "                    'uniform', 'distance', 'uniform', 'distance',\n",
       "                    'uniform', 'distance', 'uniform', 'distance'],\n",
       "              mask=[False, False, False, False, False, False, False, False,\n",
       "                    False, False, False, False, False, False, False, False,\n",
       "                    False, False, False, False, False, False, False, False,\n",
       "                    False, False, False, False, False, False, False, False,\n",
       "                    False, False, False, False, False, False, False, False],\n",
       "        fill_value='?',\n",
       "             dtype=object),\n",
       " 'params': [{'classifier': KNeighborsClassifier(algorithm='auto', leaf_size=30, metric='minkowski',\n",
       "                        metric_params=None, n_jobs=None, n_neighbors=6, p=1,\n",
       "                        weights='distance'),\n",
       "   'classifier__n_neighbors': 1,\n",
       "   'classifier__p': 1,\n",
       "   'classifier__weights': 'uniform'},\n",
       "  {'classifier': KNeighborsClassifier(algorithm='auto', leaf_size=30, metric='minkowski',\n",
       "                        metric_params=None, n_jobs=None, n_neighbors=6, p=1,\n",
       "                        weights='distance'),\n",
       "   'classifier__n_neighbors': 1,\n",
       "   'classifier__p': 1,\n",
       "   'classifier__weights': 'distance'},\n",
       "  {'classifier': KNeighborsClassifier(algorithm='auto', leaf_size=30, metric='minkowski',\n",
       "                        metric_params=None, n_jobs=None, n_neighbors=6, p=1,\n",
       "                        weights='distance'),\n",
       "   'classifier__n_neighbors': 1,\n",
       "   'classifier__p': 2,\n",
       "   'classifier__weights': 'uniform'},\n",
       "  {'classifier': KNeighborsClassifier(algorithm='auto', leaf_size=30, metric='minkowski',\n",
       "                        metric_params=None, n_jobs=None, n_neighbors=6, p=1,\n",
       "                        weights='distance'),\n",
       "   'classifier__n_neighbors': 1,\n",
       "   'classifier__p': 2,\n",
       "   'classifier__weights': 'distance'},\n",
       "  {'classifier': KNeighborsClassifier(algorithm='auto', leaf_size=30, metric='minkowski',\n",
       "                        metric_params=None, n_jobs=None, n_neighbors=6, p=1,\n",
       "                        weights='distance'),\n",
       "   'classifier__n_neighbors': 2,\n",
       "   'classifier__p': 1,\n",
       "   'classifier__weights': 'uniform'},\n",
       "  {'classifier': KNeighborsClassifier(algorithm='auto', leaf_size=30, metric='minkowski',\n",
       "                        metric_params=None, n_jobs=None, n_neighbors=6, p=1,\n",
       "                        weights='distance'),\n",
       "   'classifier__n_neighbors': 2,\n",
       "   'classifier__p': 1,\n",
       "   'classifier__weights': 'distance'},\n",
       "  {'classifier': KNeighborsClassifier(algorithm='auto', leaf_size=30, metric='minkowski',\n",
       "                        metric_params=None, n_jobs=None, n_neighbors=6, p=1,\n",
       "                        weights='distance'),\n",
       "   'classifier__n_neighbors': 2,\n",
       "   'classifier__p': 2,\n",
       "   'classifier__weights': 'uniform'},\n",
       "  {'classifier': KNeighborsClassifier(algorithm='auto', leaf_size=30, metric='minkowski',\n",
       "                        metric_params=None, n_jobs=None, n_neighbors=6, p=1,\n",
       "                        weights='distance'),\n",
       "   'classifier__n_neighbors': 2,\n",
       "   'classifier__p': 2,\n",
       "   'classifier__weights': 'distance'},\n",
       "  {'classifier': KNeighborsClassifier(algorithm='auto', leaf_size=30, metric='minkowski',\n",
       "                        metric_params=None, n_jobs=None, n_neighbors=6, p=1,\n",
       "                        weights='distance'),\n",
       "   'classifier__n_neighbors': 3,\n",
       "   'classifier__p': 1,\n",
       "   'classifier__weights': 'uniform'},\n",
       "  {'classifier': KNeighborsClassifier(algorithm='auto', leaf_size=30, metric='minkowski',\n",
       "                        metric_params=None, n_jobs=None, n_neighbors=6, p=1,\n",
       "                        weights='distance'),\n",
       "   'classifier__n_neighbors': 3,\n",
       "   'classifier__p': 1,\n",
       "   'classifier__weights': 'distance'},\n",
       "  {'classifier': KNeighborsClassifier(algorithm='auto', leaf_size=30, metric='minkowski',\n",
       "                        metric_params=None, n_jobs=None, n_neighbors=6, p=1,\n",
       "                        weights='distance'),\n",
       "   'classifier__n_neighbors': 3,\n",
       "   'classifier__p': 2,\n",
       "   'classifier__weights': 'uniform'},\n",
       "  {'classifier': KNeighborsClassifier(algorithm='auto', leaf_size=30, metric='minkowski',\n",
       "                        metric_params=None, n_jobs=None, n_neighbors=6, p=1,\n",
       "                        weights='distance'),\n",
       "   'classifier__n_neighbors': 3,\n",
       "   'classifier__p': 2,\n",
       "   'classifier__weights': 'distance'},\n",
       "  {'classifier': KNeighborsClassifier(algorithm='auto', leaf_size=30, metric='minkowski',\n",
       "                        metric_params=None, n_jobs=None, n_neighbors=6, p=1,\n",
       "                        weights='distance'),\n",
       "   'classifier__n_neighbors': 4,\n",
       "   'classifier__p': 1,\n",
       "   'classifier__weights': 'uniform'},\n",
       "  {'classifier': KNeighborsClassifier(algorithm='auto', leaf_size=30, metric='minkowski',\n",
       "                        metric_params=None, n_jobs=None, n_neighbors=6, p=1,\n",
       "                        weights='distance'),\n",
       "   'classifier__n_neighbors': 4,\n",
       "   'classifier__p': 1,\n",
       "   'classifier__weights': 'distance'},\n",
       "  {'classifier': KNeighborsClassifier(algorithm='auto', leaf_size=30, metric='minkowski',\n",
       "                        metric_params=None, n_jobs=None, n_neighbors=6, p=1,\n",
       "                        weights='distance'),\n",
       "   'classifier__n_neighbors': 4,\n",
       "   'classifier__p': 2,\n",
       "   'classifier__weights': 'uniform'},\n",
       "  {'classifier': KNeighborsClassifier(algorithm='auto', leaf_size=30, metric='minkowski',\n",
       "                        metric_params=None, n_jobs=None, n_neighbors=6, p=1,\n",
       "                        weights='distance'),\n",
       "   'classifier__n_neighbors': 4,\n",
       "   'classifier__p': 2,\n",
       "   'classifier__weights': 'distance'},\n",
       "  {'classifier': KNeighborsClassifier(algorithm='auto', leaf_size=30, metric='minkowski',\n",
       "                        metric_params=None, n_jobs=None, n_neighbors=6, p=1,\n",
       "                        weights='distance'),\n",
       "   'classifier__n_neighbors': 5,\n",
       "   'classifier__p': 1,\n",
       "   'classifier__weights': 'uniform'},\n",
       "  {'classifier': KNeighborsClassifier(algorithm='auto', leaf_size=30, metric='minkowski',\n",
       "                        metric_params=None, n_jobs=None, n_neighbors=6, p=1,\n",
       "                        weights='distance'),\n",
       "   'classifier__n_neighbors': 5,\n",
       "   'classifier__p': 1,\n",
       "   'classifier__weights': 'distance'},\n",
       "  {'classifier': KNeighborsClassifier(algorithm='auto', leaf_size=30, metric='minkowski',\n",
       "                        metric_params=None, n_jobs=None, n_neighbors=6, p=1,\n",
       "                        weights='distance'),\n",
       "   'classifier__n_neighbors': 5,\n",
       "   'classifier__p': 2,\n",
       "   'classifier__weights': 'uniform'},\n",
       "  {'classifier': KNeighborsClassifier(algorithm='auto', leaf_size=30, metric='minkowski',\n",
       "                        metric_params=None, n_jobs=None, n_neighbors=6, p=1,\n",
       "                        weights='distance'),\n",
       "   'classifier__n_neighbors': 5,\n",
       "   'classifier__p': 2,\n",
       "   'classifier__weights': 'distance'},\n",
       "  {'classifier': KNeighborsClassifier(algorithm='auto', leaf_size=30, metric='minkowski',\n",
       "                        metric_params=None, n_jobs=None, n_neighbors=6, p=1,\n",
       "                        weights='distance'),\n",
       "   'classifier__n_neighbors': 6,\n",
       "   'classifier__p': 1,\n",
       "   'classifier__weights': 'uniform'},\n",
       "  {'classifier': KNeighborsClassifier(algorithm='auto', leaf_size=30, metric='minkowski',\n",
       "                        metric_params=None, n_jobs=None, n_neighbors=6, p=1,\n",
       "                        weights='distance'),\n",
       "   'classifier__n_neighbors': 6,\n",
       "   'classifier__p': 1,\n",
       "   'classifier__weights': 'distance'},\n",
       "  {'classifier': KNeighborsClassifier(algorithm='auto', leaf_size=30, metric='minkowski',\n",
       "                        metric_params=None, n_jobs=None, n_neighbors=6, p=1,\n",
       "                        weights='distance'),\n",
       "   'classifier__n_neighbors': 6,\n",
       "   'classifier__p': 2,\n",
       "   'classifier__weights': 'uniform'},\n",
       "  {'classifier': KNeighborsClassifier(algorithm='auto', leaf_size=30, metric='minkowski',\n",
       "                        metric_params=None, n_jobs=None, n_neighbors=6, p=1,\n",
       "                        weights='distance'),\n",
       "   'classifier__n_neighbors': 6,\n",
       "   'classifier__p': 2,\n",
       "   'classifier__weights': 'distance'},\n",
       "  {'classifier': KNeighborsClassifier(algorithm='auto', leaf_size=30, metric='minkowski',\n",
       "                        metric_params=None, n_jobs=None, n_neighbors=6, p=1,\n",
       "                        weights='distance'),\n",
       "   'classifier__n_neighbors': 7,\n",
       "   'classifier__p': 1,\n",
       "   'classifier__weights': 'uniform'},\n",
       "  {'classifier': KNeighborsClassifier(algorithm='auto', leaf_size=30, metric='minkowski',\n",
       "                        metric_params=None, n_jobs=None, n_neighbors=6, p=1,\n",
       "                        weights='distance'),\n",
       "   'classifier__n_neighbors': 7,\n",
       "   'classifier__p': 1,\n",
       "   'classifier__weights': 'distance'},\n",
       "  {'classifier': KNeighborsClassifier(algorithm='auto', leaf_size=30, metric='minkowski',\n",
       "                        metric_params=None, n_jobs=None, n_neighbors=6, p=1,\n",
       "                        weights='distance'),\n",
       "   'classifier__n_neighbors': 7,\n",
       "   'classifier__p': 2,\n",
       "   'classifier__weights': 'uniform'},\n",
       "  {'classifier': KNeighborsClassifier(algorithm='auto', leaf_size=30, metric='minkowski',\n",
       "                        metric_params=None, n_jobs=None, n_neighbors=6, p=1,\n",
       "                        weights='distance'),\n",
       "   'classifier__n_neighbors': 7,\n",
       "   'classifier__p': 2,\n",
       "   'classifier__weights': 'distance'},\n",
       "  {'classifier': KNeighborsClassifier(algorithm='auto', leaf_size=30, metric='minkowski',\n",
       "                        metric_params=None, n_jobs=None, n_neighbors=6, p=1,\n",
       "                        weights='distance'),\n",
       "   'classifier__n_neighbors': 8,\n",
       "   'classifier__p': 1,\n",
       "   'classifier__weights': 'uniform'},\n",
       "  {'classifier': KNeighborsClassifier(algorithm='auto', leaf_size=30, metric='minkowski',\n",
       "                        metric_params=None, n_jobs=None, n_neighbors=6, p=1,\n",
       "                        weights='distance'),\n",
       "   'classifier__n_neighbors': 8,\n",
       "   'classifier__p': 1,\n",
       "   'classifier__weights': 'distance'},\n",
       "  {'classifier': KNeighborsClassifier(algorithm='auto', leaf_size=30, metric='minkowski',\n",
       "                        metric_params=None, n_jobs=None, n_neighbors=6, p=1,\n",
       "                        weights='distance'),\n",
       "   'classifier__n_neighbors': 8,\n",
       "   'classifier__p': 2,\n",
       "   'classifier__weights': 'uniform'},\n",
       "  {'classifier': KNeighborsClassifier(algorithm='auto', leaf_size=30, metric='minkowski',\n",
       "                        metric_params=None, n_jobs=None, n_neighbors=6, p=1,\n",
       "                        weights='distance'),\n",
       "   'classifier__n_neighbors': 8,\n",
       "   'classifier__p': 2,\n",
       "   'classifier__weights': 'distance'},\n",
       "  {'classifier': KNeighborsClassifier(algorithm='auto', leaf_size=30, metric='minkowski',\n",
       "                        metric_params=None, n_jobs=None, n_neighbors=6, p=1,\n",
       "                        weights='distance'),\n",
       "   'classifier__n_neighbors': 9,\n",
       "   'classifier__p': 1,\n",
       "   'classifier__weights': 'uniform'},\n",
       "  {'classifier': KNeighborsClassifier(algorithm='auto', leaf_size=30, metric='minkowski',\n",
       "                        metric_params=None, n_jobs=None, n_neighbors=6, p=1,\n",
       "                        weights='distance'),\n",
       "   'classifier__n_neighbors': 9,\n",
       "   'classifier__p': 1,\n",
       "   'classifier__weights': 'distance'},\n",
       "  {'classifier': KNeighborsClassifier(algorithm='auto', leaf_size=30, metric='minkowski',\n",
       "                        metric_params=None, n_jobs=None, n_neighbors=6, p=1,\n",
       "                        weights='distance'),\n",
       "   'classifier__n_neighbors': 9,\n",
       "   'classifier__p': 2,\n",
       "   'classifier__weights': 'uniform'},\n",
       "  {'classifier': KNeighborsClassifier(algorithm='auto', leaf_size=30, metric='minkowski',\n",
       "                        metric_params=None, n_jobs=None, n_neighbors=6, p=1,\n",
       "                        weights='distance'),\n",
       "   'classifier__n_neighbors': 9,\n",
       "   'classifier__p': 2,\n",
       "   'classifier__weights': 'distance'},\n",
       "  {'classifier': KNeighborsClassifier(algorithm='auto', leaf_size=30, metric='minkowski',\n",
       "                        metric_params=None, n_jobs=None, n_neighbors=6, p=1,\n",
       "                        weights='distance'),\n",
       "   'classifier__n_neighbors': 10,\n",
       "   'classifier__p': 1,\n",
       "   'classifier__weights': 'uniform'},\n",
       "  {'classifier': KNeighborsClassifier(algorithm='auto', leaf_size=30, metric='minkowski',\n",
       "                        metric_params=None, n_jobs=None, n_neighbors=6, p=1,\n",
       "                        weights='distance'),\n",
       "   'classifier__n_neighbors': 10,\n",
       "   'classifier__p': 1,\n",
       "   'classifier__weights': 'distance'},\n",
       "  {'classifier': KNeighborsClassifier(algorithm='auto', leaf_size=30, metric='minkowski',\n",
       "                        metric_params=None, n_jobs=None, n_neighbors=6, p=1,\n",
       "                        weights='distance'),\n",
       "   'classifier__n_neighbors': 10,\n",
       "   'classifier__p': 2,\n",
       "   'classifier__weights': 'uniform'},\n",
       "  {'classifier': KNeighborsClassifier(algorithm='auto', leaf_size=30, metric='minkowski',\n",
       "                        metric_params=None, n_jobs=None, n_neighbors=6, p=1,\n",
       "                        weights='distance'),\n",
       "   'classifier__n_neighbors': 10,\n",
       "   'classifier__p': 2,\n",
       "   'classifier__weights': 'distance'}],\n",
       " 'split0_test_score': array([0.33333333, 0.33333333, 0.33333333, 0.33333333, 0.5       ,\n",
       "        0.33333333, 0.5       , 0.33333333, 0.66666667, 0.5       ,\n",
       "        0.83333333, 0.5       , 0.66666667, 0.33333333, 0.66666667,\n",
       "        0.5       , 0.66666667, 0.5       , 0.33333333, 0.33333333,\n",
       "        0.66666667, 0.5       , 0.33333333, 0.33333333, 0.5       ,\n",
       "        0.5       , 0.5       , 0.5       , 0.66666667, 0.5       ,\n",
       "        0.5       , 0.5       , 0.5       , 0.5       , 0.5       ,\n",
       "        0.5       , 0.33333333, 0.5       , 0.5       , 0.5       ]),\n",
       " 'split1_test_score': array([0.33333333, 0.33333333, 0.5       , 0.5       , 0.66666667,\n",
       "        0.33333333, 0.66666667, 0.5       , 0.5       , 0.5       ,\n",
       "        0.5       , 0.5       , 0.33333333, 0.5       , 0.5       ,\n",
       "        0.5       , 0.33333333, 0.16666667, 0.33333333, 0.33333333,\n",
       "        0.33333333, 0.5       , 0.5       , 0.5       , 0.33333333,\n",
       "        0.33333333, 0.5       , 0.66666667, 0.33333333, 0.5       ,\n",
       "        0.33333333, 0.5       , 0.33333333, 0.33333333, 0.33333333,\n",
       "        0.33333333, 0.33333333, 0.33333333, 0.16666667, 0.5       ]),\n",
       " 'split2_test_score': array([0.6, 0.6, 0.6, 0.6, 0.6, 0.6, 0.6, 0.6, 0.6, 0.6, 0.4, 0.4, 0.6,\n",
       "        0.6, 0.8, 0.6, 0.4, 0.4, 0.6, 0.6, 0.6, 0.8, 0.6, 0.6, 0.6, 0.6,\n",
       "        0.4, 0.4, 0.6, 0.6, 0.4, 0.6, 0.6, 0.6, 0.6, 0.6, 0.6, 0.6, 0.6,\n",
       "        0.6]),\n",
       " 'split3_test_score': array([0.6, 0.6, 0.4, 0.4, 0.4, 0.6, 0.2, 0.4, 0.4, 0.4, 0.6, 0.6, 0.4,\n",
       "        0.6, 0.4, 0.6, 0.6, 0.6, 0.4, 0.6, 0.4, 0.6, 0.6, 0.6, 0.4, 0.6,\n",
       "        0.6, 0.6, 0.4, 0.6, 0.6, 0.6, 0.6, 0.6, 0.6, 0.6, 0.6, 0.6, 0.6,\n",
       "        0.6]),\n",
       " 'split4_test_score': array([0.4, 0.4, 0.4, 0.4, 0.4, 0.4, 0.4, 0.4, 0.6, 0.6, 0.4, 0.4, 0.4,\n",
       "        0.6, 0.4, 0.4, 0.6, 0.6, 0.6, 0.6, 0.4, 0.6, 0.6, 0.6, 0.4, 0.4,\n",
       "        0.6, 0.6, 0.4, 0.6, 0.4, 0.4, 0.4, 0.4, 0.8, 0.6, 0.6, 0.6, 0.8,\n",
       "        0.8]),\n",
       " 'split5_test_score': array([0.8, 0.8, 0.6, 0.6, 0.4, 0.8, 0.4, 0.6, 0.4, 0.6, 0.4, 0.6, 0.6,\n",
       "        0.6, 0.6, 0.6, 0.6, 0.6, 0.6, 0.6, 0.6, 0.6, 0.6, 0.8, 1. , 0.8,\n",
       "        0.8, 0.6, 0.8, 0.8, 0.8, 0.8, 1. , 0.8, 1. , 0.8, 1. , 1. , 0.8,\n",
       "        0.8]),\n",
       " 'split6_test_score': array([1.  , 1.  , 1.  , 1.  , 1.  , 1.  , 0.75, 1.  , 1.  , 1.  , 1.  ,\n",
       "        1.  , 1.  , 1.  , 1.  , 1.  , 0.75, 0.75, 0.75, 0.75, 0.75, 1.  ,\n",
       "        0.75, 1.  , 0.75, 0.75, 0.75, 1.  , 0.75, 0.75, 0.75, 0.75, 0.75,\n",
       "        0.75, 0.75, 0.75, 0.75, 0.75, 0.75, 0.75]),\n",
       " 'split7_test_score': array([0.75, 0.75, 0.5 , 0.5 , 0.75, 0.75, 0.5 , 0.5 , 0.75, 0.75, 0.5 ,\n",
       "        0.5 , 0.75, 0.75, 0.75, 0.25, 0.5 , 0.5 , 0.75, 0.75, 0.5 , 0.75,\n",
       "        0.25, 0.5 , 0.5 , 0.75, 0.5 , 0.5 , 0.5 , 0.75, 0.25, 0.5 , 0.5 ,\n",
       "        0.5 , 0.25, 0.5 , 0.5 , 0.75, 0.25, 0.25]),\n",
       " 'split8_test_score': array([0.75, 0.75, 0.75, 0.75, 0.5 , 0.75, 0.5 , 0.75, 0.25, 0.75, 0.25,\n",
       "        0.75, 0.5 , 0.5 , 0.25, 0.25, 0.25, 0.75, 0.25, 0.75, 0.25, 0.75,\n",
       "        0.25, 0.75, 0.25, 0.75, 0.25, 0.75, 0.5 , 0.75, 0.25, 0.5 , 0.5 ,\n",
       "        0.75, 0.5 , 0.5 , 0.5 , 0.75, 0.5 , 0.5 ]),\n",
       " 'split9_test_score': array([0.75, 0.75, 0.5 , 0.5 , 0.25, 0.75, 0.25, 0.5 , 0.75, 0.75, 0.75,\n",
       "        0.75, 0.5 , 0.75, 0.75, 0.75, 0.75, 0.75, 0.5 , 0.75, 0.5 , 0.75,\n",
       "        0.25, 0.75, 0.75, 0.75, 0.5 , 0.75, 0.75, 0.75, 0.75, 0.75, 0.75,\n",
       "        0.75, 0.75, 0.75, 0.5 , 0.75, 0.5 , 0.75]),\n",
       " 'mean_test_score': array([0.60416667, 0.60416667, 0.54166667, 0.54166667, 0.54166667,\n",
       "        0.60416667, 0.47916667, 0.54166667, 0.58333333, 0.625     ,\n",
       "        0.5625    , 0.58333333, 0.5625    , 0.60416667, 0.60416667,\n",
       "        0.54166667, 0.54166667, 0.54166667, 0.5       , 0.58333333,\n",
       "        0.5       , 0.66666667, 0.47916667, 0.625     , 0.54166667,\n",
       "        0.60416667, 0.54166667, 0.625     , 0.5625    , 0.64583333,\n",
       "        0.5       , 0.58333333, 0.58333333, 0.58333333, 0.60416667,\n",
       "        0.58333333, 0.5625    , 0.64583333, 0.54166667, 0.60416667]),\n",
       " 'std_test_score': array([0.21225476, 0.21225476, 0.17873009, 0.17873009, 0.19275056,\n",
       "        0.21225476, 0.16110512, 0.17873009, 0.19275056, 0.15811388,\n",
       "        0.21307113, 0.16873714, 0.1823363 , 0.16744609, 0.20391141,\n",
       "        0.19720266, 0.15811388, 0.17873009, 0.16351181, 0.15811388,\n",
       "        0.14672347, 0.14553541, 0.16744609, 0.17775608, 0.21570299,\n",
       "        0.16110512, 0.14553541, 0.15252504, 0.16110512, 0.10984522,\n",
       "        0.19184774, 0.12638126, 0.19002924, 0.15701203, 0.21388438,\n",
       "        0.13944334, 0.19342491, 0.17945713, 0.20833333, 0.16002387]),\n",
       " 'rank_test_score': array([ 7,  7, 26, 26, 26,  7, 39, 26, 15,  4, 22, 15, 22,  7,  7, 26, 26,\n",
       "        26, 36, 15, 36,  1, 39,  4, 26,  7, 26,  4, 22,  2, 36, 15, 15, 15,\n",
       "         7, 15, 22,  2, 26,  7], dtype=int32)}"
      ]
     },
     "execution_count": 107,
     "metadata": {},
     "output_type": "execute_result"
    }
   ],
   "source": [
    "best_model_KNN.cv_results_"
   ]
  },
  {
   "cell_type": "code",
   "execution_count": 108,
   "metadata": {},
   "outputs": [
    {
     "data": {
      "text/plain": [
       "{'classifier': KNeighborsClassifier(algorithm='auto', leaf_size=30, metric='minkowski',\n",
       "                      metric_params=None, n_jobs=None, n_neighbors=6, p=1,\n",
       "                      weights='distance'),\n",
       " 'classifier__n_neighbors': 6,\n",
       " 'classifier__p': 1,\n",
       " 'classifier__weights': 'distance'}"
      ]
     },
     "execution_count": 108,
     "metadata": {},
     "output_type": "execute_result"
    }
   ],
   "source": [
    "best_model_KNN.cv_results_['params'][ np.argmin(best_model_KNN.cv_results_['rank_test_score']) ]"
   ]
  },
  {
   "cell_type": "markdown",
   "metadata": {},
   "source": [
    "## Train Best Models"
   ]
  },
  {
   "cell_type": "markdown",
   "metadata": {},
   "source": [
    "### LDA "
   ]
  },
  {
   "cell_type": "code",
   "execution_count": 109,
   "metadata": {},
   "outputs": [
    {
     "data": {
      "text/plain": [
       "LinearDiscriminantAnalysis(n_components=None, priors=None, shrinkage=None,\n",
       "                           solver='svd', store_covariance=False, tol=0.0001)"
      ]
     },
     "execution_count": 109,
     "metadata": {},
     "output_type": "execute_result"
    }
   ],
   "source": [
    "best_LDA_model = LinearDiscriminantAnalysis(solver='svd')\n",
    "best_LDA_model.fit(X_train, y_train)"
   ]
  },
  {
   "cell_type": "code",
   "execution_count": 110,
   "metadata": {},
   "outputs": [],
   "source": [
    "y_pred_LDA = best_LDA_model.predict(X_test)"
   ]
  },
  {
   "cell_type": "code",
   "execution_count": 111,
   "metadata": {},
   "outputs": [],
   "source": [
    "accuracy_LDA = accuracy_score(y_pred_LDA, y_test)"
   ]
  },
  {
   "cell_type": "code",
   "execution_count": 112,
   "metadata": {},
   "outputs": [
    {
     "data": {
      "text/plain": [
       "0.65625"
      ]
     },
     "execution_count": 112,
     "metadata": {},
     "output_type": "execute_result"
    }
   ],
   "source": [
    "accuracy_LDA"
   ]
  },
  {
   "cell_type": "markdown",
   "metadata": {},
   "source": [
    "### SVM"
   ]
  },
  {
   "cell_type": "code",
   "execution_count": 113,
   "metadata": {},
   "outputs": [],
   "source": [
    "best_SVM_model = SVC(C=0.1, kernel='linear', max_iter=-1, random_state=None,verbose=False)\n",
    "best_SVM_model.fit(X_train, y_train)\n",
    "\n",
    "y_pred_SVM = best_SVM_model.predict(X_test)\n",
    "\n",
    "accuracy_SVM = accuracy_score(y_pred_SVM, y_test)"
   ]
  },
  {
   "cell_type": "code",
   "execution_count": 114,
   "metadata": {},
   "outputs": [
    {
     "data": {
      "text/plain": [
       "0.59375"
      ]
     },
     "execution_count": 114,
     "metadata": {},
     "output_type": "execute_result"
    }
   ],
   "source": [
    "accuracy_SVM"
   ]
  },
  {
   "cell_type": "markdown",
   "metadata": {},
   "source": [
    "### KNN"
   ]
  },
  {
   "cell_type": "markdown",
   "metadata": {},
   "source": [
    "The first KNN  was a random test, as it had the best results with the 80/20 split"
   ]
  },
  {
   "cell_type": "code",
   "execution_count": 115,
   "metadata": {},
   "outputs": [],
   "source": [
    "best_KNN_model1 = KNeighborsClassifier(n_neighbors=4, p=2,weights='uniform') \n",
    "best_KNN_model1.fit(X_train, y_train)\n",
    "\n",
    "y_pred_KNN1 = best_KNN_model1.predict(X_test)\n",
    "\n",
    "accuracy_KNN1 = accuracy_score(y_pred_KNN1, y_test)"
   ]
  },
  {
   "cell_type": "code",
   "execution_count": 116,
   "metadata": {},
   "outputs": [
    {
     "data": {
      "text/plain": [
       "0.53125"
      ]
     },
     "execution_count": 116,
     "metadata": {},
     "output_type": "execute_result"
    }
   ],
   "source": [
    "accuracy_KNN1"
   ]
  },
  {
   "cell_type": "code",
   "execution_count": 117,
   "metadata": {},
   "outputs": [
    {
     "data": {
      "text/plain": [
       "0.625"
      ]
     },
     "execution_count": 117,
     "metadata": {},
     "output_type": "execute_result"
    }
   ],
   "source": [
    "best_KNN_model2 = KNeighborsClassifier(n_neighbors=6, p=1,weights='distance')\n",
    "best_KNN_model2.fit(X_train, y_train)\n",
    "\n",
    "y_pred_KNN2 = best_KNN_model2.predict(X_test)\n",
    "\n",
    "accuracy_KNN2 = accuracy_score(y_pred_KNN2, y_test)\n",
    "\n",
    "accuracy_KNN2"
   ]
  }
 ],
 "metadata": {
  "kernelspec": {
   "display_name": "Python 3",
   "language": "python",
   "name": "python3"
  },
  "language_info": {
   "codemirror_mode": {
    "name": "ipython",
    "version": 3
   },
   "file_extension": ".py",
   "mimetype": "text/x-python",
   "name": "python",
   "nbconvert_exporter": "python",
   "pygments_lexer": "ipython3",
   "version": "3.7.3"
  }
 },
 "nbformat": 4,
 "nbformat_minor": 2
}
