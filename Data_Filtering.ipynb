{
 "cells": [
  {
   "cell_type": "markdown",
   "metadata": {},
   "source": [
    "\n",
    "# COGS 189: Depression\n",
    "\n",
    "## Overview\n",
    "In this project, we ______________.<br>\n",
    "\n",
    "### EEG Data\n",
    "For this dataset, we will be using data collected from James F. Cavanagh & John J.B.Allen's Depression Rest (d003) located at the following URL: http://predict.cs.unm.edu/downloads.php.\n",
    "<br>\n",
    "***\n",
    "## Section 1: Setup\n",
    "We will be importing the following packages: <br>\n",
    "- numpy\n",
    "- scipy\n",
    "- matplotlib\n",
    "- seaborn\n",
    "- pandas"
   ]
  },
  {
   "cell_type": "code",
   "execution_count": 1,
   "metadata": {},
   "outputs": [],
   "source": [
    "import numpy as np                                      # for dealing with data\n",
    "from scipy.signal import butter, sosfiltfilt, sosfreqz  # for filtering\n",
    "from scipy.io import loadmat                            # for importing matlab files\n",
    "import matplotlib.pyplot as plt                         # for plotting\n",
    "import seaborn as sns                                   # for visualization\n",
    "import pandas as pd                                     # for importing datasets and handling data"
   ]
  },
  {
   "cell_type": "markdown",
   "metadata": {},
   "source": [
    "Since each column in the EEG data corresponds to the columns in EEG times, we will use times_df as the column labels for data_df."
   ]
  },
  {
   "cell_type": "code",
   "execution_count": 2,
   "metadata": {},
   "outputs": [],
   "source": [
    "num = '581'\n",
    "data_t = pd.read_csv('Data/' + num +'_data.csv')\n",
    "channels = pd.read_csv('Data/' + num + 'c.csv')\n",
    "events = pd.read_csv('Data/' + num + 'e.csv')\n",
    "events['type'] = events['type'].astype(str)"
   ]
  },
  {
   "cell_type": "code",
   "execution_count": 3,
   "metadata": {},
   "outputs": [
    {
     "data": {
      "text/html": [
       "<div>\n",
       "<style scoped>\n",
       "    .dataframe tbody tr th:only-of-type {\n",
       "        vertical-align: middle;\n",
       "    }\n",
       "\n",
       "    .dataframe tbody tr th {\n",
       "        vertical-align: top;\n",
       "    }\n",
       "\n",
       "    .dataframe thead th {\n",
       "        text-align: right;\n",
       "    }\n",
       "</style>\n",
       "<table border=\"1\" class=\"dataframe\">\n",
       "  <thead>\n",
       "    <tr style=\"text-align: right;\">\n",
       "      <th></th>\n",
       "      <th>0</th>\n",
       "      <th>2</th>\n",
       "      <th>4</th>\n",
       "      <th>6</th>\n",
       "      <th>8</th>\n",
       "      <th>10</th>\n",
       "      <th>12</th>\n",
       "      <th>14</th>\n",
       "      <th>16</th>\n",
       "      <th>18</th>\n",
       "      <th>...</th>\n",
       "      <th>533480</th>\n",
       "      <th>533482</th>\n",
       "      <th>533484</th>\n",
       "      <th>533486</th>\n",
       "      <th>533488</th>\n",
       "      <th>533490</th>\n",
       "      <th>533492</th>\n",
       "      <th>533494</th>\n",
       "      <th>533496</th>\n",
       "      <th>533498</th>\n",
       "    </tr>\n",
       "  </thead>\n",
       "  <tbody>\n",
       "    <tr>\n",
       "      <th>0</th>\n",
       "      <td>-22.067210</td>\n",
       "      <td>-23.904130</td>\n",
       "      <td>-28.987280</td>\n",
       "      <td>-29.649160</td>\n",
       "      <td>-25.700130</td>\n",
       "      <td>-23.452060</td>\n",
       "      <td>-23.818880</td>\n",
       "      <td>-23.578080</td>\n",
       "      <td>-22.337660</td>\n",
       "      <td>-20.762730</td>\n",
       "      <td>...</td>\n",
       "      <td>0</td>\n",
       "      <td>0</td>\n",
       "      <td>0</td>\n",
       "      <td>2.534828</td>\n",
       "      <td>0.010972</td>\n",
       "      <td>719.061</td>\n",
       "      <td>0.000000</td>\n",
       "      <td>0.000148</td>\n",
       "      <td>16.311660</td>\n",
       "      <td>116604.5000</td>\n",
       "    </tr>\n",
       "    <tr>\n",
       "      <th>1</th>\n",
       "      <td>-1.028254</td>\n",
       "      <td>-1.463279</td>\n",
       "      <td>-7.097401</td>\n",
       "      <td>-9.161324</td>\n",
       "      <td>-5.729756</td>\n",
       "      <td>-2.985125</td>\n",
       "      <td>-2.519705</td>\n",
       "      <td>-1.917431</td>\n",
       "      <td>-0.435025</td>\n",
       "      <td>1.093048</td>\n",
       "      <td>...</td>\n",
       "      <td>0</td>\n",
       "      <td>0</td>\n",
       "      <td>0</td>\n",
       "      <td>7.431306</td>\n",
       "      <td>0.010972</td>\n",
       "      <td>719.061</td>\n",
       "      <td>0.010972</td>\n",
       "      <td>719.061000</td>\n",
       "      <td>0.000000</td>\n",
       "      <td>0.0000</td>\n",
       "    </tr>\n",
       "    <tr>\n",
       "      <th>2</th>\n",
       "      <td>-2.210561</td>\n",
       "      <td>-1.724235</td>\n",
       "      <td>-8.046034</td>\n",
       "      <td>-11.219020</td>\n",
       "      <td>-7.179543</td>\n",
       "      <td>-2.948799</td>\n",
       "      <td>-1.980298</td>\n",
       "      <td>-1.740248</td>\n",
       "      <td>0.583147</td>\n",
       "      <td>2.640100</td>\n",
       "      <td>...</td>\n",
       "      <td>0</td>\n",
       "      <td>0</td>\n",
       "      <td>0</td>\n",
       "      <td>2.572786</td>\n",
       "      <td>-157649.300000</td>\n",
       "      <td>0.000</td>\n",
       "      <td>0.010972</td>\n",
       "      <td>719.061000</td>\n",
       "      <td>0.010972</td>\n",
       "      <td>194.3408</td>\n",
       "    </tr>\n",
       "  </tbody>\n",
       "</table>\n",
       "<p>3 rows × 266750 columns</p>\n",
       "</div>"
      ],
      "text/plain": [
       "           0          2          4          6          8         10  \\\n",
       "0 -22.067210 -23.904130 -28.987280 -29.649160 -25.700130 -23.452060   \n",
       "1  -1.028254  -1.463279  -7.097401  -9.161324  -5.729756  -2.985125   \n",
       "2  -2.210561  -1.724235  -8.046034 -11.219020  -7.179543  -2.948799   \n",
       "\n",
       "          12         14         16         18  ...  533480  533482  533484  \\\n",
       "0 -23.818880 -23.578080 -22.337660 -20.762730  ...       0       0       0   \n",
       "1  -2.519705  -1.917431  -0.435025   1.093048  ...       0       0       0   \n",
       "2  -1.980298  -1.740248   0.583147   2.640100  ...       0       0       0   \n",
       "\n",
       "     533486         533488   533490    533492      533494     533496  \\\n",
       "0  2.534828       0.010972  719.061  0.000000    0.000148  16.311660   \n",
       "1  7.431306       0.010972  719.061  0.010972  719.061000   0.000000   \n",
       "2  2.572786 -157649.300000    0.000  0.010972  719.061000   0.010972   \n",
       "\n",
       "        533498  \n",
       "0  116604.5000  \n",
       "1       0.0000  \n",
       "2     194.3408  \n",
       "\n",
       "[3 rows x 266750 columns]"
      ]
     },
     "execution_count": 3,
     "metadata": {},
     "output_type": "execute_result"
    }
   ],
   "source": [
    "data_t"
   ]
  },
  {
   "cell_type": "code",
   "execution_count": 4,
   "metadata": {},
   "outputs": [],
   "source": [
    "eyes_closed = ['1', '3', '5']\n",
    "eyes_open = ['2', '4', '6']\n",
    "fs = 500\n",
    "epoch_s = 0\n",
    "epoch_e = 500"
   ]
  },
  {
   "cell_type": "code",
   "execution_count": 5,
   "metadata": {},
   "outputs": [],
   "source": [
    "#Get relevent data from events\n",
    "#TAs code\n",
    "\n",
    "#eyes closed\n",
    "dataset_closed_0 = []\n",
    "dataset_closed_1 = []\n",
    "dataset_closed_2 = []\n",
    "\n",
    "for e in range(1, len(events)):\n",
    "    if events['type'][e] in eyes_closed:\n",
    "        time = int(events['latency'][e])\n",
    "        if time % 2 == 1:\n",
    "            time = time + 1\n",
    "        \n",
    "        time_end = time\n",
    "        loc_1 = data_t.columns.get_loc(str(time))\n",
    "        \n",
    "        dataset_closed_0.append(data_t.iloc[0, loc_1])\n",
    "        dataset_closed_1.append(data_t.iloc[1, loc_1])\n",
    "        dataset_closed_2.append(data_t.iloc[2, loc_1])\n",
    "\n",
    "#eyes open\n",
    "dataset_open_0 = []\n",
    "dataset_open_1 = []\n",
    "dataset_open_2 = []\n",
    "\n",
    "for e in range(1, len(events)):\n",
    "    if events['type'][e] in eyes_open:\n",
    "        time = int(events['latency'][e])\n",
    "        if time % 2 == 1:\n",
    "            time = time + 1\n",
    "        \n",
    "        time_end = time + 250\n",
    "        loc_1 = data_t.columns.get_loc(str(time))\n",
    "        \n",
    "        dataset_open_0.append(data_t.iloc[0, loc_1])\n",
    "        dataset_open_1.append(data_t.iloc[1, loc_1])\n",
    "        dataset_open_2.append(data_t.iloc[2, loc_1])"
   ]
  },
  {
   "cell_type": "code",
   "execution_count": 6,
   "metadata": {},
   "outputs": [],
   "source": [
    "#Convert to df\n",
    "\n",
    "closed_0 = pd.DataFrame(np.array(dataset_closed_0))\n",
    "closed_1 = pd.DataFrame(np.array(dataset_closed_1))\n",
    "closed_2 = pd.DataFrame(np.array(dataset_closed_2))\n",
    "\n",
    "open_0 = pd.DataFrame(np.array(dataset_open_0))\n",
    "open_1 = pd.DataFrame(np.array(dataset_open_1))\n",
    "open_2 = pd.DataFrame(np.array(dataset_open_2))"
   ]
  },
  {
   "cell_type": "code",
   "execution_count": 7,
   "metadata": {},
   "outputs": [],
   "source": [
    "#get the mean for the events\n",
    "\n",
    "closed0 = closed_0\n",
    "closed1 = closed_1\n",
    "closed2 = closed_2\n",
    "\n",
    "open0 = open_0\n",
    "open1 = open_1\n",
    "open2 = open_2"
   ]
  },
  {
   "cell_type": "code",
   "execution_count": 8,
   "metadata": {},
   "outputs": [],
   "source": [
    "closed0 = np.transpose(closed0)\n",
    "closed1 = np.transpose(closed1)\n",
    "closed2 = np.transpose(closed2)\n",
    "\n",
    "open0 = np.transpose(open0)\n",
    "open1 = np.transpose(open1)\n",
    "open2 = np.transpose(open2)"
   ]
  },
  {
   "cell_type": "code",
   "execution_count": 9,
   "metadata": {},
   "outputs": [],
   "source": [
    "#combine O1, Oz, O2\n",
    "\n",
    "temp = pd.concat([closed0,closed1],ignore_index=True)\n",
    "closed_data = pd.concat([temp,closed2],ignore_index=True)\n",
    "\n",
    "temp = pd.concat([open0,open1],ignore_index=True)\n",
    "open_data = pd.concat([temp,open2],ignore_index=True)"
   ]
  },
  {
   "cell_type": "code",
   "execution_count": 10,
   "metadata": {},
   "outputs": [
    {
     "data": {
      "text/html": [
       "<div>\n",
       "<style scoped>\n",
       "    .dataframe tbody tr th:only-of-type {\n",
       "        vertical-align: middle;\n",
       "    }\n",
       "\n",
       "    .dataframe tbody tr th {\n",
       "        vertical-align: top;\n",
       "    }\n",
       "\n",
       "    .dataframe thead th {\n",
       "        text-align: right;\n",
       "    }\n",
       "</style>\n",
       "<table border=\"1\" class=\"dataframe\">\n",
       "  <thead>\n",
       "    <tr style=\"text-align: right;\">\n",
       "      <th></th>\n",
       "      <th>0</th>\n",
       "      <th>1</th>\n",
       "      <th>2</th>\n",
       "      <th>3</th>\n",
       "      <th>4</th>\n",
       "      <th>5</th>\n",
       "      <th>6</th>\n",
       "      <th>7</th>\n",
       "      <th>8</th>\n",
       "      <th>9</th>\n",
       "      <th>...</th>\n",
       "      <th>356</th>\n",
       "      <th>357</th>\n",
       "      <th>358</th>\n",
       "      <th>359</th>\n",
       "      <th>360</th>\n",
       "      <th>361</th>\n",
       "      <th>362</th>\n",
       "      <th>363</th>\n",
       "      <th>364</th>\n",
       "      <th>365</th>\n",
       "    </tr>\n",
       "  </thead>\n",
       "  <tbody>\n",
       "    <tr>\n",
       "      <th>0</th>\n",
       "      <td>-46.48703</td>\n",
       "      <td>-41.46823</td>\n",
       "      <td>-14.501420</td>\n",
       "      <td>-36.75130</td>\n",
       "      <td>-52.28514</td>\n",
       "      <td>-57.12468</td>\n",
       "      <td>-55.14438</td>\n",
       "      <td>-64.45175</td>\n",
       "      <td>-39.60669</td>\n",
       "      <td>-39.70470</td>\n",
       "      <td>...</td>\n",
       "      <td>-23.265680</td>\n",
       "      <td>-22.182120</td>\n",
       "      <td>-14.161140</td>\n",
       "      <td>-16.936170</td>\n",
       "      <td>-23.62020</td>\n",
       "      <td>-12.945180</td>\n",
       "      <td>-10.758490</td>\n",
       "      <td>0.833872</td>\n",
       "      <td>-11.666500</td>\n",
       "      <td>-15.928380</td>\n",
       "    </tr>\n",
       "    <tr>\n",
       "      <th>1</th>\n",
       "      <td>-31.18405</td>\n",
       "      <td>-28.67755</td>\n",
       "      <td>-1.864350</td>\n",
       "      <td>-24.70880</td>\n",
       "      <td>-45.01515</td>\n",
       "      <td>-44.18765</td>\n",
       "      <td>-40.55429</td>\n",
       "      <td>-55.83339</td>\n",
       "      <td>-31.07908</td>\n",
       "      <td>-30.06239</td>\n",
       "      <td>...</td>\n",
       "      <td>-7.068192</td>\n",
       "      <td>-9.852411</td>\n",
       "      <td>-0.063756</td>\n",
       "      <td>-5.875803</td>\n",
       "      <td>-12.59096</td>\n",
       "      <td>-5.197021</td>\n",
       "      <td>-2.943609</td>\n",
       "      <td>12.919530</td>\n",
       "      <td>-5.492524</td>\n",
       "      <td>-5.346774</td>\n",
       "    </tr>\n",
       "    <tr>\n",
       "      <th>2</th>\n",
       "      <td>-40.18717</td>\n",
       "      <td>-33.34435</td>\n",
       "      <td>-7.690927</td>\n",
       "      <td>-29.43298</td>\n",
       "      <td>-48.43426</td>\n",
       "      <td>-48.88041</td>\n",
       "      <td>-39.99086</td>\n",
       "      <td>-52.85612</td>\n",
       "      <td>-32.22877</td>\n",
       "      <td>-28.45336</td>\n",
       "      <td>...</td>\n",
       "      <td>-3.352687</td>\n",
       "      <td>-9.093119</td>\n",
       "      <td>1.791105</td>\n",
       "      <td>-2.612077</td>\n",
       "      <td>-10.76116</td>\n",
       "      <td>-0.352735</td>\n",
       "      <td>-4.697054</td>\n",
       "      <td>15.837780</td>\n",
       "      <td>-0.551862</td>\n",
       "      <td>-5.291321</td>\n",
       "    </tr>\n",
       "  </tbody>\n",
       "</table>\n",
       "<p>3 rows × 366 columns</p>\n",
       "</div>"
      ],
      "text/plain": [
       "        0         1          2         3         4         5         6    \\\n",
       "0 -46.48703 -41.46823 -14.501420 -36.75130 -52.28514 -57.12468 -55.14438   \n",
       "1 -31.18405 -28.67755  -1.864350 -24.70880 -45.01515 -44.18765 -40.55429   \n",
       "2 -40.18717 -33.34435  -7.690927 -29.43298 -48.43426 -48.88041 -39.99086   \n",
       "\n",
       "        7         8         9    ...        356        357        358  \\\n",
       "0 -64.45175 -39.60669 -39.70470  ... -23.265680 -22.182120 -14.161140   \n",
       "1 -55.83339 -31.07908 -30.06239  ...  -7.068192  -9.852411  -0.063756   \n",
       "2 -52.85612 -32.22877 -28.45336  ...  -3.352687  -9.093119   1.791105   \n",
       "\n",
       "         359       360        361        362        363        364        365  \n",
       "0 -16.936170 -23.62020 -12.945180 -10.758490   0.833872 -11.666500 -15.928380  \n",
       "1  -5.875803 -12.59096  -5.197021  -2.943609  12.919530  -5.492524  -5.346774  \n",
       "2  -2.612077 -10.76116  -0.352735  -4.697054  15.837780  -0.551862  -5.291321  \n",
       "\n",
       "[3 rows x 366 columns]"
      ]
     },
     "execution_count": 10,
     "metadata": {},
     "output_type": "execute_result"
    }
   ],
   "source": [
    "closed_data"
   ]
  },
  {
   "cell_type": "code",
   "execution_count": 11,
   "metadata": {},
   "outputs": [
    {
     "data": {
      "image/png": "[encoded data removed]",
      "text/plain": [
       "<Figure size 432x288 with 1 Axes>"
      ]
     },
     "metadata": {
      "needs_background": "light"
     },
     "output_type": "display_data"
    }
   ],
   "source": [
    "#Closed Eyes\n",
    "a = np.transpose(closed_data)\n",
    "plt.plot(a, label = \"raw eeg\");\n",
    "plt.xlabel('Samples');\n",
    "plt.ylabel('Amplitude (uV)');\n",
    "plt.grid(True);\n",
    "plt.legend(loc = 'best');"
   ]
  },
  {
   "cell_type": "code",
   "execution_count": 12,
   "metadata": {},
   "outputs": [
    {
     "data": {
      "image/png": "[encoded data removed]",
      "text/plain": [
       "<Figure size 432x288 with 1 Axes>"
      ]
     },
     "metadata": {
      "needs_background": "light"
     },
     "output_type": "display_data"
    }
   ],
   "source": [
    "#Open Eyes\n",
    "a = np.transpose(open_data)\n",
    "plt.plot(a, label = \"raw eeg\");\n",
    "plt.xlabel('Samples');\n",
    "plt.ylabel('Amplitude (uV)');\n",
    "plt.grid(True);\n",
    "plt.legend(loc = 'best');"
   ]
  },
  {
   "cell_type": "code",
   "execution_count": 13,
   "metadata": {},
   "outputs": [],
   "source": [
    "data = closed_data.mean()\n",
    "\n",
    "# Get real amplitudes of FFT (only in postive frequencies)\n",
    "fft_vals = np.absolute(np.fft.rfft(data))\n",
    "# Get frequencies for amplitudes in Hz\n",
    "fft_freq = np.fft.rfftfreq(len(data), 1.0/fs)\n",
    "\n",
    "\n",
    "# Define EEG bands\n",
    "eeg_bands = {'Delta': (0, 4),\n",
    "             'Theta': (4, 8),\n",
    "             'Alpha': (8, 12),\n",
    "             'Beta': (12, 30),\n",
    "             'Gamma': (30, 45)}\n",
    "\n",
    "# Take the max of the fft amplitude for each EEG band\n",
    "eeg_band_fft = dict()\n",
    "for band in eeg_bands: \n",
    "    try:\n",
    "        freq_ix = np.where((fft_freq >= eeg_bands[band][0]) & (fft_freq < eeg_bands[band][1]))[0]\n",
    "        eeg_band_fft[band] = np.mean(fft_vals[freq_ix])\n",
    "    except ValueError:  #raised if `y` is empty.\n",
    "        print(\"entered\")\n",
    "        pass\n",
    "\n",
    "data = open_data.mean()\n",
    "\n",
    "# Get real amplitudes of FFT (only in postive frequencies)\n",
    "fft_vals = np.absolute(np.fft.rfft(data))\n",
    "# Get frequencies for amplitudes in Hz\n",
    "fft_freq = np.fft.rfftfreq(len(data), 1.0/fs)\n",
    "\n",
    "\n",
    "# Define EEG bands\n",
    "eeg_bands = {'Delta': (0, 4),\n",
    "             'Theta': (4, 8),\n",
    "             'Alpha': (8, 12),\n",
    "             'Beta': (12, 30),\n",
    "             'Gamma': (30, 45)}\n",
    "\n",
    "# Take the max of the fft amplitude for each EEG band\n",
    "eeg_band_fft_open = dict()\n",
    "for band in eeg_bands: \n",
    "    try:\n",
    "        freq_ix = np.where((fft_freq >= eeg_bands[band][0]) & (fft_freq < eeg_bands[band][1]))[0]\n",
    "        eeg_band_fft_open[band] = np.mean(fft_vals[freq_ix])\n",
    "    except ValueError:  #raised if `y` is empty.\n",
    "        print(\"entered\")\n",
    "        pass\n",
    "\n"
   ]
  },
  {
   "cell_type": "code",
   "execution_count": 14,
   "metadata": {},
   "outputs": [
    {
     "data": {
      "text/plain": [
       "{'Delta': 1531.26512396621,\n",
       " 'Theta': 618.9431297754194,\n",
       " 'Alpha': 663.4815841978076,\n",
       " 'Beta': 435.11185635000834,\n",
       " 'Gamma': 344.78465255831986}"
      ]
     },
     "execution_count": 14,
     "metadata": {},
     "output_type": "execute_result"
    }
   ],
   "source": [
    "eeg_band_fft"
   ]
  },
  {
   "cell_type": "code",
   "execution_count": 15,
   "metadata": {},
   "outputs": [
    {
     "data": {
      "text/plain": [
       "{'Delta': 1759.4990637464546,\n",
       " 'Theta': 310.085827814641,\n",
       " 'Alpha': 588.8439572520829,\n",
       " 'Beta': 411.5075546002952,\n",
       " 'Gamma': 178.01534899172339}"
      ]
     },
     "execution_count": 15,
     "metadata": {},
     "output_type": "execute_result"
    }
   ],
   "source": [
    "eeg_band_fft_open"
   ]
  },
  {
   "cell_type": "code",
   "execution_count": 16,
   "metadata": {},
   "outputs": [
    {
     "data": {
      "text/plain": [
       "Text(0, 0.5, 'Mean band Amplitude')"
      ]
     },
     "execution_count": 16,
     "metadata": {},
     "output_type": "execute_result"
    },
    {
     "data": {
      "image/png": "[encoded data removed]",
      "text/plain": [
       "<Figure size 432x288 with 1 Axes>"
      ]
     },
     "metadata": {
      "needs_background": "light"
     },
     "output_type": "display_data"
    },
    {
     "data": {
      "image/png": "[encoded data removed]",
      "text/plain": [
       "<Figure size 432x288 with 1 Axes>"
      ]
     },
     "metadata": {
      "needs_background": "light"
     },
     "output_type": "display_data"
    }
   ],
   "source": [
    "# Plot the data \n",
    "df = pd.DataFrame(columns=['band', 'val'])\n",
    "df['band'] = eeg_bands.keys()\n",
    "df['val'] = [eeg_band_fft[band] for band in eeg_bands]\n",
    "ax = df.plot.bar(x='band', y='val', legend=False)\n",
    "ax.set_xlabel(\"Closed\")\n",
    "ax.set_ylabel(\"Mean band Amplitude\")\n",
    "\n",
    "df = pd.DataFrame(columns=['band', 'val'])\n",
    "df['band'] = eeg_bands.keys()\n",
    "df['val'] = [eeg_band_fft_open[band] for band in eeg_bands]\n",
    "ax = df.plot.bar(x='band', y='val', legend=False)\n",
    "ax.set_xlabel(\"Open\")\n",
    "ax.set_ylabel(\"Mean band Amplitude\")"
   ]
  },
  {
   "cell_type": "code",
   "execution_count": 17,
   "metadata": {},
   "outputs": [
    {
     "data": {
      "text/html": [
       "<div>\n",
       "<style scoped>\n",
       "    .dataframe tbody tr th:only-of-type {\n",
       "        vertical-align: middle;\n",
       "    }\n",
       "\n",
       "    .dataframe tbody tr th {\n",
       "        vertical-align: top;\n",
       "    }\n",
       "\n",
       "    .dataframe thead th {\n",
       "        text-align: right;\n",
       "    }\n",
       "</style>\n",
       "<table border=\"1\" class=\"dataframe\">\n",
       "  <thead>\n",
       "    <tr style=\"text-align: right;\">\n",
       "      <th></th>\n",
       "      <th>open_alpha</th>\n",
       "      <th>closed_alpha</th>\n",
       "      <th>depressed</th>\n",
       "    </tr>\n",
       "  </thead>\n",
       "  <tbody>\n",
       "    <tr>\n",
       "      <th>0</th>\n",
       "      <td>588.843957</td>\n",
       "      <td>663.481584</td>\n",
       "      <td>0.0</td>\n",
       "    </tr>\n",
       "  </tbody>\n",
       "</table>\n",
       "</div>"
      ],
      "text/plain": [
       "   open_alpha  closed_alpha  depressed\n",
       "0  588.843957    663.481584        0.0"
      ]
     },
     "execution_count": 17,
     "metadata": {},
     "output_type": "execute_result"
    }
   ],
   "source": [
    "closed_a = eeg_band_fft['Alpha']\n",
    "open_a = eeg_band_fft_open['Alpha']\n",
    "depressed = 0\n",
    "df = pd.DataFrame([open_a, closed_a, depressed])\n",
    "df = np.transpose(df)\n",
    "df.columns=['open_alpha', 'closed_alpha', 'depressed']\n",
    "df"
   ]
  }
 ],
 "metadata": {
  "kernelspec": {
   "display_name": "Python 3",
   "language": "python",
   "name": "python3"
  },
  "language_info": {
   "codemirror_mode": {
    "name": "ipython",
    "version": 3
   },
   "file_extension": ".py",
   "mimetype": "text/x-python",
   "name": "python",
   "nbconvert_exporter": "python",
   "pygments_lexer": "ipython3",
   "version": "3.7.3"
  }
 },
 "nbformat": 4,
 "nbformat_minor": 2
}
