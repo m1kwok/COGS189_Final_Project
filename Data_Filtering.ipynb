{
 "cells": [
  {
   "cell_type": "markdown",
   "metadata": {},
   "source": [
    "\n",
    "# COGS 189: Depression\n",
    "\n",
    "## Overview\n",
    "In this project, we ______________.<br>\n",
    "\n",
    "### EEG Data\n",
    "For this dataset, we will be using data collected from James F. Cavanagh & John J.B.Allen's Depression Rest (d003) located at the following URL: http://predict.cs.unm.edu/downloads.php.\n",
    "<br>\n",
    "***\n",
    "## Section 1: Setup\n",
    "We will be importing the following packages: <br>\n",
    "- numpy\n",
    "- scipy\n",
    "- matplotlib\n",
    "- seaborn\n",
    "- pandas"
   ]
  },
  {
   "cell_type": "code",
   "execution_count": 1,
   "metadata": {},
   "outputs": [],
   "source": [
    "import numpy as np                                      # for dealing with data\n",
    "from scipy.signal import butter, sosfiltfilt, sosfreqz  # for filtering\n",
    "from scipy.io import loadmat                            # for importing matlab files\n",
    "import matplotlib.pyplot as plt                         # for plotting\n",
    "import seaborn as sns                                   # for visualization\n",
    "import pandas as pd                                     # for importing datasets and handling data"
   ]
  },
  {
   "cell_type": "markdown",
   "metadata": {},
   "source": [
    "Since each column in the EEG data corresponds to the columns in EEG times, we will use times_df as the column labels for data_df."
   ]
  },
  {
   "cell_type": "code",
   "execution_count": 2,
   "metadata": {},
   "outputs": [],
   "source": [
    "data_t = pd.read_csv('Data/545_data.csv')\n",
    "channels = pd.read_csv('Data/545c.csv')\n",
    "events = pd.read_csv('Data/545e.csv')\n",
    "events['type'] = events['type'].astype(str)"
   ]
  },
  {
   "cell_type": "code",
   "execution_count": 3,
   "metadata": {},
   "outputs": [
    {
     "data": {
      "text/html": [
       "<div>\n",
       "<style scoped>\n",
       "    .dataframe tbody tr th:only-of-type {\n",
       "        vertical-align: middle;\n",
       "    }\n",
       "\n",
       "    .dataframe tbody tr th {\n",
       "        vertical-align: top;\n",
       "    }\n",
       "\n",
       "    .dataframe thead th {\n",
       "        text-align: right;\n",
       "    }\n",
       "</style>\n",
       "<table border=\"1\" class=\"dataframe\">\n",
       "  <thead>\n",
       "    <tr style=\"text-align: right;\">\n",
       "      <th></th>\n",
       "      <th>0</th>\n",
       "      <th>2</th>\n",
       "      <th>4</th>\n",
       "      <th>6</th>\n",
       "      <th>8</th>\n",
       "      <th>10</th>\n",
       "      <th>12</th>\n",
       "      <th>14</th>\n",
       "      <th>16</th>\n",
       "      <th>18</th>\n",
       "      <th>...</th>\n",
       "      <th>496808</th>\n",
       "      <th>496810</th>\n",
       "      <th>496812</th>\n",
       "      <th>496814</th>\n",
       "      <th>496816</th>\n",
       "      <th>496818</th>\n",
       "      <th>496820</th>\n",
       "      <th>496822</th>\n",
       "      <th>496824</th>\n",
       "      <th>496826</th>\n",
       "    </tr>\n",
       "  </thead>\n",
       "  <tbody>\n",
       "    <tr>\n",
       "      <th>0</th>\n",
       "      <td>-19.99069</td>\n",
       "      <td>-19.07957</td>\n",
       "      <td>-16.66321</td>\n",
       "      <td>-14.47222</td>\n",
       "      <td>-14.17123</td>\n",
       "      <td>-14.46673</td>\n",
       "      <td>-14.83622</td>\n",
       "      <td>-16.20742</td>\n",
       "      <td>-18.72401</td>\n",
       "      <td>-21.41260</td>\n",
       "      <td>...</td>\n",
       "      <td>0</td>\n",
       "      <td>0</td>\n",
       "      <td>0</td>\n",
       "      <td>0</td>\n",
       "      <td>719.061</td>\n",
       "      <td>0.000000</td>\n",
       "      <td>0.000148</td>\n",
       "      <td>16.311060</td>\n",
       "      <td>-204640.900000</td>\n",
       "      <td>0.00000</td>\n",
       "    </tr>\n",
       "    <tr>\n",
       "      <th>1</th>\n",
       "      <td>-24.10534</td>\n",
       "      <td>-22.40571</td>\n",
       "      <td>-19.76858</td>\n",
       "      <td>-18.65047</td>\n",
       "      <td>-19.93701</td>\n",
       "      <td>-20.59192</td>\n",
       "      <td>-20.91723</td>\n",
       "      <td>-22.67482</td>\n",
       "      <td>-24.41329</td>\n",
       "      <td>-25.07132</td>\n",
       "      <td>...</td>\n",
       "      <td>0</td>\n",
       "      <td>0</td>\n",
       "      <td>0</td>\n",
       "      <td>0</td>\n",
       "      <td>719.061</td>\n",
       "      <td>0.010972</td>\n",
       "      <td>719.061000</td>\n",
       "      <td>0.000000</td>\n",
       "      <td>0.000148</td>\n",
       "      <td>16.31195</td>\n",
       "    </tr>\n",
       "    <tr>\n",
       "      <th>2</th>\n",
       "      <td>-20.99759</td>\n",
       "      <td>-18.57426</td>\n",
       "      <td>-16.62451</td>\n",
       "      <td>-18.46454</td>\n",
       "      <td>-23.22668</td>\n",
       "      <td>-24.62532</td>\n",
       "      <td>-22.78321</td>\n",
       "      <td>-21.77734</td>\n",
       "      <td>-22.25211</td>\n",
       "      <td>-22.79774</td>\n",
       "      <td>...</td>\n",
       "      <td>0</td>\n",
       "      <td>0</td>\n",
       "      <td>0</td>\n",
       "      <td>0</td>\n",
       "      <td>0.000</td>\n",
       "      <td>0.010972</td>\n",
       "      <td>719.061000</td>\n",
       "      <td>0.010972</td>\n",
       "      <td>719.061000</td>\n",
       "      <td>0.00000</td>\n",
       "    </tr>\n",
       "  </tbody>\n",
       "</table>\n",
       "<p>3 rows × 248414 columns</p>\n",
       "</div>"
      ],
      "text/plain": [
       "          0         2         4         6         8        10        12  \\\n",
       "0 -19.99069 -19.07957 -16.66321 -14.47222 -14.17123 -14.46673 -14.83622   \n",
       "1 -24.10534 -22.40571 -19.76858 -18.65047 -19.93701 -20.59192 -20.91723   \n",
       "2 -20.99759 -18.57426 -16.62451 -18.46454 -23.22668 -24.62532 -22.78321   \n",
       "\n",
       "         14        16        18  ...  496808  496810  496812  496814   496816  \\\n",
       "0 -16.20742 -18.72401 -21.41260  ...       0       0       0       0  719.061   \n",
       "1 -22.67482 -24.41329 -25.07132  ...       0       0       0       0  719.061   \n",
       "2 -21.77734 -22.25211 -22.79774  ...       0       0       0       0    0.000   \n",
       "\n",
       "     496818      496820     496822         496824    496826  \n",
       "0  0.000000    0.000148  16.311060 -204640.900000   0.00000  \n",
       "1  0.010972  719.061000   0.000000       0.000148  16.31195  \n",
       "2  0.010972  719.061000   0.010972     719.061000   0.00000  \n",
       "\n",
       "[3 rows x 248414 columns]"
      ]
     },
     "execution_count": 3,
     "metadata": {},
     "output_type": "execute_result"
    }
   ],
   "source": [
    "data_t"
   ]
  },
  {
   "cell_type": "code",
   "execution_count": 4,
   "metadata": {},
   "outputs": [],
   "source": [
    "eyes_closed = ['1', '3', '5']\n",
    "eyes_open = ['2', '4', '6']\n",
    "fs = 500\n",
    "epoch_s = 0\n",
    "epoch_e = 500"
   ]
  },
  {
   "cell_type": "code",
   "execution_count": 5,
   "metadata": {},
   "outputs": [],
   "source": [
    "#Get relevent data from events\n",
    "#TAs code\n",
    "\n",
    "#eyes closed\n",
    "dataset_closed_0 = []\n",
    "dataset_closed_1 = []\n",
    "dataset_closed_2 = []\n",
    "\n",
    "for e in range(1, len(events)):\n",
    "    if events['type'][e] in eyes_closed:\n",
    "        time = int(events['latency'][e])\n",
    "        if time % 2 == 1:\n",
    "            time = time + 1\n",
    "        \n",
    "        time_end = time + 250\n",
    "        loc_1 = data_t.columns.get_loc(str(time))\n",
    "        loc_2 = data_t.columns.get_loc(str(time_end))\n",
    "        dataset_closed_0.append(data_t.iloc[0, loc_1:loc_2])\n",
    "        dataset_closed_1.append(data_t.iloc[1, loc_1:loc_2])\n",
    "        dataset_closed_2.append(data_t.iloc[2, loc_1:loc_2])\n",
    "\n",
    "#eyes open\n",
    "dataset_open_0 = []\n",
    "dataset_open_1 = []\n",
    "dataset_open_2 = []\n",
    "\n",
    "for e in range(1, len(events)):\n",
    "    if events['type'][e] in eyes_open:\n",
    "        time = int(events['latency'][e])\n",
    "        if time % 2 == 1:\n",
    "            time = time + 1\n",
    "        \n",
    "        time_end = time + 250\n",
    "        loc_1 = data_t.columns.get_loc(str(time))\n",
    "        loc_2 = data_t.columns.get_loc(str(time_end))\n",
    "        dataset_open_0.append(data_t.iloc[0, loc_1:loc_2])\n",
    "        dataset_open_1.append(data_t.iloc[1, loc_1:loc_2])\n",
    "        dataset_open_2.append(data_t.iloc[2, loc_1:loc_2])"
   ]
  },
  {
   "cell_type": "code",
   "execution_count": 6,
   "metadata": {},
   "outputs": [],
   "source": [
    "#Convert to df\n",
    "\n",
    "closed_0 = pd.DataFrame(np.array(dataset_closed_0))\n",
    "closed_1 = pd.DataFrame(np.array(dataset_closed_1))\n",
    "closed_2 = pd.DataFrame(np.array(dataset_closed_2))\n",
    "\n",
    "open_0 = pd.DataFrame(np.array(dataset_open_0))\n",
    "open_1 = pd.DataFrame(np.array(dataset_open_1))\n",
    "open_2 = pd.DataFrame(np.array(dataset_open_2))"
   ]
  },
  {
   "cell_type": "code",
   "execution_count": 7,
   "metadata": {},
   "outputs": [],
   "source": [
    "#get the mean for the events\n",
    "closed0 = closed_0.mean()\n",
    "closed1 = closed_1.mean()\n",
    "closed2 = closed_2.mean()\n",
    "\n",
    "open0 = open_0.mean()\n",
    "open1 = open_1.mean()\n",
    "open2 = open_2.mean()"
   ]
  },
  {
   "cell_type": "code",
   "execution_count": 8,
   "metadata": {},
   "outputs": [],
   "source": [
    "#combine O1, Oz, O2\n",
    "closed_data = pd.DataFrame(np.array([closed0, closed1, closed2]))\n",
    "open_data = pd.DataFrame(np.array([open0, open1, open2]))"
   ]
  },
  {
   "cell_type": "code",
   "execution_count": 14,
   "metadata": {},
   "outputs": [
    {
     "data": {
      "text/html": [
       "<div>\n",
       "<style scoped>\n",
       "    .dataframe tbody tr th:only-of-type {\n",
       "        vertical-align: middle;\n",
       "    }\n",
       "\n",
       "    .dataframe tbody tr th {\n",
       "        vertical-align: top;\n",
       "    }\n",
       "\n",
       "    .dataframe thead th {\n",
       "        text-align: right;\n",
       "    }\n",
       "</style>\n",
       "<table border=\"1\" class=\"dataframe\">\n",
       "  <thead>\n",
       "    <tr style=\"text-align: right;\">\n",
       "      <th></th>\n",
       "      <th>0</th>\n",
       "      <th>1</th>\n",
       "      <th>2</th>\n",
       "      <th>3</th>\n",
       "      <th>4</th>\n",
       "      <th>5</th>\n",
       "      <th>6</th>\n",
       "      <th>7</th>\n",
       "      <th>8</th>\n",
       "      <th>9</th>\n",
       "      <th>...</th>\n",
       "      <th>115</th>\n",
       "      <th>116</th>\n",
       "      <th>117</th>\n",
       "      <th>118</th>\n",
       "      <th>119</th>\n",
       "      <th>120</th>\n",
       "      <th>121</th>\n",
       "      <th>122</th>\n",
       "      <th>123</th>\n",
       "      <th>124</th>\n",
       "    </tr>\n",
       "  </thead>\n",
       "  <tbody>\n",
       "    <tr>\n",
       "      <th>0</th>\n",
       "      <td>-22.052137</td>\n",
       "      <td>-22.139677</td>\n",
       "      <td>-22.130472</td>\n",
       "      <td>-22.097818</td>\n",
       "      <td>-22.117542</td>\n",
       "      <td>-22.042953</td>\n",
       "      <td>-21.874229</td>\n",
       "      <td>-21.769963</td>\n",
       "      <td>-21.709879</td>\n",
       "      <td>-21.535761</td>\n",
       "      <td>...</td>\n",
       "      <td>-21.175941</td>\n",
       "      <td>-21.044266</td>\n",
       "      <td>-21.049515</td>\n",
       "      <td>-21.198665</td>\n",
       "      <td>-21.168431</td>\n",
       "      <td>-20.974360</td>\n",
       "      <td>-21.023839</td>\n",
       "      <td>-21.262979</td>\n",
       "      <td>-21.326253</td>\n",
       "      <td>-21.289837</td>\n",
       "    </tr>\n",
       "    <tr>\n",
       "      <th>1</th>\n",
       "      <td>-26.175717</td>\n",
       "      <td>-26.346633</td>\n",
       "      <td>-26.438613</td>\n",
       "      <td>-26.455992</td>\n",
       "      <td>-26.506910</td>\n",
       "      <td>-26.481464</td>\n",
       "      <td>-26.353779</td>\n",
       "      <td>-26.295125</td>\n",
       "      <td>-26.327454</td>\n",
       "      <td>-26.267831</td>\n",
       "      <td>...</td>\n",
       "      <td>-25.721127</td>\n",
       "      <td>-25.576697</td>\n",
       "      <td>-25.588439</td>\n",
       "      <td>-25.750252</td>\n",
       "      <td>-25.717253</td>\n",
       "      <td>-25.523457</td>\n",
       "      <td>-25.592991</td>\n",
       "      <td>-25.812224</td>\n",
       "      <td>-25.824509</td>\n",
       "      <td>-25.751596</td>\n",
       "    </tr>\n",
       "    <tr>\n",
       "      <th>2</th>\n",
       "      <td>-19.473896</td>\n",
       "      <td>-19.641282</td>\n",
       "      <td>-19.810246</td>\n",
       "      <td>-19.897637</td>\n",
       "      <td>-19.997253</td>\n",
       "      <td>-20.046274</td>\n",
       "      <td>-19.949805</td>\n",
       "      <td>-19.814695</td>\n",
       "      <td>-19.807334</td>\n",
       "      <td>-19.839169</td>\n",
       "      <td>...</td>\n",
       "      <td>-19.565456</td>\n",
       "      <td>-19.422932</td>\n",
       "      <td>-19.353775</td>\n",
       "      <td>-19.424379</td>\n",
       "      <td>-19.297203</td>\n",
       "      <td>-19.121655</td>\n",
       "      <td>-19.277391</td>\n",
       "      <td>-19.485304</td>\n",
       "      <td>-19.437405</td>\n",
       "      <td>-19.299967</td>\n",
       "    </tr>\n",
       "  </tbody>\n",
       "</table>\n",
       "<p>3 rows × 125 columns</p>\n",
       "</div>"
      ],
      "text/plain": [
       "         0          1          2          3          4          5    \\\n",
       "0 -22.052137 -22.139677 -22.130472 -22.097818 -22.117542 -22.042953   \n",
       "1 -26.175717 -26.346633 -26.438613 -26.455992 -26.506910 -26.481464   \n",
       "2 -19.473896 -19.641282 -19.810246 -19.897637 -19.997253 -20.046274   \n",
       "\n",
       "         6          7          8          9    ...        115        116  \\\n",
       "0 -21.874229 -21.769963 -21.709879 -21.535761  ... -21.175941 -21.044266   \n",
       "1 -26.353779 -26.295125 -26.327454 -26.267831  ... -25.721127 -25.576697   \n",
       "2 -19.949805 -19.814695 -19.807334 -19.839169  ... -19.565456 -19.422932   \n",
       "\n",
       "         117        118        119        120        121        122  \\\n",
       "0 -21.049515 -21.198665 -21.168431 -20.974360 -21.023839 -21.262979   \n",
       "1 -25.588439 -25.750252 -25.717253 -25.523457 -25.592991 -25.812224   \n",
       "2 -19.353775 -19.424379 -19.297203 -19.121655 -19.277391 -19.485304   \n",
       "\n",
       "         123        124  \n",
       "0 -21.326253 -21.289837  \n",
       "1 -25.824509 -25.751596  \n",
       "2 -19.437405 -19.299967  \n",
       "\n",
       "[3 rows x 125 columns]"
      ]
     },
     "execution_count": 14,
     "metadata": {},
     "output_type": "execute_result"
    }
   ],
   "source": [
    "closed_data"
   ]
  },
  {
   "cell_type": "code",
   "execution_count": 26,
   "metadata": {},
   "outputs": [
    {
     "data": {
      "image/png": "[encoded data removed]",
      "text/plain": [
       "<Figure size 432x288 with 1 Axes>"
      ]
     },
     "metadata": {
      "needs_background": "light"
     },
     "output_type": "display_data"
    }
   ],
   "source": [
    "# Plot a random 300-sample chunk of data\n",
    "plt.plot(closed2, label = \"raw eeg\");\n",
    "plt.xlabel('Samples');\n",
    "plt.ylabel('Amplitude (uV)');\n",
    "plt.grid(True);\n",
    "plt.legend(loc = 'best');"
   ]
  },
  {
   "cell_type": "code",
   "execution_count": 15,
   "metadata": {},
   "outputs": [],
   "source": [
    "data = closed_data.mean()\n",
    "\n",
    "# Get real amplitudes of FFT (only in postive frequencies)\n",
    "fft_vals = np.absolute(np.fft.rfft(data))\n",
    "# Get frequencies for amplitudes in Hz\n",
    "fft_freq = np.fft.rfftfreq(len(data), 1.0/fs)\n",
    "\n",
    "\n",
    "# Define EEG bands\n",
    "eeg_bands = {'Delta': (0, 4),\n",
    "             'Theta': (4, 8),\n",
    "             'Alpha': (8, 12),\n",
    "             'Beta': (12, 30),\n",
    "             'Gamma': (30, 45)}\n",
    "\n",
    "# Take the max of the fft amplitude for each EEG band\n",
    "eeg_band_fft = dict()\n",
    "for band in eeg_bands: \n",
    "    try:\n",
    "        freq_ix = np.where((fft_freq >= eeg_bands[band][0]) & (fft_freq <= eeg_bands[band][1]))[0]\n",
    "        eeg_band_fft[band] = np.min(fft_vals[freq_ix])\n",
    "    except ValueError:  #raised if `y` is empty.\n",
    "        print(\"entered\")\n",
    "        pass\n",
    "\n",
    "data = open_data.mean()\n",
    "\n",
    "# Get real amplitudes of FFT (only in postive frequencies)\n",
    "fft_vals = np.absolute(np.fft.rfft(data))\n",
    "# Get frequencies for amplitudes in Hz\n",
    "fft_freq = np.fft.rfftfreq(len(data), 1.0/fs)\n",
    "\n",
    "\n",
    "# Define EEG bands\n",
    "eeg_bands = {'Delta': (0, 4),\n",
    "             'Theta': (4, 8),\n",
    "             'Alpha': (8, 12),\n",
    "             'Beta': (12, 30),\n",
    "             'Gamma': (30, 45)}\n",
    "\n",
    "# Take the max of the fft amplitude for each EEG band\n",
    "eeg_band_fft_open = dict()\n",
    "for band in eeg_bands: \n",
    "    try:\n",
    "        freq_ix = np.where((fft_freq >= eeg_bands[band][0]) & (fft_freq <= eeg_bands[band][1]))[0]\n",
    "        eeg_band_fft_open[band] = np.min(fft_vals[freq_ix])\n",
    "    except ValueError:  #raised if `y` is empty.\n",
    "        print(\"entered\")\n",
    "        pass\n",
    "\n"
   ]
  },
  {
   "cell_type": "code",
   "execution_count": 16,
   "metadata": {},
   "outputs": [
    {
     "data": {
      "text/plain": [
       "{'Delta': 4.352644180597059,\n",
       " 'Theta': 4.352644180597059,\n",
       " 'Alpha': 7.2505439847075355,\n",
       " 'Beta': 1.4081218713127348,\n",
       " 'Gamma': 0.22978552444990671}"
      ]
     },
     "execution_count": 16,
     "metadata": {},
     "output_type": "execute_result"
    }
   ],
   "source": [
    "eeg_band_fft"
   ]
  },
  {
   "cell_type": "code",
   "execution_count": 17,
   "metadata": {},
   "outputs": [
    {
     "data": {
      "text/plain": [
       "{'Delta': 27.130400839083627,\n",
       " 'Theta': 17.574112251375208,\n",
       " 'Alpha': 17.574112251375208,\n",
       " 'Beta': 3.062656820289721,\n",
       " 'Gamma': 2.1246534554807455}"
      ]
     },
     "execution_count": 17,
     "metadata": {},
     "output_type": "execute_result"
    }
   ],
   "source": [
    "eeg_band_fft_open"
   ]
  },
  {
   "cell_type": "code",
   "execution_count": 18,
   "metadata": {},
   "outputs": [
    {
     "data": {
      "text/plain": [
       "Text(0, 0.5, 'Mean band Amplitude')"
      ]
     },
     "execution_count": 18,
     "metadata": {},
     "output_type": "execute_result"
    },
    {
     "data": {
      "image/png": "[encoded data removed]",
      "text/plain": [
       "<Figure size 432x288 with 1 Axes>"
      ]
     },
     "metadata": {
      "needs_background": "light"
     },
     "output_type": "display_data"
    },
    {
     "data": {
      "image/png": "[encoded data removed]",
      "text/plain": [
       "<Figure size 432x288 with 1 Axes>"
      ]
     },
     "metadata": {
      "needs_background": "light"
     },
     "output_type": "display_data"
    }
   ],
   "source": [
    "# Plot the data \n",
    "df = pd.DataFrame(columns=['band', 'val'])\n",
    "df['band'] = eeg_bands.keys()\n",
    "df['val'] = [eeg_band_fft[band] for band in eeg_bands]\n",
    "ax = df.plot.bar(x='band', y='val', legend=False)\n",
    "ax.set_xlabel(\"EEG band\")\n",
    "ax.set_ylabel(\"Mean band Amplitude\")\n",
    "\n",
    "df = pd.DataFrame(columns=['band', 'val'])\n",
    "df['band'] = eeg_bands.keys()\n",
    "df['val'] = [eeg_band_fft_open[band] for band in eeg_bands]\n",
    "ax = df.plot.bar(x='band', y='val', legend=False)\n",
    "ax.set_xlabel(\"EEG band\")\n",
    "ax.set_ylabel(\"Mean band Amplitude\")"
   ]
  }
 ],
 "metadata": {
  "kernelspec": {
   "display_name": "Python 3",
   "language": "python",
   "name": "python3"
  },
  "language_info": {
   "codemirror_mode": {
    "name": "ipython",
    "version": 3
   },
   "file_extension": ".py",
   "mimetype": "text/x-python",
   "name": "python",
   "nbconvert_exporter": "python",
   "pygments_lexer": "ipython3",
   "version": "3.7.3"
  }
 },
 "nbformat": 4,
 "nbformat_minor": 2
}
