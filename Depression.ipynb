{
 "cells": [
  {
   "cell_type": "markdown",
   "metadata": {},
   "source": [
    "\n",
    "# COGS 189: Depression\n",
    "\n",
    "## Overview\n",
    "In this project, we ______________.<br>\n",
    "\n",
    "### EEG Data\n",
    "For this dataset, we will be using data collected from James F. Cavanagh & John J.B.Allen's Depression Rest (d003) located at the following URL: http://predict.cs.unm.edu/downloads.php.\n",
    "<br>\n",
    "***\n",
    "## Section 1: Setup\n",
    "We will be importing the following packages: <br>\n",
    "- numpy\n",
    "- scipy\n",
    "- matplotlib\n",
    "- seaborn\n",
    "- pandas"
   ]
  },
  {
   "cell_type": "code",
   "execution_count": 2,
   "metadata": {},
   "outputs": [],
   "source": [
    "import numpy as np                                      # for dealing with data\n",
    "from scipy.signal import butter, sosfiltfilt, sosfreqz  # for filtering\n",
    "from scipy.io import loadmat                            # for importing matlab files\n",
    "import matplotlib.pyplot as plt                         # for plotting\n",
    "import seaborn as sns                                   # for visualization\n",
    "import pandas as pd                                     # for importing datasets and handling data"
   ]
  },
  {
   "cell_type": "markdown",
   "metadata": {},
   "source": [
    "***\n",
    "## Section 2: Data Cleaning\n",
    "The dataset we used was broken down into individual MATLAB (.mat) files for each participant. We used MATLAB to convert the files into Comma-separated value (.csv) format. We decided to keep only the EEG data and times for each participant. The files are named according to the participant ID. EEG data files are named only by the participant ID (e.g., \"509.csv\"), EEG times files have 't' appended to the filename (e.g., \"509t.csv\")."
   ]
  },
  {
   "cell_type": "code",
   "execution_count": 2,
   "metadata": {},
   "outputs": [],
   "source": [
    "data_df = pd.read_csv('Data/509_data_6.csv')\n",
    "times_df = pd.read_csv('Data/509t.csv')"
   ]
  },
  {
   "cell_type": "markdown",
   "metadata": {},
   "source": [
    "Since each column in the EEG data corresponds to the columns in EEG times, we will use times_df as the column labels for data_df."
   ]
  },
  {
   "cell_type": "code",
   "execution_count": 3,
   "metadata": {},
   "outputs": [
    {
     "data": {
      "text/html": [
       "<div>\n",
       "<style scoped>\n",
       "    .dataframe tbody tr th:only-of-type {\n",
       "        vertical-align: middle;\n",
       "    }\n",
       "\n",
       "    .dataframe tbody tr th {\n",
       "        vertical-align: top;\n",
       "    }\n",
       "\n",
       "    .dataframe thead tr th {\n",
       "        text-align: left;\n",
       "    }\n",
       "</style>\n",
       "<table border=\"1\" class=\"dataframe\">\n",
       "  <thead>\n",
       "    <tr>\n",
       "      <th></th>\n",
       "      <th>0</th>\n",
       "      <th>2</th>\n",
       "      <th>4</th>\n",
       "      <th>6</th>\n",
       "      <th>8</th>\n",
       "      <th>10</th>\n",
       "      <th>12</th>\n",
       "      <th>14</th>\n",
       "      <th>16</th>\n",
       "      <th>18</th>\n",
       "      <th>...</th>\n",
       "      <th>506888</th>\n",
       "      <th>506890</th>\n",
       "      <th>506892</th>\n",
       "      <th>506894</th>\n",
       "      <th>506896</th>\n",
       "      <th>506898</th>\n",
       "      <th>506900</th>\n",
       "      <th>506902</th>\n",
       "      <th>506904</th>\n",
       "      <th>506906</th>\n",
       "    </tr>\n",
       "  </thead>\n",
       "  <tbody>\n",
       "    <tr>\n",
       "      <th>0</th>\n",
       "      <td>-42.48284</td>\n",
       "      <td>-46.31948</td>\n",
       "      <td>-51.36037</td>\n",
       "      <td>-54.47553</td>\n",
       "      <td>-54.11464</td>\n",
       "      <td>-53.90202</td>\n",
       "      <td>-54.85407</td>\n",
       "      <td>-54.40303</td>\n",
       "      <td>-53.71802</td>\n",
       "      <td>-54.37649</td>\n",
       "      <td>...</td>\n",
       "      <td>0</td>\n",
       "      <td>0</td>\n",
       "      <td>0</td>\n",
       "      <td>0</td>\n",
       "      <td>0.0000</td>\n",
       "      <td>9.71704</td>\n",
       "      <td>0.000000</td>\n",
       "      <td>0.000000</td>\n",
       "      <td>0.00</td>\n",
       "      <td>2.452983</td>\n",
       "    </tr>\n",
       "    <tr>\n",
       "      <th>1</th>\n",
       "      <td>48.48675</td>\n",
       "      <td>44.48138</td>\n",
       "      <td>42.58455</td>\n",
       "      <td>43.28513</td>\n",
       "      <td>44.06726</td>\n",
       "      <td>41.55170</td>\n",
       "      <td>39.44033</td>\n",
       "      <td>42.32360</td>\n",
       "      <td>43.60525</td>\n",
       "      <td>40.57979</td>\n",
       "      <td>...</td>\n",
       "      <td>0</td>\n",
       "      <td>0</td>\n",
       "      <td>0</td>\n",
       "      <td>0</td>\n",
       "      <td>0.0000</td>\n",
       "      <td>0.00000</td>\n",
       "      <td>0.000148</td>\n",
       "      <td>9.717040</td>\n",
       "      <td>0.00</td>\n",
       "      <td>0.000000</td>\n",
       "    </tr>\n",
       "    <tr>\n",
       "      <th>2</th>\n",
       "      <td>-65.25048</td>\n",
       "      <td>-66.15553</td>\n",
       "      <td>-68.49241</td>\n",
       "      <td>-71.37434</td>\n",
       "      <td>-73.33966</td>\n",
       "      <td>-73.69581</td>\n",
       "      <td>-73.61456</td>\n",
       "      <td>-74.31854</td>\n",
       "      <td>-74.32522</td>\n",
       "      <td>-72.89500</td>\n",
       "      <td>...</td>\n",
       "      <td>0</td>\n",
       "      <td>0</td>\n",
       "      <td>0</td>\n",
       "      <td>0</td>\n",
       "      <td>2617.4090</td>\n",
       "      <td>0.00000</td>\n",
       "      <td>0.000000</td>\n",
       "      <td>0.709918</td>\n",
       "      <td>46527.58</td>\n",
       "      <td>2.116113</td>\n",
       "    </tr>\n",
       "    <tr>\n",
       "      <th>3</th>\n",
       "      <td>16.57424</td>\n",
       "      <td>15.38467</td>\n",
       "      <td>14.22920</td>\n",
       "      <td>12.94236</td>\n",
       "      <td>12.76103</td>\n",
       "      <td>12.58444</td>\n",
       "      <td>12.35581</td>\n",
       "      <td>12.87979</td>\n",
       "      <td>12.28286</td>\n",
       "      <td>10.40160</td>\n",
       "      <td>...</td>\n",
       "      <td>0</td>\n",
       "      <td>0</td>\n",
       "      <td>0</td>\n",
       "      <td>0</td>\n",
       "      <td>175.3732</td>\n",
       "      <td>34314.64000</td>\n",
       "      <td>0.000000</td>\n",
       "      <td>2.812390</td>\n",
       "      <td>0.00</td>\n",
       "      <td>0.000000</td>\n",
       "    </tr>\n",
       "    <tr>\n",
       "      <th>4</th>\n",
       "      <td>-120.97400</td>\n",
       "      <td>-123.59530</td>\n",
       "      <td>-128.45940</td>\n",
       "      <td>-130.62880</td>\n",
       "      <td>-130.72660</td>\n",
       "      <td>-132.59780</td>\n",
       "      <td>-135.11340</td>\n",
       "      <td>-134.28500</td>\n",
       "      <td>-128.96830</td>\n",
       "      <td>-124.42780</td>\n",
       "      <td>...</td>\n",
       "      <td>0</td>\n",
       "      <td>0</td>\n",
       "      <td>0</td>\n",
       "      <td>0</td>\n",
       "      <td>0.0000</td>\n",
       "      <td>0.00000</td>\n",
       "      <td>0.000000</td>\n",
       "      <td>0.000000</td>\n",
       "      <td>0.00</td>\n",
       "      <td>0.000000</td>\n",
       "    </tr>\n",
       "  </tbody>\n",
       "</table>\n",
       "<p>5 rows × 253454 columns</p>\n",
       "</div>"
      ],
      "text/plain": [
       "           0          2          4          6          8         10  \\\n",
       "0  -42.48284  -46.31948  -51.36037  -54.47553  -54.11464  -53.90202   \n",
       "1   48.48675   44.48138   42.58455   43.28513   44.06726   41.55170   \n",
       "2  -65.25048  -66.15553  -68.49241  -71.37434  -73.33966  -73.69581   \n",
       "3   16.57424   15.38467   14.22920   12.94236   12.76103   12.58444   \n",
       "4 -120.97400 -123.59530 -128.45940 -130.62880 -130.72660 -132.59780   \n",
       "\n",
       "          12         14         16         18  ... 506888 506890 506892  \\\n",
       "0  -54.85407  -54.40303  -53.71802  -54.37649  ...      0      0      0   \n",
       "1   39.44033   42.32360   43.60525   40.57979  ...      0      0      0   \n",
       "2  -73.61456  -74.31854  -74.32522  -72.89500  ...      0      0      0   \n",
       "3   12.35581   12.87979   12.28286   10.40160  ...      0      0      0   \n",
       "4 -135.11340 -134.28500 -128.96830 -124.42780  ...      0      0      0   \n",
       "\n",
       "  506894     506896       506898    506900    506902    506904    506906  \n",
       "0      0     0.0000      9.71704  0.000000  0.000000      0.00  2.452983  \n",
       "1      0     0.0000      0.00000  0.000148  9.717040      0.00  0.000000  \n",
       "2      0  2617.4090      0.00000  0.000000  0.709918  46527.58  2.116113  \n",
       "3      0   175.3732  34314.64000  0.000000  2.812390      0.00  0.000000  \n",
       "4      0     0.0000      0.00000  0.000000  0.000000      0.00  0.000000  \n",
       "\n",
       "[5 rows x 253454 columns]"
      ]
     },
     "execution_count": 3,
     "metadata": {},
     "output_type": "execute_result"
    }
   ],
   "source": [
    "data_df.columns=[times_df]\n",
    "\n",
    "data_df.head()"
   ]
  },
  {
   "cell_type": "markdown",
   "metadata": {},
   "source": [
    "***\n",
    "## Section 3: Data Filtering\n",
    "In this section, we focus on reformatting and processing the data so that we can have an array of alpha powers for each participant as well as a label (1 if depressed and 0 if otherwise) to signify if a participant was labelled as depressed or not depending on their Beck Depression Test score (> 13)."
   ]
  },
  {
   "cell_type": "markdown",
   "metadata": {},
   "source": [
    "First, we read in each participant's EEG data as a .csv file (e.g. 509_data.csv) and convert it to a dataframe to process the data later on. We also load in the data for the EEG channels for each person (e.g. participant 509c.csv) and the event timestamps for the participant (e.g. 509e.csv)."
   ]
  },
  {
   "cell_type": "code",
   "execution_count": 4,
   "metadata": {},
   "outputs": [],
   "source": [
    "num = '509'\n",
    "data_t = pd.read_csv('Data/' + num +'_data.csv')\n",
    "channels = pd.read_csv('Data/' + num + 'c.csv')\n",
    "events = pd.read_csv('Data/' + num + 'e.csv')\n",
    "events['type'] = events['type'].astype(str)"
   ]
  },
  {
   "cell_type": "code",
   "execution_count": 5,
   "metadata": {},
   "outputs": [
    {
     "data": {
      "text/html": [
       "<div>\n",
       "<style scoped>\n",
       "    .dataframe tbody tr th:only-of-type {\n",
       "        vertical-align: middle;\n",
       "    }\n",
       "\n",
       "    .dataframe tbody tr th {\n",
       "        vertical-align: top;\n",
       "    }\n",
       "\n",
       "    .dataframe thead th {\n",
       "        text-align: right;\n",
       "    }\n",
       "</style>\n",
       "<table border=\"1\" class=\"dataframe\">\n",
       "  <thead>\n",
       "    <tr style=\"text-align: right;\">\n",
       "      <th></th>\n",
       "      <th>0</th>\n",
       "      <th>2</th>\n",
       "      <th>4</th>\n",
       "      <th>6</th>\n",
       "      <th>8</th>\n",
       "      <th>10</th>\n",
       "      <th>12</th>\n",
       "      <th>14</th>\n",
       "      <th>16</th>\n",
       "      <th>18</th>\n",
       "      <th>...</th>\n",
       "      <th>506888</th>\n",
       "      <th>506890</th>\n",
       "      <th>506892</th>\n",
       "      <th>506894</th>\n",
       "      <th>506896</th>\n",
       "      <th>506898</th>\n",
       "      <th>506900</th>\n",
       "      <th>506902</th>\n",
       "      <th>506904</th>\n",
       "      <th>506906</th>\n",
       "    </tr>\n",
       "  </thead>\n",
       "  <tbody>\n",
       "    <tr>\n",
       "      <th>0</th>\n",
       "      <td>-36.311830</td>\n",
       "      <td>-35.221750</td>\n",
       "      <td>-33.433320</td>\n",
       "      <td>-26.742470</td>\n",
       "      <td>-21.25350</td>\n",
       "      <td>-20.189520</td>\n",
       "      <td>-17.141080</td>\n",
       "      <td>-11.871560</td>\n",
       "      <td>-10.526000</td>\n",
       "      <td>-13.190420</td>\n",
       "      <td>...</td>\n",
       "      <td>0</td>\n",
       "      <td>0</td>\n",
       "      <td>0</td>\n",
       "      <td>0</td>\n",
       "      <td>719.061</td>\n",
       "      <td>0.000000</td>\n",
       "      <td>0.000148</td>\n",
       "      <td>16.311060</td>\n",
       "      <td>-204640.900000</td>\n",
       "      <td>0.00000</td>\n",
       "    </tr>\n",
       "    <tr>\n",
       "      <th>1</th>\n",
       "      <td>-14.143950</td>\n",
       "      <td>-15.910290</td>\n",
       "      <td>-16.286300</td>\n",
       "      <td>-12.211390</td>\n",
       "      <td>-7.91615</td>\n",
       "      <td>-6.016363</td>\n",
       "      <td>-3.457663</td>\n",
       "      <td>-0.107496</td>\n",
       "      <td>0.002521</td>\n",
       "      <td>-2.810463</td>\n",
       "      <td>...</td>\n",
       "      <td>0</td>\n",
       "      <td>0</td>\n",
       "      <td>0</td>\n",
       "      <td>0</td>\n",
       "      <td>719.061</td>\n",
       "      <td>0.010972</td>\n",
       "      <td>719.061000</td>\n",
       "      <td>0.000000</td>\n",
       "      <td>0.000148</td>\n",
       "      <td>16.31195</td>\n",
       "    </tr>\n",
       "    <tr>\n",
       "      <th>2</th>\n",
       "      <td>1.931665</td>\n",
       "      <td>-0.395882</td>\n",
       "      <td>0.179555</td>\n",
       "      <td>3.381303</td>\n",
       "      <td>5.91969</td>\n",
       "      <td>7.948324</td>\n",
       "      <td>10.617190</td>\n",
       "      <td>12.853400</td>\n",
       "      <td>12.848660</td>\n",
       "      <td>11.716910</td>\n",
       "      <td>...</td>\n",
       "      <td>0</td>\n",
       "      <td>0</td>\n",
       "      <td>0</td>\n",
       "      <td>0</td>\n",
       "      <td>0.000</td>\n",
       "      <td>0.010972</td>\n",
       "      <td>719.061000</td>\n",
       "      <td>0.010972</td>\n",
       "      <td>719.061000</td>\n",
       "      <td>0.00000</td>\n",
       "    </tr>\n",
       "  </tbody>\n",
       "</table>\n",
       "<p>3 rows × 253454 columns</p>\n",
       "</div>"
      ],
      "text/plain": [
       "           0          2          4          6         8         10         12  \\\n",
       "0 -36.311830 -35.221750 -33.433320 -26.742470 -21.25350 -20.189520 -17.141080   \n",
       "1 -14.143950 -15.910290 -16.286300 -12.211390  -7.91615  -6.016363  -3.457663   \n",
       "2   1.931665  -0.395882   0.179555   3.381303   5.91969   7.948324  10.617190   \n",
       "\n",
       "          14         16         18  ...  506888  506890  506892  506894  \\\n",
       "0 -11.871560 -10.526000 -13.190420  ...       0       0       0       0   \n",
       "1  -0.107496   0.002521  -2.810463  ...       0       0       0       0   \n",
       "2  12.853400  12.848660  11.716910  ...       0       0       0       0   \n",
       "\n",
       "    506896    506898      506900     506902         506904    506906  \n",
       "0  719.061  0.000000    0.000148  16.311060 -204640.900000   0.00000  \n",
       "1  719.061  0.010972  719.061000   0.000000       0.000148  16.31195  \n",
       "2    0.000  0.010972  719.061000   0.010972     719.061000   0.00000  \n",
       "\n",
       "[3 rows x 253454 columns]"
      ]
     },
     "execution_count": 5,
     "metadata": {},
     "output_type": "execute_result"
    }
   ],
   "source": [
    "data_t"
   ]
  },
  {
   "cell_type": "markdown",
   "metadata": {},
   "source": [
    "Participants were directed to keep their eyes open and close their eyes in ~33 seconds. The events included types 1 to 6 and 11 to 16, where triggers were produced at types 11 to 16. In order to filter the data we will only look at types 11, 13, 15  for events with eyes closed and types 12, 14, 16 for events with open eyes."
   ]
  },
  {
   "cell_type": "code",
   "execution_count": 6,
   "metadata": {},
   "outputs": [],
   "source": [
    "eyes_closed = [ '11', '13', '15']\n",
    "eyes_open = ['12', '14', '16']\n",
    "fs = 500"
   ]
  },
  {
   "cell_type": "markdown",
   "metadata": {},
   "source": [
    "The types of events represent the state of the participant(eyes closed/open) and latency indicates the time stamp corresponding for each event. Using the time in events we retrieved the corresponding data for O1, Oz, O2 electrodes for eyes closed or open."
   ]
  },
  {
   "cell_type": "code",
   "execution_count": 7,
   "metadata": {},
   "outputs": [],
   "source": [
    "#Get relevent data from events\n",
    "#TAs code\n",
    "\n",
    "#eyes closed\n",
    "dataset_closed_0 = []\n",
    "dataset_closed_1 = []\n",
    "dataset_closed_2 = []\n",
    "\n",
    "for e in range(1, len(events)):\n",
    "    if events['type'][e] in eyes_closed:\n",
    "        time = int(events['latency'][e])\n",
    "        if time % 2 == 1:\n",
    "            time = time - 1\n",
    "        \n",
    "        loc_1 = data_t.columns.get_loc(str(time))\n",
    "        \n",
    "        dataset_closed_0.append(data_t.iloc[0, loc_1])\n",
    "        dataset_closed_0.append(data_t.iloc[1, loc_1])\n",
    "        dataset_closed_0.append(data_t.iloc[2, loc_1])\n",
    "        \n",
    "\n",
    "#eyes open\n",
    "dataset_open_0 = []\n",
    "dataset_open_1 = []\n",
    "dataset_open_2 = []\n",
    "\n",
    "for e in range(1, len(events)):\n",
    "    if events['type'][e] in eyes_open:\n",
    "        time = int(events['latency'][e])\n",
    "        if time % 2 == 1:\n",
    "            time = time - 1\n",
    "        \n",
    "        loc_1 = data_t.columns.get_loc(str(time))\n",
    "        \n",
    "        dataset_open_0.append(data_t.iloc[0, loc_1])\n",
    "        dataset_open_0.append(data_t.iloc[1, loc_1])\n",
    "        dataset_open_0.append(data_t.iloc[2, loc_1])\n",
    "        "
   ]
  },
  {
   "cell_type": "markdown",
   "metadata": {},
   "source": [
    "Next, we will plot the raw data for the events where participants closed their eyes and opened their eyes. On the x-axis, we have the data samples for the EEG waves recorded and on the y-axis, we have the amplitude of the EEG waves."
   ]
  },
  {
   "cell_type": "code",
   "execution_count": 8,
   "metadata": {},
   "outputs": [],
   "source": [
    "closed_data = dataset_closed_0\n",
    "open_data = dataset_open_0"
   ]
  },
  {
   "cell_type": "code",
   "execution_count": 9,
   "metadata": {},
   "outputs": [
    {
     "data": {
      "image/png": "[encoded data removed]",
      "text/plain": [
       "<Figure size 432x288 with 1 Axes>"
      ]
     },
     "metadata": {
      "needs_background": "light"
     },
     "output_type": "display_data"
    }
   ],
   "source": [
    "#Eyes closed\n",
    "a = np.transpose(closed_data)\n",
    "plt.plot(a, label = \"raw eeg\", color='navy');\n",
    "plt.xlabel('Samples');\n",
    "plt.ylabel('Amplitude (uV)');\n",
    "plt.grid(True);\n",
    "plt.legend(loc = 'best');"
   ]
  },
  {
   "cell_type": "code",
   "execution_count": 10,
   "metadata": {},
   "outputs": [
    {
     "data": {
      "image/png": "[encoded data removed]",
      "text/plain": [
       "<Figure size 432x288 with 1 Axes>"
      ]
     },
     "metadata": {
      "needs_background": "light"
     },
     "output_type": "display_data"
    }
   ],
   "source": [
    "#Open Eyes\n",
    "a = np.transpose(open_data)\n",
    "plt.plot(a, label = \"raw eeg\", color='limegreen');\n",
    "plt.xlabel('Samples');\n",
    "plt.ylabel('Amplitude (uV)');\n",
    "plt.grid(True);\n",
    "plt.legend(loc = 'best');"
   ]
  },
  {
   "cell_type": "markdown",
   "metadata": {},
   "source": [
    "Then, we attempted to analyze the data using Fourier Transforms in order to calculate the mean band powers for theta, alpha, beta, and gamma. By getting the values after the Fourier Transformation, we were able to obtain the frequencies at which the events occurred and then look for the values that were within 8 to 12Hz in order to extract the average alpha power for each participant during the events with their eyes closed and eyes open."
   ]
  },
  {
   "cell_type": "code",
   "execution_count": 11,
   "metadata": {},
   "outputs": [],
   "source": [
    "data = closed_data\n",
    "\n",
    "# Get real amplitudes of FFT (only in postive frequencies)\n",
    "fft_vals = np.absolute(np.fft.rfft(data))\n",
    "# Get frequencies for amplitudes in Hz\n",
    "fft_freq = np.fft.rfftfreq(len(closed_data), 1/fs)\n",
    "\n",
    "\n",
    "# Define EEG bands\n",
    "eeg_bands = {'Theta': (4, 8),\n",
    "             'Alpha': (8, 12),\n",
    "             'Beta': (12, 30),\n",
    "             'Gamma': (30, 45)}\n",
    "\n",
    "# Take the max of the fft amplitude for each EEG band\n",
    "eeg_band_fft = dict()\n",
    "for band in eeg_bands: \n",
    "    try:\n",
    "        freq_ix = np.where((fft_freq >= eeg_bands[band][0]) & (fft_freq < eeg_bands[band][1]))[0]\n",
    "        eeg_band_fft[band] = np.mean(fft_vals[freq_ix])\n",
    "    except ValueError:  #raised if `y` is empty.\n",
    "        print(\"entered\")\n",
    "        pass\n",
    "\n",
    "data = open_data\n",
    "\n",
    "# Get real amplitudes of FFT (only in postive frequencies)\n",
    "fft_vals = np.absolute(np.fft.rfft(data))\n",
    "# Get frequencies for amplitudes in Hz\n",
    "fft_freq = np.fft.rfftfreq(len(data), 1.0/fs)\n",
    "\n",
    "# Take the max of the fft amplitude for each EEG band\n",
    "eeg_band_fft_open = dict()\n",
    "for band in eeg_bands: \n",
    "    try:\n",
    "        freq_ix = np.where((fft_freq >= eeg_bands[band][0]) & (fft_freq < eeg_bands[band][1]))[0]\n",
    "        eeg_band_fft_open[band] = np.mean(fft_vals[freq_ix])\n",
    "    except ValueError:  #raised if `y` is empty.\n",
    "        print(\"entered\")\n",
    "        pass\n",
    "\n"
   ]
  },
  {
   "cell_type": "code",
   "execution_count": 12,
   "metadata": {},
   "outputs": [
    {
     "data": {
      "text/plain": [
       "Text(0, 0.5, 'Mean Band Amplitude')"
      ]
     },
     "execution_count": 12,
     "metadata": {},
     "output_type": "execute_result"
    },
    {
     "data": {
      "image/png": "[encoded data removed]",
      "text/plain": [
       "<Figure size 432x288 with 1 Axes>"
      ]
     },
     "metadata": {
      "needs_background": "light"
     },
     "output_type": "display_data"
    },
    {
     "data": {
      "image/png": "[encoded data removed]",
      "text/plain": [
       "<Figure size 432x288 with 1 Axes>"
      ]
     },
     "metadata": {
      "needs_background": "light"
     },
     "output_type": "display_data"
    }
   ],
   "source": [
    "# Plot the data \n",
    "df = pd.DataFrame(columns=['band', 'val'])\n",
    "df['band'] = eeg_bands.keys()\n",
    "df['val'] = [eeg_band_fft[band] for band in eeg_bands]\n",
    "ax = df.plot.bar(x='band', y='val', legend=False, color='navy')\n",
    "ax.set_xlabel(\"Closed\")\n",
    "ax.set_ylabel(\"Mean Band Amplitude\")\n",
    "\n",
    "df = pd.DataFrame(columns=['band', 'val'])\n",
    "df['band'] = eeg_bands.keys()\n",
    "df['val'] = [eeg_band_fft_open[band] for band in eeg_bands]\n",
    "ax = df.plot.bar(x='band', y='val', legend=False, color='limegreen')\n",
    "ax.set_xlabel(\"Open\")\n",
    "ax.set_ylabel(\"Mean Band Amplitude\")"
   ]
  },
  {
   "cell_type": "markdown",
   "metadata": {},
   "source": [
    "After filtering the data for all the participants our data has the following tendency. We included the number that participants had in the original procedure, eeg alpha data for eyes closed and open, and their depression state. In order to determine if the participant had a depression we used the BDI index where participants with BDI greater than 13 were labeled as depressed."
   ]
  },
  {
   "cell_type": "code",
   "execution_count": 13,
   "metadata": {},
   "outputs": [
    {
     "data": {
      "text/html": [
       "<div>\n",
       "<style scoped>\n",
       "    .dataframe tbody tr th:only-of-type {\n",
       "        vertical-align: middle;\n",
       "    }\n",
       "\n",
       "    .dataframe tbody tr th {\n",
       "        vertical-align: top;\n",
       "    }\n",
       "\n",
       "    .dataframe thead th {\n",
       "        text-align: right;\n",
       "    }\n",
       "</style>\n",
       "<table border=\"1\" class=\"dataframe\">\n",
       "  <thead>\n",
       "    <tr style=\"text-align: right;\">\n",
       "      <th></th>\n",
       "      <th>participant</th>\n",
       "      <th>open</th>\n",
       "      <th>closed</th>\n",
       "      <th>label (0 for not depressed, 1 for depressed)</th>\n",
       "      <th>BDI</th>\n",
       "    </tr>\n",
       "  </thead>\n",
       "  <tbody>\n",
       "    <tr>\n",
       "      <th>0</th>\n",
       "      <td>509</td>\n",
       "      <td>491.109212</td>\n",
       "      <td>408.343868</td>\n",
       "      <td>0</td>\n",
       "      <td>7</td>\n",
       "    </tr>\n",
       "    <tr>\n",
       "      <th>1</th>\n",
       "      <td>519</td>\n",
       "      <td>324.802986</td>\n",
       "      <td>963.380921</td>\n",
       "      <td>0</td>\n",
       "      <td>6</td>\n",
       "    </tr>\n",
       "    <tr>\n",
       "      <th>2</th>\n",
       "      <td>542</td>\n",
       "      <td>450.667603</td>\n",
       "      <td>451.559918</td>\n",
       "      <td>0</td>\n",
       "      <td>0</td>\n",
       "    </tr>\n",
       "    <tr>\n",
       "      <th>3</th>\n",
       "      <td>545</td>\n",
       "      <td>356.680814</td>\n",
       "      <td>790.636981</td>\n",
       "      <td>0</td>\n",
       "      <td>0</td>\n",
       "    </tr>\n",
       "    <tr>\n",
       "      <th>4</th>\n",
       "      <td>546</td>\n",
       "      <td>700.472825</td>\n",
       "      <td>270.410014</td>\n",
       "      <td>0</td>\n",
       "      <td>5</td>\n",
       "    </tr>\n",
       "    <tr>\n",
       "      <th>5</th>\n",
       "      <td>550</td>\n",
       "      <td>223.611748</td>\n",
       "      <td>2670.189747</td>\n",
       "      <td>0</td>\n",
       "      <td>1</td>\n",
       "    </tr>\n",
       "    <tr>\n",
       "      <th>6</th>\n",
       "      <td>551</td>\n",
       "      <td>625.694546</td>\n",
       "      <td>667.483969</td>\n",
       "      <td>0</td>\n",
       "      <td>2</td>\n",
       "    </tr>\n",
       "    <tr>\n",
       "      <th>7</th>\n",
       "      <td>552</td>\n",
       "      <td>172.386131</td>\n",
       "      <td>1302.885171</td>\n",
       "      <td>0</td>\n",
       "      <td>2</td>\n",
       "    </tr>\n",
       "    <tr>\n",
       "      <th>8</th>\n",
       "      <td>554</td>\n",
       "      <td>427.850070</td>\n",
       "      <td>1009.747333</td>\n",
       "      <td>0</td>\n",
       "      <td>1</td>\n",
       "    </tr>\n",
       "    <tr>\n",
       "      <th>9</th>\n",
       "      <td>555</td>\n",
       "      <td>2421.741571</td>\n",
       "      <td>5179.579306</td>\n",
       "      <td>0</td>\n",
       "      <td>1</td>\n",
       "    </tr>\n",
       "    <tr>\n",
       "      <th>10</th>\n",
       "      <td>556</td>\n",
       "      <td>556.869279</td>\n",
       "      <td>632.261321</td>\n",
       "      <td>0</td>\n",
       "      <td>2</td>\n",
       "    </tr>\n",
       "    <tr>\n",
       "      <th>11</th>\n",
       "      <td>558</td>\n",
       "      <td>340.414171</td>\n",
       "      <td>867.513982</td>\n",
       "      <td>1</td>\n",
       "      <td>29</td>\n",
       "    </tr>\n",
       "    <tr>\n",
       "      <th>12</th>\n",
       "      <td>559</td>\n",
       "      <td>305.143468</td>\n",
       "      <td>481.523194</td>\n",
       "      <td>1</td>\n",
       "      <td>25</td>\n",
       "    </tr>\n",
       "    <tr>\n",
       "      <th>13</th>\n",
       "      <td>560</td>\n",
       "      <td>710.072187</td>\n",
       "      <td>1873.750271</td>\n",
       "      <td>0</td>\n",
       "      <td>0</td>\n",
       "    </tr>\n",
       "    <tr>\n",
       "      <th>14</th>\n",
       "      <td>561</td>\n",
       "      <td>421.228725</td>\n",
       "      <td>598.108260</td>\n",
       "      <td>1</td>\n",
       "      <td>27</td>\n",
       "    </tr>\n",
       "  </tbody>\n",
       "</table>\n",
       "</div>"
      ],
      "text/plain": [
       "    participant         open       closed  \\\n",
       "0           509   491.109212   408.343868   \n",
       "1           519   324.802986   963.380921   \n",
       "2           542   450.667603   451.559918   \n",
       "3           545   356.680814   790.636981   \n",
       "4           546   700.472825   270.410014   \n",
       "5           550   223.611748  2670.189747   \n",
       "6           551   625.694546   667.483969   \n",
       "7           552   172.386131  1302.885171   \n",
       "8           554   427.850070  1009.747333   \n",
       "9           555  2421.741571  5179.579306   \n",
       "10          556   556.869279   632.261321   \n",
       "11          558   340.414171   867.513982   \n",
       "12          559   305.143468   481.523194   \n",
       "13          560   710.072187  1873.750271   \n",
       "14          561   421.228725   598.108260   \n",
       "\n",
       "    label (0 for not depressed, 1 for depressed)  BDI  \n",
       "0                                              0    7  \n",
       "1                                              0    6  \n",
       "2                                              0    0  \n",
       "3                                              0    0  \n",
       "4                                              0    5  \n",
       "5                                              0    1  \n",
       "6                                              0    2  \n",
       "7                                              0    2  \n",
       "8                                              0    1  \n",
       "9                                              0    1  \n",
       "10                                             0    2  \n",
       "11                                             1   29  \n",
       "12                                             1   25  \n",
       "13                                             0    0  \n",
       "14                                             1   27  "
      ]
     },
     "execution_count": 13,
     "metadata": {},
     "output_type": "execute_result"
    }
   ],
   "source": [
    "fd = pd.read_csv('Data/Filtered_Data.csv')\n",
    "fd[:15]"
   ]
  },
  {
   "cell_type": "markdown",
   "metadata": {},
   "source": [
    "Below, the graph demonstrates that the participants have lower alpha values for events with their eyes closed than with events where their eyes are open. This is not the expected trend because alpha values should be much higher when the participants' eyes are closed."
   ]
  },
  {
   "cell_type": "code",
   "execution_count": 14,
   "metadata": {},
   "outputs": [
    {
     "data": {
      "text/plain": [
       "<matplotlib.legend.Legend at 0x7f120b6c4a90>"
      ]
     },
     "execution_count": 14,
     "metadata": {},
     "output_type": "execute_result"
    },
    {
     "data": {
      "image/png": "[encoded data removed]",
      "text/plain": [
       "<Figure size 1440x720 with 1 Axes>"
      ]
     },
     "metadata": {
      "needs_background": "light"
     },
     "output_type": "display_data"
    }
   ],
   "source": [
    "fd.plot(x='participant', y=['open','closed'],figsize=(20,10),color=['limegreen','navy'])\n",
    "\n",
    "plt.legend(title=\"Depressed\", fontsize=20, title_fontsize=20)"
   ]
  },
  {
   "cell_type": "markdown",
   "metadata": {},
   "source": [
    "Since the trend is unexpected for this participant, as the alpha power for the events where the participant's eyes were open was higher than the alpha power for the events where their eyes were closed, we chose to inject a sine wave at a frequency of 10Hz and perform Fourier Transformation on this wave in order to demonstrate what the data should look like. The ideal data should have had higher alpha powers for events with closed eyes than events with opened eyes."
   ]
  },
  {
   "cell_type": "code",
   "execution_count": 15,
   "metadata": {},
   "outputs": [
    {
     "data": {
      "image/png": "[encoded data removed]",
      "text/plain": [
       "<Figure size 432x288 with 1 Axes>"
      ]
     },
     "metadata": {
      "needs_background": "light"
     },
     "output_type": "display_data"
    }
   ],
   "source": [
    "F = 10\n",
    "T = 10/F\n",
    "Fs = 5000\n",
    "Ts = 1./Fs\n",
    "N = int(T/Ts)\n",
    "\n",
    "t = np.linspace(0, T, N)\n",
    "signal = np.sin(2*np.pi*F*t)\n",
    "\n",
    "plt.plot(t, signal)\n",
    "plt.show()"
   ]
  },
  {
   "cell_type": "code",
   "execution_count": 16,
   "metadata": {},
   "outputs": [],
   "source": [
    "data = signal\n",
    "\n",
    "# Get real amplitudes of FFT (only in postive frequencies)\n",
    "fft_vals = np.absolute(np.fft.rfft(data))\n",
    "# Get frequencies for amplitudes in Hz\n",
    "fft_freq = np.fft.rfftfreq(len(signal), 1/Fs)\n",
    "\n",
    "\n",
    "# Define EEG bands\n",
    "eeg_bands = {'Theta': (4, 8),\n",
    "             'Alpha': (8, 12),\n",
    "             'Beta': (12, 30),\n",
    "             'Gamma': (30, 45)}\n",
    "\n",
    "# Take the max of the fft amplitude for each EEG band\n",
    "eeg_band_fft = dict()\n",
    "for band in eeg_bands: \n",
    "    try:\n",
    "        freq_ix = np.where((fft_freq >= eeg_bands[band][0]) & (fft_freq < eeg_bands[band][1]))[0]\n",
    "        eeg_band_fft[band] = np.mean(fft_vals[freq_ix])\n",
    "    except ValueError:  #raised if `y` is empty.\n",
    "        print(\"entered\")\n",
    "        pass"
   ]
  },
  {
   "cell_type": "markdown",
   "metadata": {},
   "source": [
    "As the plot demonstrates below, the alpha power is much higher and this is what the expected trend should look like."
   ]
  },
  {
   "cell_type": "code",
   "execution_count": 17,
   "metadata": {},
   "outputs": [
    {
     "data": {
      "text/plain": [
       "Text(0, 0.5, 'Mean band Amplitude')"
      ]
     },
     "execution_count": 17,
     "metadata": {},
     "output_type": "execute_result"
    },
    {
     "data": {
      "image/png": "[encoded data removed]",
      "text/plain": [
       "<Figure size 432x288 with 1 Axes>"
      ]
     },
     "metadata": {
      "needs_background": "light"
     },
     "output_type": "display_data"
    }
   ],
   "source": [
    "# Plot the data \n",
    "df = pd.DataFrame(columns=['band', 'val'])\n",
    "df['band'] = eeg_bands.keys()\n",
    "df['val'] = [eeg_band_fft[band] for band in eeg_bands]\n",
    "ax = df.plot.bar(x='band', y='val', legend=False)\n",
    "ax.set_xlabel(\"Closed\")\n",
    "ax.set_ylabel(\"Mean band Amplitude\")"
   ]
  },
  {
   "cell_type": "markdown",
   "metadata": {},
   "source": [
    "***\n",
    "## Section 4: Machine Learning\n",
    "Although our data follows unexpected trends, causing us to doubt the validity of the collected data, we decided to run further machine learning experiments on the real data in order to see how the classifiers would perform, and if the accuracy scores collected will support the literature or if they will support that the data might not be accurate."
   ]
  },
  {
   "cell_type": "markdown",
   "metadata": {},
   "source": [
    "3 splits of data: 80/20, 60/40, 50/50 \n",
    "\n",
    "3 Algorithms: LDA, SVM, KNN \n",
    "\n",
    "Parameters for LDA: 3 different solvers - svd, lsqr, eigen\n",
    "\n",
    "Parameters for SVM: linear kernel, different values of C:  np.logspace(-4, 4, 9)\n",
    "\n",
    "Parameters for KNN: weights - uniform/distance, k-neighbors - 1 through 10, p value for minkowski metric - 1 and 2\n",
    "\n",
    "Scaled data for SVM in interests of computation time"
   ]
  },
  {
   "cell_type": "code",
   "execution_count": 3,
   "metadata": {},
   "outputs": [],
   "source": [
    "# Imports\n",
    "from sklearn.pipeline import Pipeline\n",
    "from sklearn.preprocessing import StandardScaler\n",
    "from sklearn.model_selection import StratifiedKFold\n",
    "\n",
    "\n",
    "# Algorithms\n",
    "from sklearn.discriminant_analysis import LinearDiscriminantAnalysis\n",
    "from sklearn.model_selection import train_test_split, GridSearchCV\n",
    "from sklearn.svm import SVC, LinearSVC\n",
    "from sklearn.metrics import accuracy_score\n",
    "from sklearn.neighbors import KNeighborsClassifier\n",
    "\n",
    "# Import data\n",
    "data = pd.read_csv('Data/Filtered_Data.csv')"
   ]
  },
  {
   "cell_type": "code",
   "execution_count": 4,
   "metadata": {},
   "outputs": [
    {
     "data": {
      "text/html": [
       "<div>\n",
       "<style scoped>\n",
       "    .dataframe tbody tr th:only-of-type {\n",
       "        vertical-align: middle;\n",
       "    }\n",
       "\n",
       "    .dataframe tbody tr th {\n",
       "        vertical-align: top;\n",
       "    }\n",
       "\n",
       "    .dataframe thead th {\n",
       "        text-align: right;\n",
       "    }\n",
       "</style>\n",
       "<table border=\"1\" class=\"dataframe\">\n",
       "  <thead>\n",
       "    <tr style=\"text-align: right;\">\n",
       "      <th></th>\n",
       "      <th>participant</th>\n",
       "      <th>open</th>\n",
       "      <th>closed</th>\n",
       "      <th>label (0 for not depressed, 1 for depressed)</th>\n",
       "      <th>BDI</th>\n",
       "    </tr>\n",
       "  </thead>\n",
       "  <tbody>\n",
       "    <tr>\n",
       "      <th>0</th>\n",
       "      <td>509</td>\n",
       "      <td>491.109212</td>\n",
       "      <td>408.343868</td>\n",
       "      <td>0</td>\n",
       "      <td>7</td>\n",
       "    </tr>\n",
       "    <tr>\n",
       "      <th>1</th>\n",
       "      <td>519</td>\n",
       "      <td>324.802986</td>\n",
       "      <td>963.380921</td>\n",
       "      <td>0</td>\n",
       "      <td>6</td>\n",
       "    </tr>\n",
       "    <tr>\n",
       "      <th>2</th>\n",
       "      <td>542</td>\n",
       "      <td>450.667603</td>\n",
       "      <td>451.559918</td>\n",
       "      <td>0</td>\n",
       "      <td>0</td>\n",
       "    </tr>\n",
       "    <tr>\n",
       "      <th>3</th>\n",
       "      <td>545</td>\n",
       "      <td>356.680814</td>\n",
       "      <td>790.636981</td>\n",
       "      <td>0</td>\n",
       "      <td>0</td>\n",
       "    </tr>\n",
       "    <tr>\n",
       "      <th>4</th>\n",
       "      <td>546</td>\n",
       "      <td>700.472825</td>\n",
       "      <td>270.410014</td>\n",
       "      <td>0</td>\n",
       "      <td>5</td>\n",
       "    </tr>\n",
       "  </tbody>\n",
       "</table>\n",
       "</div>"
      ],
      "text/plain": [
       "   participant        open      closed  \\\n",
       "0          509  491.109212  408.343868   \n",
       "1          519  324.802986  963.380921   \n",
       "2          542  450.667603  451.559918   \n",
       "3          545  356.680814  790.636981   \n",
       "4          546  700.472825  270.410014   \n",
       "\n",
       "   label (0 for not depressed, 1 for depressed)  BDI  \n",
       "0                                             0    7  \n",
       "1                                             0    6  \n",
       "2                                             0    0  \n",
       "3                                             0    0  \n",
       "4                                             0    5  "
      ]
     },
     "execution_count": 4,
     "metadata": {},
     "output_type": "execute_result"
    }
   ],
   "source": [
    "data.head()"
   ]
  },
  {
   "cell_type": "code",
   "execution_count": 5,
   "metadata": {},
   "outputs": [],
   "source": [
    "X = data[['open', 'closed']]\n",
    "Y = data['label (0 for not depressed, 1 for depressed)']"
   ]
  },
  {
   "cell_type": "markdown",
   "metadata": {},
   "source": [
    "### 80/20 Split of Data"
   ]
  },
  {
   "cell_type": "code",
   "execution_count": 21,
   "metadata": {},
   "outputs": [],
   "source": [
    "X_train1, X_test1, y_train1, y_test1 = train_test_split(X, Y, test_size=0.20, random_state=42)"
   ]
  },
  {
   "cell_type": "code",
   "execution_count": 22,
   "metadata": {},
   "outputs": [
    {
     "name": "stdout",
     "output_type": "stream",
     "text": [
      "X_train1:  (64, 2)\n",
      "y_train1:  (64,)\n"
     ]
    }
   ],
   "source": [
    "print(\"X_train1: \", X_train1.shape)\n",
    "print(\"y_train1: \", y_train1.shape)"
   ]
  },
  {
   "cell_type": "code",
   "execution_count": 27,
   "metadata": {},
   "outputs": [],
   "source": [
    "# Linear Discriminant Analysis\n",
    "pipe_LDA = Pipeline([('classifier', LinearDiscriminantAnalysis())])\n",
    "search_space1 = [{'classifier': [LinearDiscriminantAnalysis()],\n",
    "                 'classifier__solver': ['svd', 'lsqr', 'eigen']}]\n",
    "# Create grid search \n",
    "clf = GridSearchCV(pipe_LDA, search_space1, cv=StratifiedKFold(n_splits=10), \n",
    "                   scoring='accuracy', refit=True,\n",
    "                   verbose=0)\n",
    "\n",
    "# Fit grid search\n",
    "LDA_model1 = clf.fit(X_train1, y_train1)\n",
    "\n",
    "\n",
    "\n",
    "# SVM\n",
    "pipe_SVC = Pipeline([('std', StandardScaler()),\n",
    "                    ('classifier', SVC())])\n",
    "search_space2 = [{'classifier': [SVC()],\n",
    "                 'classifier__kernel': ['linear'],\n",
    "                 'classifier__C': np.logspace(-4, 4, 9)}]\n",
    "# Create grid search \n",
    "clf2 = GridSearchCV(pipe_SVC, search_space2, cv=StratifiedKFold(n_splits=10), \n",
    "                   scoring='accuracy', refit=True,\n",
    "                   verbose=0)\n",
    "\n",
    "# Fit grid search\n",
    "SVC_model1 = clf2.fit(X_train1, y_train1)\n",
    "\n",
    "\n",
    "\n",
    "# KNN\n",
    "pipe_KNN = Pipeline([('classifier', KNeighborsClassifier())])\n",
    "search_space3 = [{'classifier': [KNeighborsClassifier()],\n",
    "                 'classifier__weights': ['uniform', 'distance'],\n",
    "                 'classifier__n_neighbors': [i for i in range(1,11)],\n",
    "                 'classifier__p': [1, 2]\n",
    "                }]\n",
    "# Create grid search \n",
    "clf3 = GridSearchCV(pipe_KNN, search_space3, cv=StratifiedKFold(n_splits=10), \n",
    "                   scoring='accuracy', refit=True,\n",
    "                   verbose=0)\n",
    "\n",
    "# Fit grid search\n",
    "KNN_model1 = clf3.fit(X_train1, y_train1)"
   ]
  },
  {
   "cell_type": "code",
   "execution_count": 28,
   "metadata": {},
   "outputs": [
    {
     "data": {
      "text/plain": [
       "{'classifier': LinearDiscriminantAnalysis(solver='lsqr'),\n",
       " 'classifier__solver': 'lsqr'}"
      ]
     },
     "execution_count": 28,
     "metadata": {},
     "output_type": "execute_result"
    }
   ],
   "source": [
    "# Best hyperparameters for LDA\n",
    "LDA_model1.cv_results_['params'][ np.argmin(LDA_model1.cv_results_['rank_test_score']) ]"
   ]
  },
  {
   "cell_type": "code",
   "execution_count": 29,
   "metadata": {},
   "outputs": [
    {
     "data": {
      "text/plain": [
       "{'classifier': SVC(C=10.0, kernel='linear'),\n",
       " 'classifier__C': 10.0,\n",
       " 'classifier__kernel': 'linear'}"
      ]
     },
     "execution_count": 29,
     "metadata": {},
     "output_type": "execute_result"
    }
   ],
   "source": [
    "# Best hyperparameters for SVM\n",
    "SVC_model1.cv_results_['params'][ np.argmin(SVC_model1.cv_results_['rank_test_score']) ]"
   ]
  },
  {
   "cell_type": "code",
   "execution_count": 30,
   "metadata": {},
   "outputs": [
    {
     "data": {
      "text/plain": [
       "{'classifier': KNeighborsClassifier(n_neighbors=2, p=1),\n",
       " 'classifier__n_neighbors': 2,\n",
       " 'classifier__p': 1,\n",
       " 'classifier__weights': 'uniform'}"
      ]
     },
     "execution_count": 30,
     "metadata": {},
     "output_type": "execute_result"
    }
   ],
   "source": [
    "# Best hyperparameters for KNN\n",
    "KNN_model1.cv_results_['params'][ np.argmin(KNN_model1.cv_results_['rank_test_score']) ]"
   ]
  },
  {
   "cell_type": "code",
   "execution_count": 31,
   "metadata": {},
   "outputs": [
    {
     "data": {
      "text/plain": [
       "array([0.61904762, 0.63571429, 0.63571429])"
      ]
     },
     "execution_count": 31,
     "metadata": {},
     "output_type": "execute_result"
    }
   ],
   "source": [
    "# Validation scores for LDA\n",
    "LDA_model1.cv_results_['mean_test_score']"
   ]
  },
  {
   "cell_type": "code",
   "execution_count": 32,
   "metadata": {},
   "outputs": [
    {
     "data": {
      "text/plain": [
       "0.6357142857142857"
      ]
     },
     "execution_count": 32,
     "metadata": {},
     "output_type": "execute_result"
    }
   ],
   "source": [
    "# Best validation score for LDA\n",
    "LDA_model1.cv_results_['mean_test_score'][ np.argmin(LDA_model1.cv_results_['rank_test_score']) ]"
   ]
  },
  {
   "cell_type": "code",
   "execution_count": 33,
   "metadata": {},
   "outputs": [
    {
     "data": {
      "text/plain": [
       "array([0.5452381 , 0.5452381 , 0.53095238, 0.60714286, 0.60714286,\n",
       "       0.62142857, 0.58809524, 0.58809524, 0.58809524])"
      ]
     },
     "execution_count": 33,
     "metadata": {},
     "output_type": "execute_result"
    }
   ],
   "source": [
    "# Validation scores for SVM\n",
    "SVC_model1.cv_results_['mean_test_score']"
   ]
  },
  {
   "cell_type": "code",
   "execution_count": 34,
   "metadata": {},
   "outputs": [
    {
     "data": {
      "text/plain": [
       "0.6214285714285714"
      ]
     },
     "execution_count": 34,
     "metadata": {},
     "output_type": "execute_result"
    }
   ],
   "source": [
    "# Best validation score for SVM\n",
    "SVC_model1.cv_results_['mean_test_score'][ np.argmin(SVC_model1.cv_results_['rank_test_score']) ]"
   ]
  },
  {
   "cell_type": "code",
   "execution_count": 35,
   "metadata": {},
   "outputs": [
    {
     "data": {
      "text/plain": [
       "array([0.51666667, 0.51666667, 0.53333333, 0.53333333, 0.58333333,\n",
       "       0.51666667, 0.51666667, 0.53333333, 0.53333333, 0.56428571,\n",
       "       0.5       , 0.51666667, 0.5       , 0.51666667, 0.43809524,\n",
       "       0.53333333, 0.53333333, 0.51904762, 0.4547619 , 0.5047619 ,\n",
       "       0.37619048, 0.42142857, 0.43809524, 0.4547619 , 0.4547619 ,\n",
       "       0.44285714, 0.48571429, 0.48809524, 0.45952381, 0.5047619 ,\n",
       "       0.42142857, 0.55      , 0.52142857, 0.5047619 , 0.53333333,\n",
       "       0.53571429, 0.52142857, 0.54047619, 0.47380952, 0.52142857])"
      ]
     },
     "execution_count": 35,
     "metadata": {},
     "output_type": "execute_result"
    }
   ],
   "source": [
    "# Validation scores for KNN\n",
    "KNN_model1.cv_results_['mean_test_score']"
   ]
  },
  {
   "cell_type": "code",
   "execution_count": 36,
   "metadata": {},
   "outputs": [
    {
     "data": {
      "text/plain": [
       "0.5833333333333334"
      ]
     },
     "execution_count": 36,
     "metadata": {},
     "output_type": "execute_result"
    }
   ],
   "source": [
    "# Best validation score for KNN\n",
    "KNN_model1.cv_results_['mean_test_score'][ np.argmin(KNN_model1.cv_results_['rank_test_score']) ]"
   ]
  },
  {
   "cell_type": "markdown",
   "metadata": {},
   "source": [
    "#### Train best Models"
   ]
  },
  {
   "cell_type": "code",
   "execution_count": 23,
   "metadata": {},
   "outputs": [],
   "source": [
    "# Scale data for SVM\n",
    "scaler = StandardScaler()\n",
    "Xsc_train1 = scaler.fit_transform(X_train1)\n",
    "Xsc_test1 = scaler.fit_transform(X_test1)"
   ]
  },
  {
   "cell_type": "code",
   "execution_count": 24,
   "metadata": {},
   "outputs": [
    {
     "name": "stdout",
     "output_type": "stream",
     "text": [
      "Accuracy for LDA:  0.625\n",
      "Accuracy for SVM:  0.5625\n",
      "Accuracy for KNN:  0.6875\n"
     ]
    }
   ],
   "source": [
    "# Best LDA\n",
    "best_LDA_model1 = LinearDiscriminantAnalysis(solver='lsqr')\n",
    "best_LDA_model1.fit(X_train1, y_train1)\n",
    "\n",
    "# Best SVM\n",
    "best_SVM_model1 = SVC(C=10.0, kernel='linear', max_iter=-1, random_state=None,verbose=False)\n",
    "best_SVM_model1.fit(Xsc_train1, y_train1)\n",
    "\n",
    "# Best KNN\n",
    "best_KNN_model1 = KNeighborsClassifier(n_neighbors=2, p=1,weights='uniform') \n",
    "best_KNN_model1.fit(X_train1, y_train1)\n",
    "\n",
    "# Predictions and accuracy scores\n",
    "y_pred_LDA1 = best_LDA_model1.predict(X_test1)\n",
    "y_pred_SVM1 = best_SVM_model1.predict(Xsc_test1)\n",
    "y_pred_KNN1 = best_KNN_model1.predict(X_test1)\n",
    "\n",
    "accuracy_LDA1 = accuracy_score(y_pred_LDA1, y_test1)\n",
    "accuracy_SVM1 = accuracy_score(y_pred_SVM1, y_test1)\n",
    "accuracy_KNN1 = accuracy_score(y_pred_KNN1, y_test1)\n",
    "\n",
    "print(\"Accuracy for LDA: \", accuracy_LDA1)\n",
    "print(\"Accuracy for SVM: \", accuracy_SVM1)\n",
    "print(\"Accuracy for KNN: \", accuracy_KNN1)"
   ]
  },
  {
   "cell_type": "markdown",
   "metadata": {},
   "source": [
    "### 60/40 Split"
   ]
  },
  {
   "cell_type": "code",
   "execution_count": 26,
   "metadata": {},
   "outputs": [
    {
     "name": "stdout",
     "output_type": "stream",
     "text": [
      "X_train2:  (48, 2)\n",
      "y_train2:  (48,)\n"
     ]
    }
   ],
   "source": [
    "X_train2, X_test2, y_train2, y_test2 = train_test_split(X, Y, test_size=0.40, random_state=42)\n",
    "\n",
    "print(\"X_train2: \", X_train2.shape)\n",
    "print(\"y_train2: \", y_train2.shape)"
   ]
  },
  {
   "cell_type": "code",
   "execution_count": 38,
   "metadata": {},
   "outputs": [],
   "source": [
    "# Linear Discriminant Analysis\n",
    "pipe_LDA = Pipeline([('classifier', LinearDiscriminantAnalysis())])\n",
    "search_space1 = [{'classifier': [LinearDiscriminantAnalysis()],\n",
    "                 'classifier__solver': ['svd', 'lsqr', 'eigen']}]\n",
    "# Create grid search \n",
    "clf = GridSearchCV(pipe_LDA, search_space1, cv=StratifiedKFold(n_splits=10), \n",
    "                   scoring='accuracy', refit=True,\n",
    "                   verbose=0)\n",
    "\n",
    "# Fit grid search\n",
    "LDA_model2 = clf.fit(X_train2, y_train2)\n",
    "\n",
    "\n",
    "\n",
    "# SVM\n",
    "pipe_SVC = Pipeline([('std', StandardScaler()),\n",
    "                    ('classifier', SVC())])\n",
    "search_space2 = [{'classifier': [SVC()],\n",
    "                 'classifier__kernel': ['linear'],\n",
    "                 'classifier__C': np.logspace(-4, 4, 9)}]\n",
    "# Create grid search \n",
    "clf2 = GridSearchCV(pipe_SVC, search_space2, cv=StratifiedKFold(n_splits=10), \n",
    "                   scoring='accuracy', refit=True,\n",
    "                   verbose=0)\n",
    "\n",
    "# Fit grid search\n",
    "SVC_model2 = clf2.fit(X_train2, y_train2)\n",
    "\n",
    "\n",
    "\n",
    "# KNN\n",
    "pipe_KNN = Pipeline([('classifier', KNeighborsClassifier())])\n",
    "search_space3 = [{'classifier': [KNeighborsClassifier()],\n",
    "                 'classifier__weights': ['uniform', 'distance'],\n",
    "                 'classifier__n_neighbors': [i for i in range(1,11)],\n",
    "                 'classifier__p': [1, 2]\n",
    "                }]\n",
    "# Create grid search \n",
    "clf3 = GridSearchCV(pipe_KNN, search_space3, cv=StratifiedKFold(n_splits=10), \n",
    "                   scoring='accuracy', refit=True,\n",
    "                   verbose=0)\n",
    "\n",
    "# Fit grid search\n",
    "KNN_model2 = clf3.fit(X_train2, y_train2)"
   ]
  },
  {
   "cell_type": "code",
   "execution_count": 39,
   "metadata": {},
   "outputs": [
    {
     "data": {
      "text/plain": [
       "{'classifier': LinearDiscriminantAnalysis(), 'classifier__solver': 'svd'}"
      ]
     },
     "execution_count": 39,
     "metadata": {},
     "output_type": "execute_result"
    }
   ],
   "source": [
    "# Best hyperparameters for LDA\n",
    "LDA_model2.cv_results_['params'][ np.argmin(LDA_model2.cv_results_['rank_test_score']) ]"
   ]
  },
  {
   "cell_type": "code",
   "execution_count": 40,
   "metadata": {},
   "outputs": [
    {
     "data": {
      "text/plain": [
       "{'classifier': SVC(C=0.1, kernel='linear'),\n",
       " 'classifier__C': 0.1,\n",
       " 'classifier__kernel': 'linear'}"
      ]
     },
     "execution_count": 40,
     "metadata": {},
     "output_type": "execute_result"
    }
   ],
   "source": [
    "# Best hyperparameters for SVM\n",
    "SVC_model2.cv_results_['params'][ np.argmin(SVC_model2.cv_results_['rank_test_score']) ]"
   ]
  },
  {
   "cell_type": "code",
   "execution_count": 41,
   "metadata": {},
   "outputs": [
    {
     "data": {
      "text/plain": [
       "{'classifier': KNeighborsClassifier(n_neighbors=9, p=1),\n",
       " 'classifier__n_neighbors': 9,\n",
       " 'classifier__p': 1,\n",
       " 'classifier__weights': 'uniform'}"
      ]
     },
     "execution_count": 41,
     "metadata": {},
     "output_type": "execute_result"
    }
   ],
   "source": [
    "# Best hyperparameters for KNN\n",
    "KNN_model2.cv_results_['params'][ np.argmin(KNN_model2.cv_results_['rank_test_score']) ]"
   ]
  },
  {
   "cell_type": "code",
   "execution_count": 42,
   "metadata": {},
   "outputs": [
    {
     "data": {
      "text/plain": [
       "array([0.62, 0.62, 0.62])"
      ]
     },
     "execution_count": 42,
     "metadata": {},
     "output_type": "execute_result"
    }
   ],
   "source": [
    "# Validation scores for LDA\n",
    "LDA_model2.cv_results_['mean_test_score']"
   ]
  },
  {
   "cell_type": "code",
   "execution_count": 43,
   "metadata": {},
   "outputs": [
    {
     "data": {
      "text/plain": [
       "0.62"
      ]
     },
     "execution_count": 43,
     "metadata": {},
     "output_type": "execute_result"
    }
   ],
   "source": [
    "# Best validation score for LDA\n",
    "LDA_model2.cv_results_['mean_test_score'][ np.argmin(LDA_model2.cv_results_['rank_test_score']) ]"
   ]
  },
  {
   "cell_type": "code",
   "execution_count": 44,
   "metadata": {},
   "outputs": [
    {
     "data": {
      "text/plain": [
       "array([0.54, 0.54, 0.54, 0.6 , 0.56, 0.52, 0.52, 0.52, 0.52])"
      ]
     },
     "execution_count": 44,
     "metadata": {},
     "output_type": "execute_result"
    }
   ],
   "source": [
    "# Validation scores for SVM\n",
    "SVC_model2.cv_results_['mean_test_score']"
   ]
  },
  {
   "cell_type": "code",
   "execution_count": 45,
   "metadata": {},
   "outputs": [
    {
     "data": {
      "text/plain": [
       "0.6"
      ]
     },
     "execution_count": 45,
     "metadata": {},
     "output_type": "execute_result"
    }
   ],
   "source": [
    "# Best validation score for SVM\n",
    "SVC_model2.cv_results_['mean_test_score'][ np.argmin(SVC_model2.cv_results_['rank_test_score']) ]"
   ]
  },
  {
   "cell_type": "code",
   "execution_count": 46,
   "metadata": {},
   "outputs": [
    {
     "data": {
      "text/plain": [
       "array([0.53 , 0.53 , 0.465, 0.465, 0.495, 0.53 , 0.495, 0.465, 0.48 ,\n",
       "       0.53 , 0.5  , 0.51 , 0.54 , 0.485, 0.54 , 0.46 , 0.54 , 0.55 ,\n",
       "       0.515, 0.57 , 0.535, 0.59 , 0.47 , 0.57 , 0.56 , 0.59 , 0.475,\n",
       "       0.57 , 0.545, 0.57 , 0.5  , 0.485, 0.605, 0.59 , 0.525, 0.525,\n",
       "       0.52 , 0.59 , 0.52 , 0.525])"
      ]
     },
     "execution_count": 46,
     "metadata": {},
     "output_type": "execute_result"
    }
   ],
   "source": [
    "# Validation scores for KNN\n",
    "KNN_model2.cv_results_['mean_test_score']"
   ]
  },
  {
   "cell_type": "code",
   "execution_count": 47,
   "metadata": {},
   "outputs": [
    {
     "data": {
      "text/plain": [
       "0.6050000000000001"
      ]
     },
     "execution_count": 47,
     "metadata": {},
     "output_type": "execute_result"
    }
   ],
   "source": [
    "# Best validation score for KNN\n",
    "KNN_model2.cv_results_['mean_test_score'][ np.argmin(KNN_model2.cv_results_['rank_test_score']) ]"
   ]
  },
  {
   "cell_type": "markdown",
   "metadata": {},
   "source": [
    "#### Train Best Models"
   ]
  },
  {
   "cell_type": "code",
   "execution_count": 48,
   "metadata": {},
   "outputs": [],
   "source": [
    "# Scale data for SVM\n",
    "Xsc_train2 = scaler.fit_transform(X_train2)\n",
    "Xsc_test2 = scaler.fit_transform(X_test2)"
   ]
  },
  {
   "cell_type": "code",
   "execution_count": 49,
   "metadata": {},
   "outputs": [
    {
     "name": "stdout",
     "output_type": "stream",
     "text": [
      "Accuracy for LDA:  0.65625\n",
      "Accuracy for SVM:  0.5625\n",
      "Accuracy for KNN:  0.40625\n"
     ]
    }
   ],
   "source": [
    "# Best LDA\n",
    "best_LDA_model2 = LinearDiscriminantAnalysis(solver='svd')\n",
    "best_LDA_model2.fit(X_train2, y_train2)\n",
    "\n",
    "# Best SVM\n",
    "best_SVM_model2 = SVC(C=0.1, kernel='linear', max_iter=-1, random_state=None,verbose=False)\n",
    "best_SVM_model2.fit(Xsc_train2, y_train2)\n",
    "\n",
    "# Best KNN\n",
    "best_KNN_model2 = KNeighborsClassifier(n_neighbors=9, p=1,weights='uniform') \n",
    "best_KNN_model2.fit(X_train2, y_train2)\n",
    "\n",
    "# Predictions and accuracy scores\n",
    "y_pred_LDA2 = best_LDA_model2.predict(X_test2)\n",
    "y_pred_SVM2 = best_SVM_model2.predict(Xsc_test2)\n",
    "y_pred_KNN2 = best_KNN_model2.predict(X_test2)\n",
    "\n",
    "accuracy_LDA2 = accuracy_score(y_pred_LDA2, y_test2)\n",
    "accuracy_SVM2 = accuracy_score(y_pred_SVM2, y_test2)\n",
    "accuracy_KNN2 = accuracy_score(y_pred_KNN2, y_test2)\n",
    "\n",
    "print(\"Accuracy for LDA: \", accuracy_LDA2)\n",
    "print(\"Accuracy for SVM: \", accuracy_SVM2)\n",
    "print(\"Accuracy for KNN: \", accuracy_KNN2)"
   ]
  },
  {
   "cell_type": "markdown",
   "metadata": {},
   "source": [
    "### 50/50 Split"
   ]
  },
  {
   "cell_type": "code",
   "execution_count": 50,
   "metadata": {},
   "outputs": [
    {
     "name": "stdout",
     "output_type": "stream",
     "text": [
      "X_train3:  (40, 2)\n",
      "y_train3:  (40,)\n"
     ]
    }
   ],
   "source": [
    "X_train3, X_test3, y_train3, y_test3 = train_test_split(X, Y, test_size=0.50, random_state=42)\n",
    "\n",
    "print(\"X_train3: \", X_train3.shape)\n",
    "print(\"y_train3: \", y_train3.shape)"
   ]
  },
  {
   "cell_type": "code",
   "execution_count": 55,
   "metadata": {},
   "outputs": [],
   "source": [
    "# Linear Discriminant Analysis\n",
    "pipe_LDA = Pipeline([('classifier', LinearDiscriminantAnalysis())])\n",
    "search_space1 = [{'classifier': [LinearDiscriminantAnalysis()],\n",
    "                 'classifier__solver': ['svd', 'lsqr', 'eigen']}]\n",
    "# Create grid search \n",
    "clf = GridSearchCV(pipe_LDA, search_space1, cv=StratifiedKFold(n_splits=10), \n",
    "                   scoring='accuracy', refit=True,\n",
    "                   verbose=0)\n",
    "\n",
    "# Fit grid search\n",
    "LDA_model3 = clf.fit(X_train3, y_train3)\n",
    "\n",
    "\n",
    "\n",
    "# SVM\n",
    "pipe_SVC = Pipeline([('std', StandardScaler()),\n",
    "                    ('classifier', SVC())])\n",
    "search_space2 = [{'classifier': [SVC()],\n",
    "                 'classifier__kernel': ['linear'],\n",
    "                 'classifier__C': np.logspace(-4, 4, 9)}]\n",
    "# Create grid search \n",
    "clf2 = GridSearchCV(pipe_SVC, search_space2, cv=StratifiedKFold(n_splits=10), \n",
    "                   scoring='accuracy', refit=True,\n",
    "                   verbose=0)\n",
    "\n",
    "# Fit grid search\n",
    "SVC_model3 = clf2.fit(X_train3, y_train3)\n",
    "\n",
    "\n",
    "\n",
    "# KNN\n",
    "pipe_KNN = Pipeline([('classifier', KNeighborsClassifier())])\n",
    "search_space3 = [{'classifier': [KNeighborsClassifier()],\n",
    "                 'classifier__weights': ['uniform', 'distance'],\n",
    "                 'classifier__n_neighbors': [i for i in range(1,11)],\n",
    "                 'classifier__p': [1, 2]\n",
    "                }]\n",
    "# Create grid search \n",
    "clf3 = GridSearchCV(pipe_KNN, search_space3, cv=StratifiedKFold(n_splits=10), \n",
    "                   scoring='accuracy', refit=True,\n",
    "                   verbose=0)\n",
    "\n",
    "# Fit grid search\n",
    "KNN_model3 = clf3.fit(X_train3, y_train3)"
   ]
  },
  {
   "cell_type": "code",
   "execution_count": 56,
   "metadata": {},
   "outputs": [
    {
     "data": {
      "text/plain": [
       "{'classifier': LinearDiscriminantAnalysis(), 'classifier__solver': 'svd'}"
      ]
     },
     "execution_count": 56,
     "metadata": {},
     "output_type": "execute_result"
    }
   ],
   "source": [
    "# Best hyperparameters for LDA\n",
    "LDA_model3.cv_results_['params'][ np.argmin(LDA_model3.cv_results_['rank_test_score']) ]"
   ]
  },
  {
   "cell_type": "code",
   "execution_count": 57,
   "metadata": {},
   "outputs": [
    {
     "data": {
      "text/plain": [
       "{'classifier': SVC(C=0.1, kernel='linear'),\n",
       " 'classifier__C': 0.1,\n",
       " 'classifier__kernel': 'linear'}"
      ]
     },
     "execution_count": 57,
     "metadata": {},
     "output_type": "execute_result"
    }
   ],
   "source": [
    "# Best hyperparameters for SVM\n",
    "SVC_model3.cv_results_['params'][ np.argmin(SVC_model3.cv_results_['rank_test_score']) ]"
   ]
  },
  {
   "cell_type": "code",
   "execution_count": 58,
   "metadata": {},
   "outputs": [
    {
     "data": {
      "text/plain": [
       "{'classifier': KNeighborsClassifier(n_neighbors=1, p=1),\n",
       " 'classifier__n_neighbors': 1,\n",
       " 'classifier__p': 1,\n",
       " 'classifier__weights': 'uniform'}"
      ]
     },
     "execution_count": 58,
     "metadata": {},
     "output_type": "execute_result"
    }
   ],
   "source": [
    "# Best hyperparameters for KNN\n",
    "KNN_model3.cv_results_['params'][ np.argmin(KNN_model3.cv_results_['rank_test_score']) ]"
   ]
  },
  {
   "cell_type": "code",
   "execution_count": 59,
   "metadata": {},
   "outputs": [
    {
     "data": {
      "text/plain": [
       "array([0.6, 0.6, 0.6])"
      ]
     },
     "execution_count": 59,
     "metadata": {},
     "output_type": "execute_result"
    }
   ],
   "source": [
    "# Validation scores for LDA\n",
    "LDA_model3.cv_results_['mean_test_score']"
   ]
  },
  {
   "cell_type": "code",
   "execution_count": 60,
   "metadata": {},
   "outputs": [
    {
     "data": {
      "text/plain": [
       "0.6"
      ]
     },
     "execution_count": 60,
     "metadata": {},
     "output_type": "execute_result"
    }
   ],
   "source": [
    "# Best validation score for LDA\n",
    "LDA_model3.cv_results_['mean_test_score'][ np.argmin(LDA_model3.cv_results_['rank_test_score']) ]"
   ]
  },
  {
   "cell_type": "code",
   "execution_count": 61,
   "metadata": {},
   "outputs": [
    {
     "data": {
      "text/plain": [
       "array([0.575, 0.575, 0.575, 0.625, 0.625, 0.625, 0.625, 0.625, 0.625])"
      ]
     },
     "execution_count": 61,
     "metadata": {},
     "output_type": "execute_result"
    }
   ],
   "source": [
    "# Validation scores for SVM\n",
    "SVC_model3.cv_results_['mean_test_score']"
   ]
  },
  {
   "cell_type": "code",
   "execution_count": 62,
   "metadata": {},
   "outputs": [
    {
     "data": {
      "text/plain": [
       "0.625"
      ]
     },
     "execution_count": 62,
     "metadata": {},
     "output_type": "execute_result"
    }
   ],
   "source": [
    "# Best validation score for SVM\n",
    "SVC_model3.cv_results_['mean_test_score'][ np.argmin(SVC_model3.cv_results_['rank_test_score']) ]"
   ]
  },
  {
   "cell_type": "code",
   "execution_count": 63,
   "metadata": {},
   "outputs": [
    {
     "data": {
      "text/plain": [
       "array([0.65 , 0.65 , 0.575, 0.575, 0.425, 0.65 , 0.425, 0.575, 0.45 ,\n",
       "       0.475, 0.475, 0.55 , 0.475, 0.575, 0.45 , 0.425, 0.5  , 0.575,\n",
       "       0.475, 0.575, 0.425, 0.575, 0.5  , 0.55 , 0.475, 0.575, 0.5  ,\n",
       "       0.55 , 0.55 , 0.575, 0.475, 0.55 , 0.5  , 0.575, 0.5  , 0.575,\n",
       "       0.4  , 0.525, 0.475, 0.575])"
      ]
     },
     "execution_count": 63,
     "metadata": {},
     "output_type": "execute_result"
    }
   ],
   "source": [
    "# Validation scores for KNN\n",
    "KNN_model3.cv_results_['mean_test_score']"
   ]
  },
  {
   "cell_type": "code",
   "execution_count": 64,
   "metadata": {},
   "outputs": [
    {
     "data": {
      "text/plain": [
       "0.65"
      ]
     },
     "execution_count": 64,
     "metadata": {},
     "output_type": "execute_result"
    }
   ],
   "source": [
    "# Best validation score for KNN\n",
    "KNN_model3.cv_results_['mean_test_score'][ np.argmin(KNN_model2.cv_results_['rank_test_score']) ]"
   ]
  },
  {
   "cell_type": "markdown",
   "metadata": {},
   "source": [
    "#### Train Best Models"
   ]
  },
  {
   "cell_type": "code",
   "execution_count": 65,
   "metadata": {},
   "outputs": [],
   "source": [
    "# Scale data for SVM\n",
    "Xsc_train3 = scaler.fit_transform(X_train3)\n",
    "Xsc_test3 = scaler.fit_transform(X_test3)"
   ]
  },
  {
   "cell_type": "code",
   "execution_count": 66,
   "metadata": {},
   "outputs": [
    {
     "name": "stdout",
     "output_type": "stream",
     "text": [
      "Accuracy for LDA:  0.65\n",
      "Accuracy for SVM:  0.525\n",
      "Accuracy for KNN:  0.55\n"
     ]
    }
   ],
   "source": [
    "# Best LDA\n",
    "best_LDA_model3 = LinearDiscriminantAnalysis(solver='svd')\n",
    "best_LDA_model3.fit(X_train3, y_train3)\n",
    "\n",
    "# Best SVM\n",
    "best_SVM_model3 = SVC(C=0.1, kernel='linear', max_iter=-1, random_state=None,verbose=False)\n",
    "best_SVM_model3.fit(Xsc_train3, y_train3)\n",
    "\n",
    "# Best KNN\n",
    "best_KNN_model3 = KNeighborsClassifier(n_neighbors=1, p=1,weights='uniform') \n",
    "best_KNN_model3.fit(X_train3, y_train3)\n",
    "\n",
    "# Predictions and accuracy scores\n",
    "y_pred_LDA3 = best_LDA_model3.predict(X_test3)\n",
    "y_pred_SVM3 = best_SVM_model3.predict(Xsc_test3)\n",
    "y_pred_KNN3 = best_KNN_model3.predict(X_test3)\n",
    "\n",
    "accuracy_LDA3 = accuracy_score(y_pred_LDA3, y_test3)\n",
    "accuracy_SVM3 = accuracy_score(y_pred_SVM3, y_test3)\n",
    "accuracy_KNN3 = accuracy_score(y_pred_KNN3, y_test3)\n",
    "\n",
    "print(\"Accuracy for LDA: \", accuracy_LDA3)\n",
    "print(\"Accuracy for SVM: \", accuracy_SVM3)\n",
    "print(\"Accuracy for KNN: \", accuracy_KNN3)"
   ]
  },
  {
   "cell_type": "markdown",
   "metadata": {},
   "source": [
    "### Discussion for Machine Learning Segment"
   ]
  },
  {
   "cell_type": "markdown",
   "metadata": {},
   "source": [
    " - Everything went pretty well in this portion\n",
    " - The classifiers may have learned the wrong features based off of the data, so it might be predicting weirdly\n",
    " - Wrong features because data didn't support literature where alpha should be higher for eyes closed than eyes open\n",
    " - If the alpha powers in this data matched literature, then the classifier might have performed better and learned correct features, accuracy might have been higher\n",
    " - One extension I would have wanted to implement is leave-one-out cross validation\n",
    " - I implemented different splits of data to see if the classifiers would perform better based on the amount of training and testing data, and I also implemented a higher number of validation splits(usually 5 splits) for this purpose, as the dataset we ended up with was a little small.\n",
    " - Maybe leave-one-out cross validation would provide more unbiased results, but it could result in much higher variance in the validation scores, causing us to maybe go down a different path in terms of hyperparameters and models. \n",
    " - Data that matches most literature would also be another improvement"
   ]
  }
 ],
 "metadata": {
  "kernelspec": {
   "display_name": "Python 3",
   "language": "python",
   "name": "python3"
  },
  "language_info": {
   "codemirror_mode": {
    "name": "ipython",
    "version": 3
   },
   "file_extension": ".py",
   "mimetype": "text/x-python",
   "name": "python",
   "nbconvert_exporter": "python",
   "pygments_lexer": "ipython3",
   "version": "3.7.3"
  }
 },
 "nbformat": 4,
 "nbformat_minor": 2
}
