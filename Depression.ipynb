{
 "cells": [
  {
   "cell_type": "markdown",
   "metadata": {},
   "source": [
    "\n",
    "# COGS 189: Depression\n",
    "\n",
    "## Overview\n",
    "In this project, we ______________.<br>\n",
    "\n",
    "### EEG Data\n",
    "For this dataset, we will be using data collected from James F. Cavanagh & John J.B.Allen's Depression Rest (d003) located at the following URL: http://predict.cs.unm.edu/downloads.php.\n",
    "<br>\n",
    "***\n",
    "## Section 1: Setup\n",
    "We will be importing the following packages: <br>\n",
    "- numpy\n",
    "- scipy\n",
    "- matplotlib\n",
    "- seaborn\n",
    "- pandas"
   ]
  },
  {
   "cell_type": "code",
   "execution_count": 1,
   "metadata": {},
   "outputs": [],
   "source": [
    "import numpy as np                                      # for dealing with data\n",
    "from scipy.signal import butter, sosfiltfilt, sosfreqz  # for filtering\n",
    "from scipy.io import loadmat                            # for importing matlab files\n",
    "import matplotlib.pyplot as plt                         # for plotting\n",
    "import seaborn as sns                                   # for visualization\n",
    "import pandas as pd                                     # for importing datasets and handling data"
   ]
  },
  {
   "cell_type": "markdown",
   "metadata": {},
   "source": [
    "***\n",
    "## Section 2: Data Cleaning\n",
    "The dataset we used was broken down into individual MATLAB (.mat) files for each participant. We used MATLAB to convert the files into Comma-separated value (.csv) format. We decided to keep only the EEG data and times for each participant. The files are named according to the participant ID. EEG data files are named only by the participant ID (e.g., \"509.csv\"), EEG times files have 't' appended to the filename (e.g., \"509t.csv\")."
   ]
  },
  {
   "cell_type": "code",
   "execution_count": 2,
   "metadata": {},
   "outputs": [],
   "source": [
    "data_df = pd.read_csv('Data/509_data_6.csv')\n",
    "times_df = pd.read_csv('Data/509t.csv')"
   ]
  },
  {
   "cell_type": "markdown",
   "metadata": {},
   "source": [
    "Since each column in the EEG data corresponds to the columns in EEG times, we will use times_df as the column labels for data_df."
   ]
  },
  {
   "cell_type": "code",
   "execution_count": 3,
   "metadata": {},
   "outputs": [
    {
     "data": {
      "text/html": [
       "<div>\n",
       "<style scoped>\n",
       "    .dataframe tbody tr th:only-of-type {\n",
       "        vertical-align: middle;\n",
       "    }\n",
       "\n",
       "    .dataframe tbody tr th {\n",
       "        vertical-align: top;\n",
       "    }\n",
       "\n",
       "    .dataframe thead tr th {\n",
       "        text-align: left;\n",
       "    }\n",
       "</style>\n",
       "<table border=\"1\" class=\"dataframe\">\n",
       "  <thead>\n",
       "    <tr>\n",
       "      <th></th>\n",
       "      <th>0</th>\n",
       "      <th>2</th>\n",
       "      <th>4</th>\n",
       "      <th>6</th>\n",
       "      <th>8</th>\n",
       "      <th>10</th>\n",
       "      <th>12</th>\n",
       "      <th>14</th>\n",
       "      <th>16</th>\n",
       "      <th>18</th>\n",
       "      <th>...</th>\n",
       "      <th>506888</th>\n",
       "      <th>506890</th>\n",
       "      <th>506892</th>\n",
       "      <th>506894</th>\n",
       "      <th>506896</th>\n",
       "      <th>506898</th>\n",
       "      <th>506900</th>\n",
       "      <th>506902</th>\n",
       "      <th>506904</th>\n",
       "      <th>506906</th>\n",
       "    </tr>\n",
       "  </thead>\n",
       "  <tbody>\n",
       "    <tr>\n",
       "      <th>0</th>\n",
       "      <td>-42.48284</td>\n",
       "      <td>-46.31948</td>\n",
       "      <td>-51.36037</td>\n",
       "      <td>-54.47553</td>\n",
       "      <td>-54.11464</td>\n",
       "      <td>-53.90202</td>\n",
       "      <td>-54.85407</td>\n",
       "      <td>-54.40303</td>\n",
       "      <td>-53.71802</td>\n",
       "      <td>-54.37649</td>\n",
       "      <td>...</td>\n",
       "      <td>0</td>\n",
       "      <td>0</td>\n",
       "      <td>0</td>\n",
       "      <td>0</td>\n",
       "      <td>0.0000</td>\n",
       "      <td>9.71704</td>\n",
       "      <td>0.000000</td>\n",
       "      <td>0.000000</td>\n",
       "      <td>0.00</td>\n",
       "      <td>2.452983</td>\n",
       "    </tr>\n",
       "    <tr>\n",
       "      <th>1</th>\n",
       "      <td>48.48675</td>\n",
       "      <td>44.48138</td>\n",
       "      <td>42.58455</td>\n",
       "      <td>43.28513</td>\n",
       "      <td>44.06726</td>\n",
       "      <td>41.55170</td>\n",
       "      <td>39.44033</td>\n",
       "      <td>42.32360</td>\n",
       "      <td>43.60525</td>\n",
       "      <td>40.57979</td>\n",
       "      <td>...</td>\n",
       "      <td>0</td>\n",
       "      <td>0</td>\n",
       "      <td>0</td>\n",
       "      <td>0</td>\n",
       "      <td>0.0000</td>\n",
       "      <td>0.00000</td>\n",
       "      <td>0.000148</td>\n",
       "      <td>9.717040</td>\n",
       "      <td>0.00</td>\n",
       "      <td>0.000000</td>\n",
       "    </tr>\n",
       "    <tr>\n",
       "      <th>2</th>\n",
       "      <td>-65.25048</td>\n",
       "      <td>-66.15553</td>\n",
       "      <td>-68.49241</td>\n",
       "      <td>-71.37434</td>\n",
       "      <td>-73.33966</td>\n",
       "      <td>-73.69581</td>\n",
       "      <td>-73.61456</td>\n",
       "      <td>-74.31854</td>\n",
       "      <td>-74.32522</td>\n",
       "      <td>-72.89500</td>\n",
       "      <td>...</td>\n",
       "      <td>0</td>\n",
       "      <td>0</td>\n",
       "      <td>0</td>\n",
       "      <td>0</td>\n",
       "      <td>2617.4090</td>\n",
       "      <td>0.00000</td>\n",
       "      <td>0.000000</td>\n",
       "      <td>0.709918</td>\n",
       "      <td>46527.58</td>\n",
       "      <td>2.116113</td>\n",
       "    </tr>\n",
       "    <tr>\n",
       "      <th>3</th>\n",
       "      <td>16.57424</td>\n",
       "      <td>15.38467</td>\n",
       "      <td>14.22920</td>\n",
       "      <td>12.94236</td>\n",
       "      <td>12.76103</td>\n",
       "      <td>12.58444</td>\n",
       "      <td>12.35581</td>\n",
       "      <td>12.87979</td>\n",
       "      <td>12.28286</td>\n",
       "      <td>10.40160</td>\n",
       "      <td>...</td>\n",
       "      <td>0</td>\n",
       "      <td>0</td>\n",
       "      <td>0</td>\n",
       "      <td>0</td>\n",
       "      <td>175.3732</td>\n",
       "      <td>34314.64000</td>\n",
       "      <td>0.000000</td>\n",
       "      <td>2.812390</td>\n",
       "      <td>0.00</td>\n",
       "      <td>0.000000</td>\n",
       "    </tr>\n",
       "    <tr>\n",
       "      <th>4</th>\n",
       "      <td>-120.97400</td>\n",
       "      <td>-123.59530</td>\n",
       "      <td>-128.45940</td>\n",
       "      <td>-130.62880</td>\n",
       "      <td>-130.72660</td>\n",
       "      <td>-132.59780</td>\n",
       "      <td>-135.11340</td>\n",
       "      <td>-134.28500</td>\n",
       "      <td>-128.96830</td>\n",
       "      <td>-124.42780</td>\n",
       "      <td>...</td>\n",
       "      <td>0</td>\n",
       "      <td>0</td>\n",
       "      <td>0</td>\n",
       "      <td>0</td>\n",
       "      <td>0.0000</td>\n",
       "      <td>0.00000</td>\n",
       "      <td>0.000000</td>\n",
       "      <td>0.000000</td>\n",
       "      <td>0.00</td>\n",
       "      <td>0.000000</td>\n",
       "    </tr>\n",
       "  </tbody>\n",
       "</table>\n",
       "<p>5 rows × 253454 columns</p>\n",
       "</div>"
      ],
      "text/plain": [
       "           0          2          4          6          8         10  \\\n",
       "0  -42.48284  -46.31948  -51.36037  -54.47553  -54.11464  -53.90202   \n",
       "1   48.48675   44.48138   42.58455   43.28513   44.06726   41.55170   \n",
       "2  -65.25048  -66.15553  -68.49241  -71.37434  -73.33966  -73.69581   \n",
       "3   16.57424   15.38467   14.22920   12.94236   12.76103   12.58444   \n",
       "4 -120.97400 -123.59530 -128.45940 -130.62880 -130.72660 -132.59780   \n",
       "\n",
       "          12         14         16         18  ... 506888 506890 506892  \\\n",
       "0  -54.85407  -54.40303  -53.71802  -54.37649  ...      0      0      0   \n",
       "1   39.44033   42.32360   43.60525   40.57979  ...      0      0      0   \n",
       "2  -73.61456  -74.31854  -74.32522  -72.89500  ...      0      0      0   \n",
       "3   12.35581   12.87979   12.28286   10.40160  ...      0      0      0   \n",
       "4 -135.11340 -134.28500 -128.96830 -124.42780  ...      0      0      0   \n",
       "\n",
       "  506894     506896       506898    506900    506902    506904    506906  \n",
       "0      0     0.0000      9.71704  0.000000  0.000000      0.00  2.452983  \n",
       "1      0     0.0000      0.00000  0.000148  9.717040      0.00  0.000000  \n",
       "2      0  2617.4090      0.00000  0.000000  0.709918  46527.58  2.116113  \n",
       "3      0   175.3732  34314.64000  0.000000  2.812390      0.00  0.000000  \n",
       "4      0     0.0000      0.00000  0.000000  0.000000      0.00  0.000000  \n",
       "\n",
       "[5 rows x 253454 columns]"
      ]
     },
     "execution_count": 3,
     "metadata": {},
     "output_type": "execute_result"
    }
   ],
   "source": [
    "data_df.columns=[times_df]\n",
    "\n",
    "data_df.head()"
   ]
  },
  {
   "cell_type": "code",
   "execution_count": null,
   "metadata": {},
   "outputs": [],
   "source": []
  },
  {
   "cell_type": "markdown",
   "metadata": {},
   "source": [
    "***\n",
    "## Section 3: Data Filtering\n",
    "In this section, we focus on reformatting and processing the data so that we can have an array of alpha powers for each participant as well as a label (1 if depressed and 0 if otherwise) to signify if a participant was labelled as depressed or not depending on their Beck Depression Test score (> 13)."
   ]
  },
  {
   "cell_type": "markdown",
   "metadata": {},
   "source": [
    "First, we read in each participant's EEG data as a .csv file (e.g. 509_data.csv) and convert it to a dataframe to process the data later on. We also load in the data for the EEG channels for each person (e.g. participant 509c.csv) and the event timestamps for the participant (e.g. 509e.csv)."
   ]
  },
  {
   "cell_type": "code",
   "execution_count": null,
   "metadata": {},
   "outputs": [],
   "source": [
    "num = '509'\n",
    "data_t = pd.read_csv('Data/' + num +'_data.csv')\n",
    "channels = pd.read_csv('Data/' + num + 'c.csv')\n",
    "events = pd.read_csv('Data/' + num + 'e.csv')\n",
    "events['type'] = events['type'].astype(str)"
   ]
  },
  {
   "cell_type": "code",
   "execution_count": null,
   "metadata": {},
   "outputs": [],
   "source": [
    "data_t"
   ]
  },
  {
   "cell_type": "markdown",
   "metadata": {},
   "source": [
    "Participants were directed to keep their eyes open and close their eyes in ~33 seconds. The events included types 1 to 6 and 11 to 16, where triggers were produced at types 11 to 16. In order to filter the data we will only look at types 11, 13, 15  for events with eyes closed and types 12, 14, 16 for events with open eyes."
   ]
  },
  {
   "cell_type": "code",
   "execution_count": null,
   "metadata": {},
   "outputs": [],
   "source": [
    "eyes_closed = [ '11', '13', '15']\n",
    "eyes_open = ['12', '14', '16']\n",
    "fs = 500"
   ]
  },
  {
   "cell_type": "markdown",
   "metadata": {},
   "source": [
    "The types of events represent the state of the participant(eyes closed/open) and latency indicates the time stamp corresponding for each event. Using the time in events we retrieved the corresponding data for O1, Oz, O2 electrodes for eyes closed or open."
   ]
  },
  {
   "cell_type": "code",
   "execution_count": null,
   "metadata": {},
   "outputs": [],
   "source": [
    "#Get relevent data from events\n",
    "#TAs code\n",
    "\n",
    "#eyes closed\n",
    "dataset_closed_0 = []\n",
    "dataset_closed_1 = []\n",
    "dataset_closed_2 = []\n",
    "\n",
    "for e in range(1, len(events)):\n",
    "    if events['type'][e] in eyes_closed:\n",
    "        time = int(events['latency'][e])\n",
    "        if time % 2 == 1:\n",
    "            time = time - 1\n",
    "        \n",
    "        loc_1 = data_t.columns.get_loc(str(time))\n",
    "        \n",
    "        dataset_closed_0.append(data_t.iloc[0, loc_1])\n",
    "        dataset_closed_0.append(data_t.iloc[1, loc_1])\n",
    "        dataset_closed_0.append(data_t.iloc[2, loc_1])\n",
    "        \n",
    "\n",
    "#eyes open\n",
    "dataset_open_0 = []\n",
    "dataset_open_1 = []\n",
    "dataset_open_2 = []\n",
    "\n",
    "for e in range(1, len(events)):\n",
    "    if events['type'][e] in eyes_open:\n",
    "        time = int(events['latency'][e])\n",
    "        if time % 2 == 1:\n",
    "            time = time - 1\n",
    "        \n",
    "        loc_1 = data_t.columns.get_loc(str(time))\n",
    "        \n",
    "        dataset_open_0.append(data_t.iloc[0, loc_1])\n",
    "        dataset_open_0.append(data_t.iloc[1, loc_1])\n",
    "        dataset_open_0.append(data_t.iloc[2, loc_1])\n",
    "        "
   ]
  },
  {
   "cell_type": "markdown",
   "metadata": {},
   "source": [
    "Next, we will plot the raw data for the events where participants closed their eyes and opened their eyes. On the x-axis, we have the data samples for the EEG waves recorded and on the y-axis, we have the amplitude of the EEG waves."
   ]
  },
  {
   "cell_type": "code",
   "execution_count": null,
   "metadata": {},
   "outputs": [],
   "source": [
    "closed_data = dataset_closed_0\n",
    "open_data = dataset_open_0"
   ]
  },
  {
   "cell_type": "code",
   "execution_count": null,
   "metadata": {},
   "outputs": [],
   "source": [
    "#Eyes closed\n",
    "a = np.transpose(closed_data)\n",
    "plt.plot(a, label = \"raw eeg\", color='navy');\n",
    "plt.xlabel('Samples');\n",
    "plt.ylabel('Amplitude (uV)');\n",
    "plt.grid(True);\n",
    "plt.legend(loc = 'best');"
   ]
  },
  {
   "cell_type": "code",
   "execution_count": null,
   "metadata": {},
   "outputs": [],
   "source": [
    "#Open Eyes\n",
    "a = np.transpose(open_data)\n",
    "plt.plot(a, label = \"raw eeg\", color='limegreen');\n",
    "plt.xlabel('Samples');\n",
    "plt.ylabel('Amplitude (uV)');\n",
    "plt.grid(True);\n",
    "plt.legend(loc = 'best');"
   ]
  },
  {
   "cell_type": "markdown",
   "metadata": {},
   "source": [
    "Then, we attempted to analyze the data using Fourier Transforms in order to calculate the mean band powers for theta, alpha, beta, and gamma. By getting the values after the Fourier Transformation, we were able to obtain the frequencies at which the events occurred and then look for the values that were within 8 to 12Hz in order to extract the average alpha power for each participant during the events with their eyes closed and eyes open."
   ]
  },
  {
   "cell_type": "code",
   "execution_count": null,
   "metadata": {},
   "outputs": [],
   "source": [
    "data = closed_data\n",
    "\n",
    "# Get real amplitudes of FFT (only in postive frequencies)\n",
    "fft_vals = np.absolute(np.fft.rfft(data))\n",
    "# Get frequencies for amplitudes in Hz\n",
    "fft_freq = np.fft.rfftfreq(len(closed_data), 1/fs)\n",
    "\n",
    "\n",
    "# Define EEG bands\n",
    "eeg_bands = {'Theta': (4, 8),\n",
    "             'Alpha': (8, 12),\n",
    "             'Beta': (12, 30),\n",
    "             'Gamma': (30, 45)}\n",
    "\n",
    "# Take the max of the fft amplitude for each EEG band\n",
    "eeg_band_fft = dict()\n",
    "for band in eeg_bands: \n",
    "    try:\n",
    "        freq_ix = np.where((fft_freq >= eeg_bands[band][0]) & (fft_freq < eeg_bands[band][1]))[0]\n",
    "        eeg_band_fft[band] = np.mean(fft_vals[freq_ix])\n",
    "    except ValueError:  #raised if `y` is empty.\n",
    "        print(\"entered\")\n",
    "        pass\n",
    "\n",
    "data = open_data\n",
    "\n",
    "# Get real amplitudes of FFT (only in postive frequencies)\n",
    "fft_vals = np.absolute(np.fft.rfft(data))\n",
    "# Get frequencies for amplitudes in Hz\n",
    "fft_freq = np.fft.rfftfreq(len(data), 1.0/fs)\n",
    "\n",
    "# Take the max of the fft amplitude for each EEG band\n",
    "eeg_band_fft_open = dict()\n",
    "for band in eeg_bands: \n",
    "    try:\n",
    "        freq_ix = np.where((fft_freq >= eeg_bands[band][0]) & (fft_freq < eeg_bands[band][1]))[0]\n",
    "        eeg_band_fft_open[band] = np.mean(fft_vals[freq_ix])\n",
    "    except ValueError:  #raised if `y` is empty.\n",
    "        print(\"entered\")\n",
    "        pass\n",
    "\n"
   ]
  },
  {
   "cell_type": "code",
   "execution_count": null,
   "metadata": {},
   "outputs": [],
   "source": [
    "# Plot the data \n",
    "df = pd.DataFrame(columns=['band', 'val'])\n",
    "df['band'] = eeg_bands.keys()\n",
    "df['val'] = [eeg_band_fft[band] for band in eeg_bands]\n",
    "ax = df.plot.bar(x='band', y='val', legend=False, color='navy')\n",
    "ax.set_xlabel(\"Closed\")\n",
    "ax.set_ylabel(\"Mean Band Amplitude\")\n",
    "\n",
    "df = pd.DataFrame(columns=['band', 'val'])\n",
    "df['band'] = eeg_bands.keys()\n",
    "df['val'] = [eeg_band_fft_open[band] for band in eeg_bands]\n",
    "ax = df.plot.bar(x='band', y='val', legend=False, color='limegreen')\n",
    "ax.set_xlabel(\"Open\")\n",
    "ax.set_ylabel(\"Mean Band Amplitude\")"
   ]
  },
  {
   "cell_type": "markdown",
   "metadata": {},
   "source": [
    "After filtering the data for all the participants our data has the following tendency. We included the number that participants had in the original procedure, eeg alpha data for eyes closed and open, and their depression state. In order to determine if the participant had a depression we used the BDI index where participants with BDI greater than 13 were labeled as depressed."
   ]
  },
  {
   "cell_type": "code",
   "execution_count": null,
   "metadata": {},
   "outputs": [],
   "source": [
    "fd = pd.read_csv('Data/Filtered_Data.csv')\n",
    "fd[:15]"
   ]
  },
  {
   "cell_type": "markdown",
   "metadata": {},
   "source": [
    "Below, the graph demonstrates that the participants have lower alpha values for events with their eyes closed than with events where their eyes are open. This is not the expected trend because alpha values should be much higher when the participants' eyes are closed."
   ]
  },
  {
   "cell_type": "code",
   "execution_count": null,
   "metadata": {},
   "outputs": [],
   "source": [
    "fd.plot(x='participant', y=['open','closed'],figsize=(20,10),color=['limegreen','navy'])\n",
    "\n",
    "plt.legend(title=\"Depressed\", fontsize=20, title_fontsize=20)"
   ]
  },
  {
   "cell_type": "markdown",
   "metadata": {},
   "source": [
    "Since the trend is unexpected for this participant, as the alpha power for the events where the participant's eyes were open was higher than the alpha power for the events where their eyes were closed, we chose to inject a sine wave at a frequency of 10Hz and perform Fourier Transformation on this wave in order to demonstrate what the data should look like. The ideal data should have had higher alpha powers for events with closed eyes than events with opened eyes."
   ]
  },
  {
   "cell_type": "code",
   "execution_count": null,
   "metadata": {},
   "outputs": [],
   "source": [
    "F = 10\n",
    "T = 10/F\n",
    "Fs = 5000\n",
    "Ts = 1./Fs\n",
    "N = int(T/Ts)\n",
    "\n",
    "t = np.linspace(0, T, N)\n",
    "signal = np.sin(2*np.pi*F*t)\n",
    "\n",
    "plt.plot(t, signal)\n",
    "plt.show()"
   ]
  },
  {
   "cell_type": "code",
   "execution_count": null,
   "metadata": {},
   "outputs": [],
   "source": [
    "data = signal\n",
    "\n",
    "# Get real amplitudes of FFT (only in postive frequencies)\n",
    "fft_vals = np.absolute(np.fft.rfft(data))\n",
    "# Get frequencies for amplitudes in Hz\n",
    "fft_freq = np.fft.rfftfreq(len(signal), 1/Fs)\n",
    "\n",
    "\n",
    "# Define EEG bands\n",
    "eeg_bands = {'Theta': (4, 8),\n",
    "             'Alpha': (8, 12),\n",
    "             'Beta': (12, 30),\n",
    "             'Gamma': (30, 45)}\n",
    "\n",
    "# Take the max of the fft amplitude for each EEG band\n",
    "eeg_band_fft = dict()\n",
    "for band in eeg_bands: \n",
    "    try:\n",
    "        freq_ix = np.where((fft_freq >= eeg_bands[band][0]) & (fft_freq < eeg_bands[band][1]))[0]\n",
    "        eeg_band_fft[band] = np.mean(fft_vals[freq_ix])\n",
    "    except ValueError:  #raised if `y` is empty.\n",
    "        print(\"entered\")\n",
    "        pass"
   ]
  },
  {
   "cell_type": "markdown",
   "metadata": {},
   "source": [
    "As the plot demonstrates below, the alpha power is much higher and this is what the expected trend should look like."
   ]
  },
  {
   "cell_type": "code",
   "execution_count": null,
   "metadata": {},
   "outputs": [],
   "source": [
    "# Plot the data \n",
    "df = pd.DataFrame(columns=['band', 'val'])\n",
    "df['band'] = eeg_bands.keys()\n",
    "df['val'] = [eeg_band_fft[band] for band in eeg_bands]\n",
    "ax = df.plot.bar(x='band', y='val', legend=False)\n",
    "ax.set_xlabel(\"Closed\")\n",
    "ax.set_ylabel(\"Mean band Amplitude\")"
   ]
  },
  {
   "cell_type": "code",
   "execution_count": null,
   "metadata": {},
   "outputs": [],
   "source": []
  }
 ],
 "metadata": {
  "kernelspec": {
   "display_name": "Python 3",
   "language": "python",
   "name": "python3"
  },
  "language_info": {
   "codemirror_mode": {
    "name": "ipython",
    "version": 3
   },
   "file_extension": ".py",
   "mimetype": "text/x-python",
   "name": "python",
   "nbconvert_exporter": "python",
   "pygments_lexer": "ipython3",
   "version": "3.7.3"
  }
 },
 "nbformat": 4,
 "nbformat_minor": 2
}
